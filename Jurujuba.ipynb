{
  "nbformat": 4,
  "nbformat_minor": 0,
  "metadata": {
    "colab": {
      "provenance": [],
      "collapsed_sections": [
        "J7bhRuy-l-_m",
        "SSd3qD-u4xy0",
        "wBSDCjbG9or4",
        "UIKVFTef9w2P",
        "8dCmm6zH92dZ",
        "N1jBe8co-T5_",
        "wQDk8txh_emc",
        "Y2ZO1kPi9RVU",
        "QfKRyrOCPrBb",
        "T0-G3hxhYTsA",
        "Na3jhbb7ZPoV",
        "fEQbyeQnZPoW",
        "-dwpe_xXZ7pd",
        "UA3yB7yhZ7pe",
        "xuept_ELack5",
        "nn26WgpjghiL",
        "qcD6rTxgglux",
        "6AJMO4vGgoHs",
        "7xWp-eV-0Q-I",
        "czXCRjYIf5pH",
        "ef0h9pZlhX-y",
        "mgR1qYdcvWU9",
        "tXBzpT1YvYBM",
        "eSeEyWEPmU8Z",
        "MlgiJnRrm5b3",
        "tUwql5uPm9ns",
        "Og_8YqrazkLF",
        "Eb9Th_JfzlxL",
        "apM9rZ3Tsyxn"
      ],
      "include_colab_link": true
    },
    "kernelspec": {
      "name": "python3",
      "display_name": "Python 3"
    },
    "language_info": {
      "name": "python"
    },
    "gpuClass": "standard"
  },
  "cells": [
    {
      "cell_type": "markdown",
      "metadata": {
        "id": "view-in-github",
        "colab_type": "text"
      },
      "source": [
        "<a href=\"https://colab.research.google.com/github/Leandro-Bernardo/Landside-monitoring-system/blob/main/Jurujuba.ipynb\" target=\"_parent\"><img src=\"https://colab.research.google.com/assets/colab-badge.svg\" alt=\"Open In Colab\"/></a>"
      ]
    },
    {
      "cell_type": "code",
      "execution_count": null,
      "metadata": {
        "id": "QMYjnJwwhaWz"
      },
      "outputs": [],
      "source": []
    },
    {
      "cell_type": "markdown",
      "metadata": {
        "id": "yUNZxioPuTNU"
      },
      "source": [
        "\n",
        "\n",
        "---\n",
        "\n",
        "\n",
        "#Visualização dos dados do MPU6050 e sensores de umidade\n",
        "\n"
      ]
    },
    {
      "cell_type": "markdown",
      "metadata": {
        "id": "e-HW4NrpoMhO"
      },
      "source": [
        "####Antes de executar o próximo passo você deve\n",
        "\n",
        "\n",
        "\n",
        "\n",
        "\n",
        "1.   Baixar o arquivo para analisar em https://drive.google.com/drive/folders/1CGCfwibPKUVhXzCQkeY_bW6fP8x7NedE\n",
        "2.   Adiconar o arquivo ao colab, para isso, veja o video https://www.youtube.com/watch?v=PtTEukfwAig&feature=youtu.be\n",
        "3. Dados de chuva baixados em http://www2.cemaden.gov.br/mapainterativo/#\n",
        "\n",
        "#### Canal dos testes pode ser visto em \n",
        "https://thingspeak.com/channels/1670099"
      ]
    },
    {
      "cell_type": "code",
      "execution_count": 1,
      "metadata": {
        "id": "LmOiRwbiyFHO"
      },
      "outputs": [],
      "source": [
        "#!pip install --upgrade plotly  ## É instalada a mais nova versã do Plotly Para ter gráficos interativos"
      ]
    },
    {
      "cell_type": "markdown",
      "source": [
        "### Codigo"
      ],
      "metadata": {
        "id": "J7bhRuy-l-_m"
      }
    },
    {
      "cell_type": "code",
      "source": [
        "from google.colab import drive\n",
        "drive.mount('/content/drive')"
      ],
      "metadata": {
        "id": "r4PDUFoGeX39",
        "outputId": "d3aa4f27-d421-4fbb-c3ca-769556144543",
        "colab": {
          "base_uri": "https://localhost:8080/"
        }
      },
      "execution_count": 1,
      "outputs": [
        {
          "output_type": "stream",
          "name": "stdout",
          "text": [
            "Mounted at /content/drive\n"
          ]
        }
      ]
    },
    {
      "cell_type": "code",
      "source": [
        "%cd '/content/drive/MyDrive/PDPA/Dados'"
      ],
      "metadata": {
        "id": "bhT_nJAbeV8_",
        "colab": {
          "base_uri": "https://localhost:8080/"
        },
        "outputId": "42f67fbe-f8d7-40ed-edf2-cf8d6377f5eb"
      },
      "execution_count": 2,
      "outputs": [
        {
          "output_type": "stream",
          "name": "stdout",
          "text": [
            "/content/drive/MyDrive/PDPA/Dados\n"
          ]
        }
      ]
    },
    {
      "cell_type": "code",
      "execution_count": 3,
      "metadata": {
        "id": "0xHxxKGvuQ5k"
      },
      "outputs": [],
      "source": [
        "#Carregar Bibliotecas\n",
        "import numpy as np\n",
        "import pandas as pd\n",
        "import plotly.express as px\n",
        "import matplotlib.pyplot as plt\n",
        "import math\n",
        "import plotly.graph_objects as go\n",
        "# import dash"
      ]
    },
    {
      "cell_type": "code",
      "execution_count": 4,
      "metadata": {
        "id": "GeEuPqabxvXT"
      },
      "outputs": [],
      "source": [
        "#Pedir ao pandas que mostre graficos no plotly\n",
        "pd.options.plotting.backend = \"plotly\""
      ]
    },
    {
      "cell_type": "code",
      "execution_count": 5,
      "metadata": {
        "id": "CLnwZokhq3zi"
      },
      "outputs": [],
      "source": [
        "#É lido o arquivo onde estão os dados\n",
        "dados3 = pd.read_csv(\"J3.csv\")\n",
        "dados2 = pd.read_csv(\"J2.csv\")\n",
        "dados1 = pd.read_csv(\"J1.csv\")\n",
        "dados1 = dados1.drop(dados1.columns[[9,10,11,12]], axis=1) #Elimina colunas com informações geograficas do experimento, neste caso não fornecidas pelo thingspeak, pelo que não contem infomração relevante.\n",
        "dados2 = dados2.drop(dados2.columns[[9,10,11,12]], axis=1) #Elimina colunas com informações geograficas do experimento, neste caso não fornecidas pelo thingspeak, pelo que não contem infomração relevante.\n",
        "dados3 = dados3.drop(dados3.columns[[9,10,11,12]], axis=1) #Elimina colunas com informações geograficas do experimento, neste caso não fornecidas pelo thingspeak, pelo que não contem infomração relevante."
      ]
    },
    {
      "cell_type": "code",
      "execution_count": 6,
      "metadata": {
        "id": "qOvxPrw4q8B6"
      },
      "outputs": [],
      "source": [
        "#Calcula o tempo\n",
        "def AjustarDataframe(dados):\n",
        "  dados['tempo']=pd.to_datetime(dados['created_at'])\n",
        "\n",
        "#Modifica os nomes das columnas\n",
        "  dados=dados.rename(columns={\"field1\":\"acelX\"})\n",
        "  dados=dados.rename(columns={\"field2\":\"acelY\"})\n",
        "  dados=dados.rename(columns={\"field3\":\"acelZ\"})\n",
        "  dados=dados.rename(columns={\"field4\":\"temperatura\"})\n",
        "  dados=dados.rename(columns={\"field5\":\"U1\"})\n",
        "  dados=dados.rename(columns={\"field6\":\"U2\"})\n",
        "  dados=dados.rename(columns={\"field7\":\"U3\"})\n",
        "  dados['ntemperatura']=dados['temperatura']/100  \n",
        "  dados['AceleraçãoX']=dados['acelX']*9.81/16384\n",
        "  dados['AceleraçãoY']=dados['acelY']*9.81/16384\n",
        "  dados['AceleraçãoZ']=dados['acelZ']*9.81/16384\n",
        "  return(dados)\n",
        "\n",
        "dados1 = AjustarDataframe(dados1)\n",
        "dados2 = AjustarDataframe(dados2)\n",
        "dados3 = AjustarDataframe(dados3)"
      ]
    },
    {
      "cell_type": "code",
      "source": [],
      "metadata": {
        "id": "Mc3VIzFvLeG8"
      },
      "execution_count": 6,
      "outputs": []
    },
    {
      "cell_type": "code",
      "execution_count": null,
      "metadata": {
        "id": "73qCDKk67ZBM"
      },
      "outputs": [],
      "source": [
        "display(dados1)"
      ]
    },
    {
      "cell_type": "code",
      "source": [
        "def EliminaExtremos(dados):\n",
        "\n",
        "  valelimina = 1023\n",
        "  vnovo = 10\n",
        "  dados.loc[dados['U1'] > valelimina,'U1']  = vnovo\n",
        "  dados.loc[dados['U2'] > valelimina,'U2']  = vnovo\n",
        "  dados.loc[dados['U3'] > valelimina,'U3']  = vnovo\n",
        "\n",
        "  valelimina = -1023\n",
        "  dados.loc[dados['U1'] < valelimina,'U1']  = vnovo\n",
        "  dados.loc[dados['U2'] < valelimina,'U2']  = vnovo\n",
        "  dados.loc[dados['U3'] < valelimina,'U3']  = vnovo\n",
        "\n",
        "  valelimina = -1\n",
        "  dados.loc[dados['U1'] == valelimina,'U1']  = vnovo\n",
        "  dados.loc[dados['U2'] == valelimina,'U2']  = vnovo\n",
        "  dados.loc[dados['U3'] == valelimina,'U3']  = vnovo\n",
        "  \n",
        "  valelimina = 0\n",
        "  vnovo = math.nan\n",
        "  vnovo = 0\n",
        "  dados.loc[dados['U1'] == valelimina,'U1']  = vnovo\n",
        "  dados.loc[dados['U2'] == valelimina,'U2']  = vnovo\n",
        "  dados.loc[dados['U3'] == valelimina,'U3']  = vnovo\n",
        "  return(dados)\n",
        "#ndados = (dados[dados['U1']!=3653])\n",
        "\n",
        "dados1 = EliminaExtremos(dados1)\n",
        "dados2 = EliminaExtremos(dados2)\n",
        "dados3 = EliminaExtremos(dados3)"
      ],
      "metadata": {
        "id": "a69DQNtKfuO6"
      },
      "execution_count": 8,
      "outputs": []
    },
    {
      "cell_type": "code",
      "source": [],
      "metadata": {
        "id": "EsdAfmvq4-Ht"
      },
      "execution_count": 8,
      "outputs": []
    },
    {
      "cell_type": "code",
      "source": [
        "\n",
        "fig2 = go.Figure()\n",
        "\n",
        "fig2.add_trace(go.Scatter(x=dados1['tempo'], y=dados1['U1'], mode='markers', name='J1_U1'))\n",
        "fig2.add_trace(go.Scatter(x=dados1['tempo'], y=dados1['U2'], mode='markers', name='J1_U2'))\n",
        "fig2.add_trace(go.Scatter(x=dados1['tempo'], y=dados1['U3'], mode='markers', name='J1_U3'))\n",
        "fig2.add_trace(go.Scatter(x=dados3['tempo'], y=dados3['U1'], mode='markers', name='J3_U1'))\n",
        "fig2.add_trace(go.Scatter(x=dados3['tempo'], y=dados3['U2'], mode='markers', name='J3_U2'))\n",
        "fig2.add_trace(go.Scatter(x=dados3['tempo'], y=dados3['U3'], mode='markers', name='J3_U3'))\n",
        "fig2.add_trace(go.Scatter(x=dados2['tempo'], y=dados2['U1'], mode='markers', name='J2_U1'))\n",
        "fig2.add_trace(go.Scatter(x=dados2['tempo'], y=dados2['U2'], mode='markers', name='J2_U2'))\n",
        "fig2.add_trace(go.Scatter(x=dados2['tempo'], y=dados2['U3'], mode='markers', name='J2_U3'))\n",
        "#fig2['data'][0]['line']['color']='rgb(255,0,0)'\n",
        "\n",
        "#Códigos para melhorar o grafico\n",
        "fig2.update_layout(template=\"plotly_white\")\n",
        "fig2.update_traces(line=dict(width=2)) #Define aqui a largura das linhas do grafico neste caso com largura \n",
        "fig2.update_layout(font_family=\"Courier New\",font_size = 16) #Define aqui o tipo de Fonte e o tamanho\n",
        "fig2.update_traces(patch={\"line\": { \"dash\": 'dot'}}, selector={\"legendgroup\": \"limite\"})  #Define aqui o tipo de linha para a linha do limite\n",
        "fig2.update_layout(legend_title=dict(text = '')) #Coloca um texto explicando as legendas.. neste caso deixei sem\n",
        "fig2.update_layout(xaxis_title='Tempo',  yaxis_title='Leitura Sensor (ºC)') #titulos dos eixos X e Y\n",
        "\n",
        "#Configuração para deixar a opção de baixar a imagem com maior resolução.\n",
        "config = {\n",
        "  'toImageButtonOptions': {\n",
        "    'format': 'jpeg', # one of png, svg, jpeg, webp\n",
        "    'filename': 'custom_image',\n",
        "\n",
        "    'scale':3 # Multiply title/legend/axis/canvas sizes by this factor\n",
        "  }\n",
        "}\n",
        "\n",
        "fig2.show(config=config)"
      ],
      "metadata": {
        "id": "TTLaTqXIetH-"
      },
      "execution_count": null,
      "outputs": []
    },
    {
      "cell_type": "markdown",
      "source": [
        "### Análise de Dados"
      ],
      "metadata": {
        "id": "JtcfEVMp80eF"
      }
    },
    {
      "cell_type": "markdown",
      "source": [
        "#### Contagem de Dados"
      ],
      "metadata": {
        "id": "SSd3qD-u4xy0"
      }
    },
    {
      "cell_type": "code",
      "source": [
        "dados1count = dados1.drop(['entry_id','acelX','acelY','acelZ','temperatura','tempo','ntemperatura','AceleraçãoX','AceleraçãoY','AceleraçãoZ'], axis = 1)\n",
        "amostras1 = len(dados1count['U1']) +len(dados1count['U2']) + len(dados1count['U3'])\n",
        "print(f'J1 tem {amostras1} dados')"
      ],
      "metadata": {
        "colab": {
          "base_uri": "https://localhost:8080/"
        },
        "id": "yZJ8q50qiLvJ",
        "outputId": "ab59e1a8-7398-42f9-ed1f-00c74bf16d49"
      },
      "execution_count": 11,
      "outputs": [
        {
          "output_type": "stream",
          "name": "stdout",
          "text": [
            "J1 tem 11298 dados\n"
          ]
        }
      ]
    },
    {
      "cell_type": "code",
      "source": [
        "dados2count = dados2.drop(['entry_id','acelX','acelY','acelZ','temperatura','tempo','ntemperatura','AceleraçãoX','AceleraçãoY','AceleraçãoZ'], axis = 1)\n",
        "amostras2 = len(dados2count['U1']) +len(dados2count['U2']) + len(dados2count['U3'])\n",
        "print(f'J2 tem {amostras2} dados')"
      ],
      "metadata": {
        "id": "SMs7QPmGjEt2",
        "colab": {
          "base_uri": "https://localhost:8080/"
        },
        "outputId": "8d79c1ea-9e07-473a-e3f0-843e34508a5f"
      },
      "execution_count": 12,
      "outputs": [
        {
          "output_type": "stream",
          "name": "stdout",
          "text": [
            "J2 tem 10839 dados\n"
          ]
        }
      ]
    },
    {
      "cell_type": "code",
      "source": [
        "dados3count = dados3.drop(['entry_id','acelX','acelY','acelZ','temperatura','tempo','ntemperatura','AceleraçãoX','AceleraçãoY','AceleraçãoZ'], axis = 1)\n",
        "amostras3 = len(dados3count['U1']) +len(dados3count['U2']) + len(dados3count['U3'])\n",
        "print(f'J3 tem {amostras3} dados')"
      ],
      "metadata": {
        "id": "-pzuZ9vGjJl8",
        "colab": {
          "base_uri": "https://localhost:8080/"
        },
        "outputId": "5994d641-6756-416e-841d-3b6e3d11dbb8"
      },
      "execution_count": 13,
      "outputs": [
        {
          "output_type": "stream",
          "name": "stdout",
          "text": [
            "J3 tem 10767 dados\n"
          ]
        }
      ]
    },
    {
      "cell_type": "code",
      "source": [
        "total = amostras1+amostras2+amostras3\n",
        "print(f'tiveram {total} envios de dados')"
      ],
      "metadata": {
        "id": "Fpkbt1Ay5Lnb",
        "colab": {
          "base_uri": "https://localhost:8080/"
        },
        "outputId": "dfd9821a-128d-4201-c610-b7554b80c1fb"
      },
      "execution_count": 14,
      "outputs": [
        {
          "output_type": "stream",
          "name": "stdout",
          "text": [
            "tiveram 32904 envios de dados\n"
          ]
        }
      ]
    },
    {
      "cell_type": "markdown",
      "source": [
        "#### dados nulos"
      ],
      "metadata": {
        "id": "wBSDCjbG9or4"
      }
    },
    {
      "cell_type": "markdown",
      "source": [
        "##### J1"
      ],
      "metadata": {
        "id": "UIKVFTef9w2P"
      }
    },
    {
      "cell_type": "code",
      "source": [
        "dados1"
      ],
      "metadata": {
        "id": "ne-x_Qvk67fJ",
        "colab": {
          "base_uri": "https://localhost:8080/",
          "height": 0
        },
        "outputId": "0d064375-e7fb-4c51-bdaa-230af8348470"
      },
      "execution_count": 15,
      "outputs": [
        {
          "output_type": "execute_result",
          "data": {
            "text/plain": [
              "                     created_at  entry_id  acelX  acelY  acelZ  temperatura  \\\n",
              "0     2022-11-30T10:51:50-03:00         1  10796 -11048   5704         2684   \n",
              "1     2022-11-30T10:52:53-03:00         2  10804 -10984   5676         2768   \n",
              "2     2022-11-30T10:53:55-03:00         3  10748 -11112   5596         2811   \n",
              "3     2022-11-30T10:54:58-03:00         4   3472 -15724  -6132         2834   \n",
              "4     2022-11-30T10:56:00-03:00         5   3068 -15636  -6072         2848   \n",
              "...                         ...       ...    ...    ...    ...          ...   \n",
              "3761  2022-12-14T07:46:32-03:00      3762      0      0      0            0   \n",
              "3762  2022-12-14T07:58:25-03:00      3763      0      0      0            0   \n",
              "3763  2022-12-14T08:02:18-03:00      3764      0      0      0            0   \n",
              "3764  2022-12-14T08:06:14-03:00      3765      0      0      0            0   \n",
              "3765  2022-12-14T10:02:45-03:00      3766      0      0      0            0   \n",
              "\n",
              "       U1   U2   U3                     tempo  ntemperatura  AceleraçãoX  \\\n",
              "0     514  434  826 2022-11-30 10:51:50-03:00         26.84     6.464158   \n",
              "1     613  498  827 2022-11-30 10:52:53-03:00         27.68     6.468948   \n",
              "2       0  104  828 2022-11-30 10:53:55-03:00         28.11     6.435417   \n",
              "3       0  102  828 2022-11-30 10:54:58-03:00         28.34     2.078877   \n",
              "4       0  103  828 2022-11-30 10:56:00-03:00         28.48     1.836980   \n",
              "...   ...  ...  ...                       ...           ...          ...   \n",
              "3761    0    0    0 2022-12-14 07:46:32-03:00          0.00     0.000000   \n",
              "3762    0    0    0 2022-12-14 07:58:25-03:00          0.00     0.000000   \n",
              "3763    0    0    0 2022-12-14 08:02:18-03:00          0.00     0.000000   \n",
              "3764    0    0    0 2022-12-14 08:06:14-03:00          0.00     0.000000   \n",
              "3765    0    0    0 2022-12-14 10:02:45-03:00          0.00     0.000000   \n",
              "\n",
              "      AceleraçãoY  AceleraçãoZ  \n",
              "0       -6.615044     3.415298  \n",
              "1       -6.576724     3.398533  \n",
              "2       -6.653364     3.350632  \n",
              "3       -9.414822    -3.671565  \n",
              "4       -9.362131    -3.635640  \n",
              "...           ...          ...  \n",
              "3761     0.000000     0.000000  \n",
              "3762     0.000000     0.000000  \n",
              "3763     0.000000     0.000000  \n",
              "3764     0.000000     0.000000  \n",
              "3765     0.000000     0.000000  \n",
              "\n",
              "[3766 rows x 14 columns]"
            ],
            "text/html": [
              "\n",
              "  <div id=\"df-aff5d850-a51e-4a3c-b29d-f5c444ba4064\">\n",
              "    <div class=\"colab-df-container\">\n",
              "      <div>\n",
              "<style scoped>\n",
              "    .dataframe tbody tr th:only-of-type {\n",
              "        vertical-align: middle;\n",
              "    }\n",
              "\n",
              "    .dataframe tbody tr th {\n",
              "        vertical-align: top;\n",
              "    }\n",
              "\n",
              "    .dataframe thead th {\n",
              "        text-align: right;\n",
              "    }\n",
              "</style>\n",
              "<table border=\"1\" class=\"dataframe\">\n",
              "  <thead>\n",
              "    <tr style=\"text-align: right;\">\n",
              "      <th></th>\n",
              "      <th>created_at</th>\n",
              "      <th>entry_id</th>\n",
              "      <th>acelX</th>\n",
              "      <th>acelY</th>\n",
              "      <th>acelZ</th>\n",
              "      <th>temperatura</th>\n",
              "      <th>U1</th>\n",
              "      <th>U2</th>\n",
              "      <th>U3</th>\n",
              "      <th>tempo</th>\n",
              "      <th>ntemperatura</th>\n",
              "      <th>AceleraçãoX</th>\n",
              "      <th>AceleraçãoY</th>\n",
              "      <th>AceleraçãoZ</th>\n",
              "    </tr>\n",
              "  </thead>\n",
              "  <tbody>\n",
              "    <tr>\n",
              "      <th>0</th>\n",
              "      <td>2022-11-30T10:51:50-03:00</td>\n",
              "      <td>1</td>\n",
              "      <td>10796</td>\n",
              "      <td>-11048</td>\n",
              "      <td>5704</td>\n",
              "      <td>2684</td>\n",
              "      <td>514</td>\n",
              "      <td>434</td>\n",
              "      <td>826</td>\n",
              "      <td>2022-11-30 10:51:50-03:00</td>\n",
              "      <td>26.84</td>\n",
              "      <td>6.464158</td>\n",
              "      <td>-6.615044</td>\n",
              "      <td>3.415298</td>\n",
              "    </tr>\n",
              "    <tr>\n",
              "      <th>1</th>\n",
              "      <td>2022-11-30T10:52:53-03:00</td>\n",
              "      <td>2</td>\n",
              "      <td>10804</td>\n",
              "      <td>-10984</td>\n",
              "      <td>5676</td>\n",
              "      <td>2768</td>\n",
              "      <td>613</td>\n",
              "      <td>498</td>\n",
              "      <td>827</td>\n",
              "      <td>2022-11-30 10:52:53-03:00</td>\n",
              "      <td>27.68</td>\n",
              "      <td>6.468948</td>\n",
              "      <td>-6.576724</td>\n",
              "      <td>3.398533</td>\n",
              "    </tr>\n",
              "    <tr>\n",
              "      <th>2</th>\n",
              "      <td>2022-11-30T10:53:55-03:00</td>\n",
              "      <td>3</td>\n",
              "      <td>10748</td>\n",
              "      <td>-11112</td>\n",
              "      <td>5596</td>\n",
              "      <td>2811</td>\n",
              "      <td>0</td>\n",
              "      <td>104</td>\n",
              "      <td>828</td>\n",
              "      <td>2022-11-30 10:53:55-03:00</td>\n",
              "      <td>28.11</td>\n",
              "      <td>6.435417</td>\n",
              "      <td>-6.653364</td>\n",
              "      <td>3.350632</td>\n",
              "    </tr>\n",
              "    <tr>\n",
              "      <th>3</th>\n",
              "      <td>2022-11-30T10:54:58-03:00</td>\n",
              "      <td>4</td>\n",
              "      <td>3472</td>\n",
              "      <td>-15724</td>\n",
              "      <td>-6132</td>\n",
              "      <td>2834</td>\n",
              "      <td>0</td>\n",
              "      <td>102</td>\n",
              "      <td>828</td>\n",
              "      <td>2022-11-30 10:54:58-03:00</td>\n",
              "      <td>28.34</td>\n",
              "      <td>2.078877</td>\n",
              "      <td>-9.414822</td>\n",
              "      <td>-3.671565</td>\n",
              "    </tr>\n",
              "    <tr>\n",
              "      <th>4</th>\n",
              "      <td>2022-11-30T10:56:00-03:00</td>\n",
              "      <td>5</td>\n",
              "      <td>3068</td>\n",
              "      <td>-15636</td>\n",
              "      <td>-6072</td>\n",
              "      <td>2848</td>\n",
              "      <td>0</td>\n",
              "      <td>103</td>\n",
              "      <td>828</td>\n",
              "      <td>2022-11-30 10:56:00-03:00</td>\n",
              "      <td>28.48</td>\n",
              "      <td>1.836980</td>\n",
              "      <td>-9.362131</td>\n",
              "      <td>-3.635640</td>\n",
              "    </tr>\n",
              "    <tr>\n",
              "      <th>...</th>\n",
              "      <td>...</td>\n",
              "      <td>...</td>\n",
              "      <td>...</td>\n",
              "      <td>...</td>\n",
              "      <td>...</td>\n",
              "      <td>...</td>\n",
              "      <td>...</td>\n",
              "      <td>...</td>\n",
              "      <td>...</td>\n",
              "      <td>...</td>\n",
              "      <td>...</td>\n",
              "      <td>...</td>\n",
              "      <td>...</td>\n",
              "      <td>...</td>\n",
              "    </tr>\n",
              "    <tr>\n",
              "      <th>3761</th>\n",
              "      <td>2022-12-14T07:46:32-03:00</td>\n",
              "      <td>3762</td>\n",
              "      <td>0</td>\n",
              "      <td>0</td>\n",
              "      <td>0</td>\n",
              "      <td>0</td>\n",
              "      <td>0</td>\n",
              "      <td>0</td>\n",
              "      <td>0</td>\n",
              "      <td>2022-12-14 07:46:32-03:00</td>\n",
              "      <td>0.00</td>\n",
              "      <td>0.000000</td>\n",
              "      <td>0.000000</td>\n",
              "      <td>0.000000</td>\n",
              "    </tr>\n",
              "    <tr>\n",
              "      <th>3762</th>\n",
              "      <td>2022-12-14T07:58:25-03:00</td>\n",
              "      <td>3763</td>\n",
              "      <td>0</td>\n",
              "      <td>0</td>\n",
              "      <td>0</td>\n",
              "      <td>0</td>\n",
              "      <td>0</td>\n",
              "      <td>0</td>\n",
              "      <td>0</td>\n",
              "      <td>2022-12-14 07:58:25-03:00</td>\n",
              "      <td>0.00</td>\n",
              "      <td>0.000000</td>\n",
              "      <td>0.000000</td>\n",
              "      <td>0.000000</td>\n",
              "    </tr>\n",
              "    <tr>\n",
              "      <th>3763</th>\n",
              "      <td>2022-12-14T08:02:18-03:00</td>\n",
              "      <td>3764</td>\n",
              "      <td>0</td>\n",
              "      <td>0</td>\n",
              "      <td>0</td>\n",
              "      <td>0</td>\n",
              "      <td>0</td>\n",
              "      <td>0</td>\n",
              "      <td>0</td>\n",
              "      <td>2022-12-14 08:02:18-03:00</td>\n",
              "      <td>0.00</td>\n",
              "      <td>0.000000</td>\n",
              "      <td>0.000000</td>\n",
              "      <td>0.000000</td>\n",
              "    </tr>\n",
              "    <tr>\n",
              "      <th>3764</th>\n",
              "      <td>2022-12-14T08:06:14-03:00</td>\n",
              "      <td>3765</td>\n",
              "      <td>0</td>\n",
              "      <td>0</td>\n",
              "      <td>0</td>\n",
              "      <td>0</td>\n",
              "      <td>0</td>\n",
              "      <td>0</td>\n",
              "      <td>0</td>\n",
              "      <td>2022-12-14 08:06:14-03:00</td>\n",
              "      <td>0.00</td>\n",
              "      <td>0.000000</td>\n",
              "      <td>0.000000</td>\n",
              "      <td>0.000000</td>\n",
              "    </tr>\n",
              "    <tr>\n",
              "      <th>3765</th>\n",
              "      <td>2022-12-14T10:02:45-03:00</td>\n",
              "      <td>3766</td>\n",
              "      <td>0</td>\n",
              "      <td>0</td>\n",
              "      <td>0</td>\n",
              "      <td>0</td>\n",
              "      <td>0</td>\n",
              "      <td>0</td>\n",
              "      <td>0</td>\n",
              "      <td>2022-12-14 10:02:45-03:00</td>\n",
              "      <td>0.00</td>\n",
              "      <td>0.000000</td>\n",
              "      <td>0.000000</td>\n",
              "      <td>0.000000</td>\n",
              "    </tr>\n",
              "  </tbody>\n",
              "</table>\n",
              "<p>3766 rows × 14 columns</p>\n",
              "</div>\n",
              "      <button class=\"colab-df-convert\" onclick=\"convertToInteractive('df-aff5d850-a51e-4a3c-b29d-f5c444ba4064')\"\n",
              "              title=\"Convert this dataframe to an interactive table.\"\n",
              "              style=\"display:none;\">\n",
              "        \n",
              "  <svg xmlns=\"http://www.w3.org/2000/svg\" height=\"24px\"viewBox=\"0 0 24 24\"\n",
              "       width=\"24px\">\n",
              "    <path d=\"M0 0h24v24H0V0z\" fill=\"none\"/>\n",
              "    <path d=\"M18.56 5.44l.94 2.06.94-2.06 2.06-.94-2.06-.94-.94-2.06-.94 2.06-2.06.94zm-11 1L8.5 8.5l.94-2.06 2.06-.94-2.06-.94L8.5 2.5l-.94 2.06-2.06.94zm10 10l.94 2.06.94-2.06 2.06-.94-2.06-.94-.94-2.06-.94 2.06-2.06.94z\"/><path d=\"M17.41 7.96l-1.37-1.37c-.4-.4-.92-.59-1.43-.59-.52 0-1.04.2-1.43.59L10.3 9.45l-7.72 7.72c-.78.78-.78 2.05 0 2.83L4 21.41c.39.39.9.59 1.41.59.51 0 1.02-.2 1.41-.59l7.78-7.78 2.81-2.81c.8-.78.8-2.07 0-2.86zM5.41 20L4 18.59l7.72-7.72 1.47 1.35L5.41 20z\"/>\n",
              "  </svg>\n",
              "      </button>\n",
              "      \n",
              "  <style>\n",
              "    .colab-df-container {\n",
              "      display:flex;\n",
              "      flex-wrap:wrap;\n",
              "      gap: 12px;\n",
              "    }\n",
              "\n",
              "    .colab-df-convert {\n",
              "      background-color: #E8F0FE;\n",
              "      border: none;\n",
              "      border-radius: 50%;\n",
              "      cursor: pointer;\n",
              "      display: none;\n",
              "      fill: #1967D2;\n",
              "      height: 32px;\n",
              "      padding: 0 0 0 0;\n",
              "      width: 32px;\n",
              "    }\n",
              "\n",
              "    .colab-df-convert:hover {\n",
              "      background-color: #E2EBFA;\n",
              "      box-shadow: 0px 1px 2px rgba(60, 64, 67, 0.3), 0px 1px 3px 1px rgba(60, 64, 67, 0.15);\n",
              "      fill: #174EA6;\n",
              "    }\n",
              "\n",
              "    [theme=dark] .colab-df-convert {\n",
              "      background-color: #3B4455;\n",
              "      fill: #D2E3FC;\n",
              "    }\n",
              "\n",
              "    [theme=dark] .colab-df-convert:hover {\n",
              "      background-color: #434B5C;\n",
              "      box-shadow: 0px 1px 3px 1px rgba(0, 0, 0, 0.15);\n",
              "      filter: drop-shadow(0px 1px 2px rgba(0, 0, 0, 0.3));\n",
              "      fill: #FFFFFF;\n",
              "    }\n",
              "  </style>\n",
              "\n",
              "      <script>\n",
              "        const buttonEl =\n",
              "          document.querySelector('#df-aff5d850-a51e-4a3c-b29d-f5c444ba4064 button.colab-df-convert');\n",
              "        buttonEl.style.display =\n",
              "          google.colab.kernel.accessAllowed ? 'block' : 'none';\n",
              "\n",
              "        async function convertToInteractive(key) {\n",
              "          const element = document.querySelector('#df-aff5d850-a51e-4a3c-b29d-f5c444ba4064');\n",
              "          const dataTable =\n",
              "            await google.colab.kernel.invokeFunction('convertToInteractive',\n",
              "                                                     [key], {});\n",
              "          if (!dataTable) return;\n",
              "\n",
              "          const docLinkHtml = 'Like what you see? Visit the ' +\n",
              "            '<a target=\"_blank\" href=https://colab.research.google.com/notebooks/data_table.ipynb>data table notebook</a>'\n",
              "            + ' to learn more about interactive tables.';\n",
              "          element.innerHTML = '';\n",
              "          dataTable['output_type'] = 'display_data';\n",
              "          await google.colab.output.renderOutput(dataTable, element);\n",
              "          const docLink = document.createElement('div');\n",
              "          docLink.innerHTML = docLinkHtml;\n",
              "          element.appendChild(docLink);\n",
              "        }\n",
              "      </script>\n",
              "    </div>\n",
              "  </div>\n",
              "  "
            ]
          },
          "metadata": {},
          "execution_count": 15
        }
      ]
    },
    {
      "cell_type": "code",
      "source": [],
      "metadata": {
        "id": "SRcXfVyYWd08"
      },
      "execution_count": 15,
      "outputs": []
    },
    {
      "cell_type": "code",
      "source": [
        "j1u1zero = dados1.query('U1 == 0')\n",
        "#j1u1zero\n",
        "print(f' Sensor U1 de J1 teve {len(j1u1zero)} dados nulos')"
      ],
      "metadata": {
        "id": "wZ-JP61y67ic",
        "colab": {
          "base_uri": "https://localhost:8080/"
        },
        "outputId": "ec367b2e-5184-4d61-e406-36e5609b4866"
      },
      "execution_count": 16,
      "outputs": [
        {
          "output_type": "stream",
          "name": "stdout",
          "text": [
            " Sensor U1 de J1 teve 3333 dados nulos\n"
          ]
        }
      ]
    },
    {
      "cell_type": "code",
      "source": [
        "j1u2zero = dados1.query('U2 == 0')\n",
        "#j1u2zero\n",
        "print(f' Sensor U2 de J1 teve {len(j1u2zero)} dados nulos')"
      ],
      "metadata": {
        "id": "nNQTolS49L5l",
        "colab": {
          "base_uri": "https://localhost:8080/"
        },
        "outputId": "f631ca08-84c9-4e1d-bc72-c6e04b28fdf8"
      },
      "execution_count": 17,
      "outputs": [
        {
          "output_type": "stream",
          "name": "stdout",
          "text": [
            " Sensor U2 de J1 teve 3318 dados nulos\n"
          ]
        }
      ]
    },
    {
      "cell_type": "code",
      "source": [
        "j1u3zero = dados1.query('U3 == 0')\n",
        "#j1u3zero\n",
        "print(f' Sensor U3 de J1 teve {len(j1u3zero)} dados nulos')"
      ],
      "metadata": {
        "id": "4VC_KME29ZS5",
        "colab": {
          "base_uri": "https://localhost:8080/"
        },
        "outputId": "2898941c-7d98-40e8-8069-0b4dac30aef4"
      },
      "execution_count": 18,
      "outputs": [
        {
          "output_type": "stream",
          "name": "stdout",
          "text": [
            " Sensor U3 de J1 teve 3322 dados nulos\n"
          ]
        }
      ]
    },
    {
      "cell_type": "code",
      "source": [],
      "metadata": {
        "id": "oLyN1aFo92E_"
      },
      "execution_count": 18,
      "outputs": []
    },
    {
      "cell_type": "markdown",
      "source": [
        "##### J2"
      ],
      "metadata": {
        "id": "8dCmm6zH92dZ"
      }
    },
    {
      "cell_type": "code",
      "source": [
        "dados2"
      ],
      "metadata": {
        "id": "Wz0lTiaq98gf",
        "colab": {
          "base_uri": "https://localhost:8080/",
          "height": 0
        },
        "outputId": "f02bb255-d513-4ca1-fa87-21251b8ee196"
      },
      "execution_count": 19,
      "outputs": [
        {
          "output_type": "execute_result",
          "data": {
            "text/plain": [
              "                     created_at  entry_id  acelX  acelY  acelZ  temperatura  \\\n",
              "0     2022-11-30T13:52:07-03:00         1      0      0      0            0   \n",
              "1     2022-11-30T13:56:00-03:00         2      0      0      0            0   \n",
              "2     2022-11-30T13:59:48-03:00         3      0      0      0            0   \n",
              "3     2022-11-30T14:03:30-03:00         4      0      0      0            0   \n",
              "4     2022-11-30T14:08:43-03:00         5      0      0      0            0   \n",
              "...                         ...       ...    ...    ...    ...          ...   \n",
              "3608  2022-12-14T07:29:28-03:00      3609      0      0      0            0   \n",
              "3609  2022-12-14T07:37:19-03:00      3610      0      0      0            0   \n",
              "3610  2022-12-14T07:53:02-03:00      3611      0      0      0            0   \n",
              "3611  2022-12-14T07:57:03-03:00      3612      0      0      0            0   \n",
              "3612  2022-12-14T08:08:55-03:00      3613      0      0      0            0   \n",
              "\n",
              "      U1  U2  U3                     tempo  ntemperatura  AceleraçãoX  \\\n",
              "0      0   0   0 2022-11-30 13:52:07-03:00           0.0          0.0   \n",
              "1      0   0   0 2022-11-30 13:56:00-03:00           0.0          0.0   \n",
              "2      0   0   0 2022-11-30 13:59:48-03:00           0.0          0.0   \n",
              "3      0   0   0 2022-11-30 14:03:30-03:00           0.0          0.0   \n",
              "4      0   0   0 2022-11-30 14:08:43-03:00           0.0          0.0   \n",
              "...   ..  ..  ..                       ...           ...          ...   \n",
              "3608   0   0   0 2022-12-14 07:29:28-03:00           0.0          0.0   \n",
              "3609   0   0   0 2022-12-14 07:37:19-03:00           0.0          0.0   \n",
              "3610   0   0   0 2022-12-14 07:53:02-03:00           0.0          0.0   \n",
              "3611   0   0   0 2022-12-14 07:57:03-03:00           0.0          0.0   \n",
              "3612   0   0   0 2022-12-14 08:08:55-03:00           0.0          0.0   \n",
              "\n",
              "      AceleraçãoY  AceleraçãoZ  \n",
              "0             0.0          0.0  \n",
              "1             0.0          0.0  \n",
              "2             0.0          0.0  \n",
              "3             0.0          0.0  \n",
              "4             0.0          0.0  \n",
              "...           ...          ...  \n",
              "3608          0.0          0.0  \n",
              "3609          0.0          0.0  \n",
              "3610          0.0          0.0  \n",
              "3611          0.0          0.0  \n",
              "3612          0.0          0.0  \n",
              "\n",
              "[3613 rows x 14 columns]"
            ],
            "text/html": [
              "\n",
              "  <div id=\"df-e14d46e6-ea83-4801-9370-50f8b410af15\">\n",
              "    <div class=\"colab-df-container\">\n",
              "      <div>\n",
              "<style scoped>\n",
              "    .dataframe tbody tr th:only-of-type {\n",
              "        vertical-align: middle;\n",
              "    }\n",
              "\n",
              "    .dataframe tbody tr th {\n",
              "        vertical-align: top;\n",
              "    }\n",
              "\n",
              "    .dataframe thead th {\n",
              "        text-align: right;\n",
              "    }\n",
              "</style>\n",
              "<table border=\"1\" class=\"dataframe\">\n",
              "  <thead>\n",
              "    <tr style=\"text-align: right;\">\n",
              "      <th></th>\n",
              "      <th>created_at</th>\n",
              "      <th>entry_id</th>\n",
              "      <th>acelX</th>\n",
              "      <th>acelY</th>\n",
              "      <th>acelZ</th>\n",
              "      <th>temperatura</th>\n",
              "      <th>U1</th>\n",
              "      <th>U2</th>\n",
              "      <th>U3</th>\n",
              "      <th>tempo</th>\n",
              "      <th>ntemperatura</th>\n",
              "      <th>AceleraçãoX</th>\n",
              "      <th>AceleraçãoY</th>\n",
              "      <th>AceleraçãoZ</th>\n",
              "    </tr>\n",
              "  </thead>\n",
              "  <tbody>\n",
              "    <tr>\n",
              "      <th>0</th>\n",
              "      <td>2022-11-30T13:52:07-03:00</td>\n",
              "      <td>1</td>\n",
              "      <td>0</td>\n",
              "      <td>0</td>\n",
              "      <td>0</td>\n",
              "      <td>0</td>\n",
              "      <td>0</td>\n",
              "      <td>0</td>\n",
              "      <td>0</td>\n",
              "      <td>2022-11-30 13:52:07-03:00</td>\n",
              "      <td>0.0</td>\n",
              "      <td>0.0</td>\n",
              "      <td>0.0</td>\n",
              "      <td>0.0</td>\n",
              "    </tr>\n",
              "    <tr>\n",
              "      <th>1</th>\n",
              "      <td>2022-11-30T13:56:00-03:00</td>\n",
              "      <td>2</td>\n",
              "      <td>0</td>\n",
              "      <td>0</td>\n",
              "      <td>0</td>\n",
              "      <td>0</td>\n",
              "      <td>0</td>\n",
              "      <td>0</td>\n",
              "      <td>0</td>\n",
              "      <td>2022-11-30 13:56:00-03:00</td>\n",
              "      <td>0.0</td>\n",
              "      <td>0.0</td>\n",
              "      <td>0.0</td>\n",
              "      <td>0.0</td>\n",
              "    </tr>\n",
              "    <tr>\n",
              "      <th>2</th>\n",
              "      <td>2022-11-30T13:59:48-03:00</td>\n",
              "      <td>3</td>\n",
              "      <td>0</td>\n",
              "      <td>0</td>\n",
              "      <td>0</td>\n",
              "      <td>0</td>\n",
              "      <td>0</td>\n",
              "      <td>0</td>\n",
              "      <td>0</td>\n",
              "      <td>2022-11-30 13:59:48-03:00</td>\n",
              "      <td>0.0</td>\n",
              "      <td>0.0</td>\n",
              "      <td>0.0</td>\n",
              "      <td>0.0</td>\n",
              "    </tr>\n",
              "    <tr>\n",
              "      <th>3</th>\n",
              "      <td>2022-11-30T14:03:30-03:00</td>\n",
              "      <td>4</td>\n",
              "      <td>0</td>\n",
              "      <td>0</td>\n",
              "      <td>0</td>\n",
              "      <td>0</td>\n",
              "      <td>0</td>\n",
              "      <td>0</td>\n",
              "      <td>0</td>\n",
              "      <td>2022-11-30 14:03:30-03:00</td>\n",
              "      <td>0.0</td>\n",
              "      <td>0.0</td>\n",
              "      <td>0.0</td>\n",
              "      <td>0.0</td>\n",
              "    </tr>\n",
              "    <tr>\n",
              "      <th>4</th>\n",
              "      <td>2022-11-30T14:08:43-03:00</td>\n",
              "      <td>5</td>\n",
              "      <td>0</td>\n",
              "      <td>0</td>\n",
              "      <td>0</td>\n",
              "      <td>0</td>\n",
              "      <td>0</td>\n",
              "      <td>0</td>\n",
              "      <td>0</td>\n",
              "      <td>2022-11-30 14:08:43-03:00</td>\n",
              "      <td>0.0</td>\n",
              "      <td>0.0</td>\n",
              "      <td>0.0</td>\n",
              "      <td>0.0</td>\n",
              "    </tr>\n",
              "    <tr>\n",
              "      <th>...</th>\n",
              "      <td>...</td>\n",
              "      <td>...</td>\n",
              "      <td>...</td>\n",
              "      <td>...</td>\n",
              "      <td>...</td>\n",
              "      <td>...</td>\n",
              "      <td>...</td>\n",
              "      <td>...</td>\n",
              "      <td>...</td>\n",
              "      <td>...</td>\n",
              "      <td>...</td>\n",
              "      <td>...</td>\n",
              "      <td>...</td>\n",
              "      <td>...</td>\n",
              "    </tr>\n",
              "    <tr>\n",
              "      <th>3608</th>\n",
              "      <td>2022-12-14T07:29:28-03:00</td>\n",
              "      <td>3609</td>\n",
              "      <td>0</td>\n",
              "      <td>0</td>\n",
              "      <td>0</td>\n",
              "      <td>0</td>\n",
              "      <td>0</td>\n",
              "      <td>0</td>\n",
              "      <td>0</td>\n",
              "      <td>2022-12-14 07:29:28-03:00</td>\n",
              "      <td>0.0</td>\n",
              "      <td>0.0</td>\n",
              "      <td>0.0</td>\n",
              "      <td>0.0</td>\n",
              "    </tr>\n",
              "    <tr>\n",
              "      <th>3609</th>\n",
              "      <td>2022-12-14T07:37:19-03:00</td>\n",
              "      <td>3610</td>\n",
              "      <td>0</td>\n",
              "      <td>0</td>\n",
              "      <td>0</td>\n",
              "      <td>0</td>\n",
              "      <td>0</td>\n",
              "      <td>0</td>\n",
              "      <td>0</td>\n",
              "      <td>2022-12-14 07:37:19-03:00</td>\n",
              "      <td>0.0</td>\n",
              "      <td>0.0</td>\n",
              "      <td>0.0</td>\n",
              "      <td>0.0</td>\n",
              "    </tr>\n",
              "    <tr>\n",
              "      <th>3610</th>\n",
              "      <td>2022-12-14T07:53:02-03:00</td>\n",
              "      <td>3611</td>\n",
              "      <td>0</td>\n",
              "      <td>0</td>\n",
              "      <td>0</td>\n",
              "      <td>0</td>\n",
              "      <td>0</td>\n",
              "      <td>0</td>\n",
              "      <td>0</td>\n",
              "      <td>2022-12-14 07:53:02-03:00</td>\n",
              "      <td>0.0</td>\n",
              "      <td>0.0</td>\n",
              "      <td>0.0</td>\n",
              "      <td>0.0</td>\n",
              "    </tr>\n",
              "    <tr>\n",
              "      <th>3611</th>\n",
              "      <td>2022-12-14T07:57:03-03:00</td>\n",
              "      <td>3612</td>\n",
              "      <td>0</td>\n",
              "      <td>0</td>\n",
              "      <td>0</td>\n",
              "      <td>0</td>\n",
              "      <td>0</td>\n",
              "      <td>0</td>\n",
              "      <td>0</td>\n",
              "      <td>2022-12-14 07:57:03-03:00</td>\n",
              "      <td>0.0</td>\n",
              "      <td>0.0</td>\n",
              "      <td>0.0</td>\n",
              "      <td>0.0</td>\n",
              "    </tr>\n",
              "    <tr>\n",
              "      <th>3612</th>\n",
              "      <td>2022-12-14T08:08:55-03:00</td>\n",
              "      <td>3613</td>\n",
              "      <td>0</td>\n",
              "      <td>0</td>\n",
              "      <td>0</td>\n",
              "      <td>0</td>\n",
              "      <td>0</td>\n",
              "      <td>0</td>\n",
              "      <td>0</td>\n",
              "      <td>2022-12-14 08:08:55-03:00</td>\n",
              "      <td>0.0</td>\n",
              "      <td>0.0</td>\n",
              "      <td>0.0</td>\n",
              "      <td>0.0</td>\n",
              "    </tr>\n",
              "  </tbody>\n",
              "</table>\n",
              "<p>3613 rows × 14 columns</p>\n",
              "</div>\n",
              "      <button class=\"colab-df-convert\" onclick=\"convertToInteractive('df-e14d46e6-ea83-4801-9370-50f8b410af15')\"\n",
              "              title=\"Convert this dataframe to an interactive table.\"\n",
              "              style=\"display:none;\">\n",
              "        \n",
              "  <svg xmlns=\"http://www.w3.org/2000/svg\" height=\"24px\"viewBox=\"0 0 24 24\"\n",
              "       width=\"24px\">\n",
              "    <path d=\"M0 0h24v24H0V0z\" fill=\"none\"/>\n",
              "    <path d=\"M18.56 5.44l.94 2.06.94-2.06 2.06-.94-2.06-.94-.94-2.06-.94 2.06-2.06.94zm-11 1L8.5 8.5l.94-2.06 2.06-.94-2.06-.94L8.5 2.5l-.94 2.06-2.06.94zm10 10l.94 2.06.94-2.06 2.06-.94-2.06-.94-.94-2.06-.94 2.06-2.06.94z\"/><path d=\"M17.41 7.96l-1.37-1.37c-.4-.4-.92-.59-1.43-.59-.52 0-1.04.2-1.43.59L10.3 9.45l-7.72 7.72c-.78.78-.78 2.05 0 2.83L4 21.41c.39.39.9.59 1.41.59.51 0 1.02-.2 1.41-.59l7.78-7.78 2.81-2.81c.8-.78.8-2.07 0-2.86zM5.41 20L4 18.59l7.72-7.72 1.47 1.35L5.41 20z\"/>\n",
              "  </svg>\n",
              "      </button>\n",
              "      \n",
              "  <style>\n",
              "    .colab-df-container {\n",
              "      display:flex;\n",
              "      flex-wrap:wrap;\n",
              "      gap: 12px;\n",
              "    }\n",
              "\n",
              "    .colab-df-convert {\n",
              "      background-color: #E8F0FE;\n",
              "      border: none;\n",
              "      border-radius: 50%;\n",
              "      cursor: pointer;\n",
              "      display: none;\n",
              "      fill: #1967D2;\n",
              "      height: 32px;\n",
              "      padding: 0 0 0 0;\n",
              "      width: 32px;\n",
              "    }\n",
              "\n",
              "    .colab-df-convert:hover {\n",
              "      background-color: #E2EBFA;\n",
              "      box-shadow: 0px 1px 2px rgba(60, 64, 67, 0.3), 0px 1px 3px 1px rgba(60, 64, 67, 0.15);\n",
              "      fill: #174EA6;\n",
              "    }\n",
              "\n",
              "    [theme=dark] .colab-df-convert {\n",
              "      background-color: #3B4455;\n",
              "      fill: #D2E3FC;\n",
              "    }\n",
              "\n",
              "    [theme=dark] .colab-df-convert:hover {\n",
              "      background-color: #434B5C;\n",
              "      box-shadow: 0px 1px 3px 1px rgba(0, 0, 0, 0.15);\n",
              "      filter: drop-shadow(0px 1px 2px rgba(0, 0, 0, 0.3));\n",
              "      fill: #FFFFFF;\n",
              "    }\n",
              "  </style>\n",
              "\n",
              "      <script>\n",
              "        const buttonEl =\n",
              "          document.querySelector('#df-e14d46e6-ea83-4801-9370-50f8b410af15 button.colab-df-convert');\n",
              "        buttonEl.style.display =\n",
              "          google.colab.kernel.accessAllowed ? 'block' : 'none';\n",
              "\n",
              "        async function convertToInteractive(key) {\n",
              "          const element = document.querySelector('#df-e14d46e6-ea83-4801-9370-50f8b410af15');\n",
              "          const dataTable =\n",
              "            await google.colab.kernel.invokeFunction('convertToInteractive',\n",
              "                                                     [key], {});\n",
              "          if (!dataTable) return;\n",
              "\n",
              "          const docLinkHtml = 'Like what you see? Visit the ' +\n",
              "            '<a target=\"_blank\" href=https://colab.research.google.com/notebooks/data_table.ipynb>data table notebook</a>'\n",
              "            + ' to learn more about interactive tables.';\n",
              "          element.innerHTML = '';\n",
              "          dataTable['output_type'] = 'display_data';\n",
              "          await google.colab.output.renderOutput(dataTable, element);\n",
              "          const docLink = document.createElement('div');\n",
              "          docLink.innerHTML = docLinkHtml;\n",
              "          element.appendChild(docLink);\n",
              "        }\n",
              "      </script>\n",
              "    </div>\n",
              "  </div>\n",
              "  "
            ]
          },
          "metadata": {},
          "execution_count": 19
        }
      ]
    },
    {
      "cell_type": "code",
      "source": [
        "j2u1zero = dados2.query('U1 == 0')\n",
        "#j2u1zero\n",
        "print(f' Sensor U1 de J2 teve {len(j2u1zero)} dados nulos')"
      ],
      "metadata": {
        "id": "z4UW9LDO9-MY",
        "colab": {
          "base_uri": "https://localhost:8080/"
        },
        "outputId": "8e640b71-ccca-4812-bbbd-d52f298e0ad7"
      },
      "execution_count": 20,
      "outputs": [
        {
          "output_type": "stream",
          "name": "stdout",
          "text": [
            " Sensor U1 de J2 teve 3164 dados nulos\n"
          ]
        }
      ]
    },
    {
      "cell_type": "code",
      "source": [
        "j2u2zero = dados2.query('U2 == 0')\n",
        "#j2u2zero\n",
        "print(f' Sensor U2 de J2 teve {len(j2u2zero)} dados nulos')"
      ],
      "metadata": {
        "id": "KYHML0Gu9-Qc",
        "colab": {
          "base_uri": "https://localhost:8080/"
        },
        "outputId": "e3ce21f6-4635-4c5e-c9aa-3f45ab593a41"
      },
      "execution_count": 21,
      "outputs": [
        {
          "output_type": "stream",
          "name": "stdout",
          "text": [
            " Sensor U2 de J2 teve 3171 dados nulos\n"
          ]
        }
      ]
    },
    {
      "cell_type": "code",
      "source": [
        "j2u3zero = dados2.query('U3 == 0')\n",
        "#j2u3zero\n",
        "print(f' Sensor U3 de J2 teve {len(j2u3zero)} dados nulos')"
      ],
      "metadata": {
        "id": "a4l22ESr9-TU",
        "colab": {
          "base_uri": "https://localhost:8080/"
        },
        "outputId": "e8da8f5a-c257-497a-83c3-7c5bc9402c1c"
      },
      "execution_count": 22,
      "outputs": [
        {
          "output_type": "stream",
          "name": "stdout",
          "text": [
            " Sensor U3 de J2 teve 3170 dados nulos\n"
          ]
        }
      ]
    },
    {
      "cell_type": "code",
      "source": [],
      "metadata": {
        "id": "_tqMye_Y-T1U"
      },
      "execution_count": 22,
      "outputs": []
    },
    {
      "cell_type": "markdown",
      "source": [
        "##### J3"
      ],
      "metadata": {
        "id": "N1jBe8co-T5_"
      }
    },
    {
      "cell_type": "code",
      "source": [
        "dados3"
      ],
      "metadata": {
        "id": "g3SCrx_I-T5_",
        "colab": {
          "base_uri": "https://localhost:8080/",
          "height": 0
        },
        "outputId": "d7eaa2d9-b13b-4915-d935-36f48725a227"
      },
      "execution_count": 23,
      "outputs": [
        {
          "output_type": "execute_result",
          "data": {
            "text/plain": [
              "                     created_at  entry_id  acelX  acelY  acelZ  temperatura  \\\n",
              "0     2022-11-30T13:40:48-03:00         1      0      0      0            0   \n",
              "1     2022-11-30T13:44:31-03:00         2      0      0      0            0   \n",
              "2     2022-11-30T13:50:53-03:00         3      0      0      0            0   \n",
              "3     2022-11-30T13:54:35-03:00         4  15144   6348  -1388         2566   \n",
              "4     2022-11-30T13:58:27-03:00         5  15412   1740   5716         2561   \n",
              "...                         ...       ...    ...    ...    ...          ...   \n",
              "3584  2022-12-14T07:47:53-03:00      3585      0      0      0            0   \n",
              "3585  2022-12-14T07:55:47-03:00      3586      0      0      0            0   \n",
              "3586  2022-12-14T07:59:39-03:00      3587      0      0      0            0   \n",
              "3587  2022-12-14T08:03:39-03:00      3588      0      0      0            0   \n",
              "3588  2022-12-14T08:07:53-03:00      3589      0      0      0            0   \n",
              "\n",
              "       U1  U2   U3                     tempo  ntemperatura  AceleraçãoX  \\\n",
              "0       0   0    0 2022-11-30 13:40:48-03:00          0.00     0.000000   \n",
              "1       0   0    0 2022-11-30 13:44:31-03:00          0.00     0.000000   \n",
              "2       0   0    0 2022-11-30 13:50:53-03:00          0.00     0.000000   \n",
              "3     277   0  105 2022-11-30 13:54:35-03:00         25.66     9.067544   \n",
              "4     267   0  102 2022-11-30 13:58:27-03:00         25.61     9.228010   \n",
              "...   ...  ..  ...                       ...           ...          ...   \n",
              "3584    0   0    0 2022-12-14 07:47:53-03:00          0.00     0.000000   \n",
              "3585    0   0    0 2022-12-14 07:55:47-03:00          0.00     0.000000   \n",
              "3586    0   0    0 2022-12-14 07:59:39-03:00          0.00     0.000000   \n",
              "3587    0   0    0 2022-12-14 08:03:39-03:00          0.00     0.000000   \n",
              "3588    0   0    0 2022-12-14 08:07:53-03:00          0.00     0.000000   \n",
              "\n",
              "      AceleraçãoY  AceleraçãoZ  \n",
              "0        0.000000     0.000000  \n",
              "1        0.000000     0.000000  \n",
              "2        0.000000     0.000000  \n",
              "3        3.800896    -0.831072  \n",
              "4        1.041833     3.422483  \n",
              "...           ...          ...  \n",
              "3584     0.000000     0.000000  \n",
              "3585     0.000000     0.000000  \n",
              "3586     0.000000     0.000000  \n",
              "3587     0.000000     0.000000  \n",
              "3588     0.000000     0.000000  \n",
              "\n",
              "[3589 rows x 14 columns]"
            ],
            "text/html": [
              "\n",
              "  <div id=\"df-f754e182-d86e-4ee5-bb70-d2f41ba0563c\">\n",
              "    <div class=\"colab-df-container\">\n",
              "      <div>\n",
              "<style scoped>\n",
              "    .dataframe tbody tr th:only-of-type {\n",
              "        vertical-align: middle;\n",
              "    }\n",
              "\n",
              "    .dataframe tbody tr th {\n",
              "        vertical-align: top;\n",
              "    }\n",
              "\n",
              "    .dataframe thead th {\n",
              "        text-align: right;\n",
              "    }\n",
              "</style>\n",
              "<table border=\"1\" class=\"dataframe\">\n",
              "  <thead>\n",
              "    <tr style=\"text-align: right;\">\n",
              "      <th></th>\n",
              "      <th>created_at</th>\n",
              "      <th>entry_id</th>\n",
              "      <th>acelX</th>\n",
              "      <th>acelY</th>\n",
              "      <th>acelZ</th>\n",
              "      <th>temperatura</th>\n",
              "      <th>U1</th>\n",
              "      <th>U2</th>\n",
              "      <th>U3</th>\n",
              "      <th>tempo</th>\n",
              "      <th>ntemperatura</th>\n",
              "      <th>AceleraçãoX</th>\n",
              "      <th>AceleraçãoY</th>\n",
              "      <th>AceleraçãoZ</th>\n",
              "    </tr>\n",
              "  </thead>\n",
              "  <tbody>\n",
              "    <tr>\n",
              "      <th>0</th>\n",
              "      <td>2022-11-30T13:40:48-03:00</td>\n",
              "      <td>1</td>\n",
              "      <td>0</td>\n",
              "      <td>0</td>\n",
              "      <td>0</td>\n",
              "      <td>0</td>\n",
              "      <td>0</td>\n",
              "      <td>0</td>\n",
              "      <td>0</td>\n",
              "      <td>2022-11-30 13:40:48-03:00</td>\n",
              "      <td>0.00</td>\n",
              "      <td>0.000000</td>\n",
              "      <td>0.000000</td>\n",
              "      <td>0.000000</td>\n",
              "    </tr>\n",
              "    <tr>\n",
              "      <th>1</th>\n",
              "      <td>2022-11-30T13:44:31-03:00</td>\n",
              "      <td>2</td>\n",
              "      <td>0</td>\n",
              "      <td>0</td>\n",
              "      <td>0</td>\n",
              "      <td>0</td>\n",
              "      <td>0</td>\n",
              "      <td>0</td>\n",
              "      <td>0</td>\n",
              "      <td>2022-11-30 13:44:31-03:00</td>\n",
              "      <td>0.00</td>\n",
              "      <td>0.000000</td>\n",
              "      <td>0.000000</td>\n",
              "      <td>0.000000</td>\n",
              "    </tr>\n",
              "    <tr>\n",
              "      <th>2</th>\n",
              "      <td>2022-11-30T13:50:53-03:00</td>\n",
              "      <td>3</td>\n",
              "      <td>0</td>\n",
              "      <td>0</td>\n",
              "      <td>0</td>\n",
              "      <td>0</td>\n",
              "      <td>0</td>\n",
              "      <td>0</td>\n",
              "      <td>0</td>\n",
              "      <td>2022-11-30 13:50:53-03:00</td>\n",
              "      <td>0.00</td>\n",
              "      <td>0.000000</td>\n",
              "      <td>0.000000</td>\n",
              "      <td>0.000000</td>\n",
              "    </tr>\n",
              "    <tr>\n",
              "      <th>3</th>\n",
              "      <td>2022-11-30T13:54:35-03:00</td>\n",
              "      <td>4</td>\n",
              "      <td>15144</td>\n",
              "      <td>6348</td>\n",
              "      <td>-1388</td>\n",
              "      <td>2566</td>\n",
              "      <td>277</td>\n",
              "      <td>0</td>\n",
              "      <td>105</td>\n",
              "      <td>2022-11-30 13:54:35-03:00</td>\n",
              "      <td>25.66</td>\n",
              "      <td>9.067544</td>\n",
              "      <td>3.800896</td>\n",
              "      <td>-0.831072</td>\n",
              "    </tr>\n",
              "    <tr>\n",
              "      <th>4</th>\n",
              "      <td>2022-11-30T13:58:27-03:00</td>\n",
              "      <td>5</td>\n",
              "      <td>15412</td>\n",
              "      <td>1740</td>\n",
              "      <td>5716</td>\n",
              "      <td>2561</td>\n",
              "      <td>267</td>\n",
              "      <td>0</td>\n",
              "      <td>102</td>\n",
              "      <td>2022-11-30 13:58:27-03:00</td>\n",
              "      <td>25.61</td>\n",
              "      <td>9.228010</td>\n",
              "      <td>1.041833</td>\n",
              "      <td>3.422483</td>\n",
              "    </tr>\n",
              "    <tr>\n",
              "      <th>...</th>\n",
              "      <td>...</td>\n",
              "      <td>...</td>\n",
              "      <td>...</td>\n",
              "      <td>...</td>\n",
              "      <td>...</td>\n",
              "      <td>...</td>\n",
              "      <td>...</td>\n",
              "      <td>...</td>\n",
              "      <td>...</td>\n",
              "      <td>...</td>\n",
              "      <td>...</td>\n",
              "      <td>...</td>\n",
              "      <td>...</td>\n",
              "      <td>...</td>\n",
              "    </tr>\n",
              "    <tr>\n",
              "      <th>3584</th>\n",
              "      <td>2022-12-14T07:47:53-03:00</td>\n",
              "      <td>3585</td>\n",
              "      <td>0</td>\n",
              "      <td>0</td>\n",
              "      <td>0</td>\n",
              "      <td>0</td>\n",
              "      <td>0</td>\n",
              "      <td>0</td>\n",
              "      <td>0</td>\n",
              "      <td>2022-12-14 07:47:53-03:00</td>\n",
              "      <td>0.00</td>\n",
              "      <td>0.000000</td>\n",
              "      <td>0.000000</td>\n",
              "      <td>0.000000</td>\n",
              "    </tr>\n",
              "    <tr>\n",
              "      <th>3585</th>\n",
              "      <td>2022-12-14T07:55:47-03:00</td>\n",
              "      <td>3586</td>\n",
              "      <td>0</td>\n",
              "      <td>0</td>\n",
              "      <td>0</td>\n",
              "      <td>0</td>\n",
              "      <td>0</td>\n",
              "      <td>0</td>\n",
              "      <td>0</td>\n",
              "      <td>2022-12-14 07:55:47-03:00</td>\n",
              "      <td>0.00</td>\n",
              "      <td>0.000000</td>\n",
              "      <td>0.000000</td>\n",
              "      <td>0.000000</td>\n",
              "    </tr>\n",
              "    <tr>\n",
              "      <th>3586</th>\n",
              "      <td>2022-12-14T07:59:39-03:00</td>\n",
              "      <td>3587</td>\n",
              "      <td>0</td>\n",
              "      <td>0</td>\n",
              "      <td>0</td>\n",
              "      <td>0</td>\n",
              "      <td>0</td>\n",
              "      <td>0</td>\n",
              "      <td>0</td>\n",
              "      <td>2022-12-14 07:59:39-03:00</td>\n",
              "      <td>0.00</td>\n",
              "      <td>0.000000</td>\n",
              "      <td>0.000000</td>\n",
              "      <td>0.000000</td>\n",
              "    </tr>\n",
              "    <tr>\n",
              "      <th>3587</th>\n",
              "      <td>2022-12-14T08:03:39-03:00</td>\n",
              "      <td>3588</td>\n",
              "      <td>0</td>\n",
              "      <td>0</td>\n",
              "      <td>0</td>\n",
              "      <td>0</td>\n",
              "      <td>0</td>\n",
              "      <td>0</td>\n",
              "      <td>0</td>\n",
              "      <td>2022-12-14 08:03:39-03:00</td>\n",
              "      <td>0.00</td>\n",
              "      <td>0.000000</td>\n",
              "      <td>0.000000</td>\n",
              "      <td>0.000000</td>\n",
              "    </tr>\n",
              "    <tr>\n",
              "      <th>3588</th>\n",
              "      <td>2022-12-14T08:07:53-03:00</td>\n",
              "      <td>3589</td>\n",
              "      <td>0</td>\n",
              "      <td>0</td>\n",
              "      <td>0</td>\n",
              "      <td>0</td>\n",
              "      <td>0</td>\n",
              "      <td>0</td>\n",
              "      <td>0</td>\n",
              "      <td>2022-12-14 08:07:53-03:00</td>\n",
              "      <td>0.00</td>\n",
              "      <td>0.000000</td>\n",
              "      <td>0.000000</td>\n",
              "      <td>0.000000</td>\n",
              "    </tr>\n",
              "  </tbody>\n",
              "</table>\n",
              "<p>3589 rows × 14 columns</p>\n",
              "</div>\n",
              "      <button class=\"colab-df-convert\" onclick=\"convertToInteractive('df-f754e182-d86e-4ee5-bb70-d2f41ba0563c')\"\n",
              "              title=\"Convert this dataframe to an interactive table.\"\n",
              "              style=\"display:none;\">\n",
              "        \n",
              "  <svg xmlns=\"http://www.w3.org/2000/svg\" height=\"24px\"viewBox=\"0 0 24 24\"\n",
              "       width=\"24px\">\n",
              "    <path d=\"M0 0h24v24H0V0z\" fill=\"none\"/>\n",
              "    <path d=\"M18.56 5.44l.94 2.06.94-2.06 2.06-.94-2.06-.94-.94-2.06-.94 2.06-2.06.94zm-11 1L8.5 8.5l.94-2.06 2.06-.94-2.06-.94L8.5 2.5l-.94 2.06-2.06.94zm10 10l.94 2.06.94-2.06 2.06-.94-2.06-.94-.94-2.06-.94 2.06-2.06.94z\"/><path d=\"M17.41 7.96l-1.37-1.37c-.4-.4-.92-.59-1.43-.59-.52 0-1.04.2-1.43.59L10.3 9.45l-7.72 7.72c-.78.78-.78 2.05 0 2.83L4 21.41c.39.39.9.59 1.41.59.51 0 1.02-.2 1.41-.59l7.78-7.78 2.81-2.81c.8-.78.8-2.07 0-2.86zM5.41 20L4 18.59l7.72-7.72 1.47 1.35L5.41 20z\"/>\n",
              "  </svg>\n",
              "      </button>\n",
              "      \n",
              "  <style>\n",
              "    .colab-df-container {\n",
              "      display:flex;\n",
              "      flex-wrap:wrap;\n",
              "      gap: 12px;\n",
              "    }\n",
              "\n",
              "    .colab-df-convert {\n",
              "      background-color: #E8F0FE;\n",
              "      border: none;\n",
              "      border-radius: 50%;\n",
              "      cursor: pointer;\n",
              "      display: none;\n",
              "      fill: #1967D2;\n",
              "      height: 32px;\n",
              "      padding: 0 0 0 0;\n",
              "      width: 32px;\n",
              "    }\n",
              "\n",
              "    .colab-df-convert:hover {\n",
              "      background-color: #E2EBFA;\n",
              "      box-shadow: 0px 1px 2px rgba(60, 64, 67, 0.3), 0px 1px 3px 1px rgba(60, 64, 67, 0.15);\n",
              "      fill: #174EA6;\n",
              "    }\n",
              "\n",
              "    [theme=dark] .colab-df-convert {\n",
              "      background-color: #3B4455;\n",
              "      fill: #D2E3FC;\n",
              "    }\n",
              "\n",
              "    [theme=dark] .colab-df-convert:hover {\n",
              "      background-color: #434B5C;\n",
              "      box-shadow: 0px 1px 3px 1px rgba(0, 0, 0, 0.15);\n",
              "      filter: drop-shadow(0px 1px 2px rgba(0, 0, 0, 0.3));\n",
              "      fill: #FFFFFF;\n",
              "    }\n",
              "  </style>\n",
              "\n",
              "      <script>\n",
              "        const buttonEl =\n",
              "          document.querySelector('#df-f754e182-d86e-4ee5-bb70-d2f41ba0563c button.colab-df-convert');\n",
              "        buttonEl.style.display =\n",
              "          google.colab.kernel.accessAllowed ? 'block' : 'none';\n",
              "\n",
              "        async function convertToInteractive(key) {\n",
              "          const element = document.querySelector('#df-f754e182-d86e-4ee5-bb70-d2f41ba0563c');\n",
              "          const dataTable =\n",
              "            await google.colab.kernel.invokeFunction('convertToInteractive',\n",
              "                                                     [key], {});\n",
              "          if (!dataTable) return;\n",
              "\n",
              "          const docLinkHtml = 'Like what you see? Visit the ' +\n",
              "            '<a target=\"_blank\" href=https://colab.research.google.com/notebooks/data_table.ipynb>data table notebook</a>'\n",
              "            + ' to learn more about interactive tables.';\n",
              "          element.innerHTML = '';\n",
              "          dataTable['output_type'] = 'display_data';\n",
              "          await google.colab.output.renderOutput(dataTable, element);\n",
              "          const docLink = document.createElement('div');\n",
              "          docLink.innerHTML = docLinkHtml;\n",
              "          element.appendChild(docLink);\n",
              "        }\n",
              "      </script>\n",
              "    </div>\n",
              "  </div>\n",
              "  "
            ]
          },
          "metadata": {},
          "execution_count": 23
        }
      ]
    },
    {
      "cell_type": "code",
      "source": [
        "j3u1zero = dados3.query('U1 == 0')\n",
        "#j3u1zero\n",
        "print(f' Sensor U1 de J3 teve {len(j3u1zero)} dados nulos')"
      ],
      "metadata": {
        "id": "uqpJyBHm-T6A",
        "colab": {
          "base_uri": "https://localhost:8080/"
        },
        "outputId": "610b5411-2030-46bf-c9f5-cf84f437b16d"
      },
      "execution_count": 24,
      "outputs": [
        {
          "output_type": "stream",
          "name": "stdout",
          "text": [
            " Sensor U1 de J3 teve 3188 dados nulos\n"
          ]
        }
      ]
    },
    {
      "cell_type": "code",
      "source": [
        "j3u2zero = dados3.query('U2 == 0')\n",
        "#j3u2zero\n",
        "print(f' Sensor U2 de J3 teve {len(j3u2zero)} dados nulos')"
      ],
      "metadata": {
        "id": "PJmULtri-T6A",
        "colab": {
          "base_uri": "https://localhost:8080/"
        },
        "outputId": "a800d4ac-ef55-4bf6-83b1-372b97d33e29"
      },
      "execution_count": 25,
      "outputs": [
        {
          "output_type": "stream",
          "name": "stdout",
          "text": [
            " Sensor U2 de J3 teve 3191 dados nulos\n"
          ]
        }
      ]
    },
    {
      "cell_type": "code",
      "source": [
        "j3u3zero = dados3.query('U3 == 0')\n",
        "#j3u3zero\n",
        "print(f' Sensor U3 de J3 teve {len(j3u3zero)} dados nulos')"
      ],
      "metadata": {
        "id": "Y_FTwJJn-T6A",
        "colab": {
          "base_uri": "https://localhost:8080/"
        },
        "outputId": "87ef1acc-f95a-445e-fbb6-cb446f1b4c44"
      },
      "execution_count": 26,
      "outputs": [
        {
          "output_type": "stream",
          "name": "stdout",
          "text": [
            " Sensor U3 de J3 teve 3199 dados nulos\n"
          ]
        }
      ]
    },
    {
      "cell_type": "markdown",
      "source": [
        "##### Graficos"
      ],
      "metadata": {
        "id": "wQDk8txh_emc"
      }
    },
    {
      "cell_type": "code",
      "source": [
        "fig3 = go.Figure()"
      ],
      "metadata": {
        "id": "c2vxpmvQ_iNJ"
      },
      "execution_count": 27,
      "outputs": []
    },
    {
      "cell_type": "code",
      "source": [
        "# #J1\n",
        "# fig3.add_trace(go.Scatter(x=j1u1zero['created_at'], y=j1u1zero['U1'], mode='markers',name='J1_U1'))\n",
        "# fig3.add_trace(go.Scatter(x=j1u2zero['created_at'], y=j1u2zero['U2'], mode='markers',name='J1_U2'))\n",
        "# fig3.add_trace(go.Scatter(x=j1u3zero['created_at'], y=j1u3zero['U3'], mode='markers',name='J1_U3'))\n",
        "# #J2\n",
        "# fig3.add_trace(go.Scatter(x=j2u1zero['created_at'], y=j2u1zero['U1'], mode='markers',name='J2_U2'))\n",
        "# fig3.add_trace(go.Scatter(x=j2u2zero['created_at'], y=j1u2zero['U2'], mode='markers',name='J2_U2'))\n",
        "# fig3.add_trace(go.Scatter(x=j2u3zero['created_at'], y=j2u3zero['U3'], mode='markers',name='J2_U3'))\n",
        "# #J3\n",
        "# fig3.add_trace(go.Scatter(x=j3u1zero['created_at'], y=j3u1zero['U1'], mode='markers',name='J3_U1'))\n",
        "# fig3.add_trace(go.Scatter(x=j3u2zero['created_at'], y=j3u2zero['U2'], mode='markers',name='J3_U2'))\n",
        "# fig3.add_trace(go.Scatter(x=j3u3zero['created_at'], y=j3u3zero['U3'], mode='markers',name='J3_U3'))"
      ],
      "metadata": {
        "id": "oOnJnhq__iTW"
      },
      "execution_count": 28,
      "outputs": []
    },
    {
      "cell_type": "code",
      "source": [],
      "metadata": {
        "id": "0yavxQeiBLZA"
      },
      "execution_count": 28,
      "outputs": []
    },
    {
      "cell_type": "code",
      "source": [],
      "metadata": {
        "id": "PjXDvvJY_wOO"
      },
      "execution_count": 28,
      "outputs": []
    },
    {
      "cell_type": "markdown",
      "source": [
        "#### Envio de dados e Tempo sem internet"
      ],
      "metadata": {
        "id": "Y2ZO1kPi9RVU"
      }
    },
    {
      "cell_type": "code",
      "source": [
        "from datetime import datetime\n",
        "from datetime import timedelta\n",
        "import numpy as np"
      ],
      "metadata": {
        "id": "YuzrIRBL9VGa"
      },
      "execution_count": 29,
      "outputs": []
    },
    {
      "cell_type": "markdown",
      "source": [
        "##### J1"
      ],
      "metadata": {
        "id": "QfKRyrOCPrBb"
      }
    },
    {
      "cell_type": "code",
      "source": [
        "#dados1"
      ],
      "metadata": {
        "id": "oXSE6NBqEcdW"
      },
      "execution_count": 30,
      "outputs": []
    },
    {
      "cell_type": "code",
      "source": [
        "dias = [0]\n",
        "horas = [0]\n",
        "minutos = [0]\n",
        "segundos = [0]\n",
        "\n",
        "for i in pd.to_datetime(dados1['created_at']):  #pega as informações de tempo do dado original e salva em objetos de data\n",
        "  dias.append(i.day)\n",
        "  horas.append(i.hour)\n",
        "  minutos.append(i.minute)\n",
        "  segundos.append(i.second)\n"
      ],
      "metadata": {
        "id": "7kwC-_SPJr9X"
      },
      "execution_count": 31,
      "outputs": []
    },
    {
      "cell_type": "code",
      "source": [
        "tempo =[]\n",
        "delta=[]\n",
        "\n",
        "#for i,j in enumerate(pd.to_datetime(dados1['created_at'])):\n",
        "\n",
        "\n",
        "#delta.remove(delta[0])"
      ],
      "metadata": {
        "id": "av-E66EDBGQS"
      },
      "execution_count": 32,
      "outputs": []
    },
    {
      "cell_type": "code",
      "source": [],
      "metadata": {
        "id": "4spH9e5NSctN"
      },
      "execution_count": 32,
      "outputs": []
    },
    {
      "cell_type": "code",
      "source": [
        "dados1['DifMinutos'] = delta[0:]      # coloca as informações de tempo no DataFrame"
      ],
      "metadata": {
        "id": "8l3aowfVQVGW",
        "colab": {
          "base_uri": "https://localhost:8080/",
          "height": 0
        },
        "outputId": "99209c57-a757-4aac-c591-570bc33b84e3"
      },
      "execution_count": 33,
      "outputs": [
        {
          "output_type": "error",
          "ename": "ValueError",
          "evalue": "ignored",
          "traceback": [
            "\u001b[0;31m---------------------------------------------------------------------------\u001b[0m",
            "\u001b[0;31mValueError\u001b[0m                                Traceback (most recent call last)",
            "\u001b[0;32m<ipython-input-33-625061a7991c>\u001b[0m in \u001b[0;36m<module>\u001b[0;34m\u001b[0m\n\u001b[0;32m----> 1\u001b[0;31m \u001b[0mdados1\u001b[0m\u001b[0;34m[\u001b[0m\u001b[0;34m'DifMinutos'\u001b[0m\u001b[0;34m]\u001b[0m \u001b[0;34m=\u001b[0m \u001b[0mdelta\u001b[0m\u001b[0;34m[\u001b[0m\u001b[0;36m0\u001b[0m\u001b[0;34m:\u001b[0m\u001b[0;34m]\u001b[0m      \u001b[0;31m# coloca as informações de tempo no DataFrame\u001b[0m\u001b[0;34m\u001b[0m\u001b[0;34m\u001b[0m\u001b[0m\n\u001b[0m",
            "\u001b[0;32m/usr/local/lib/python3.8/dist-packages/pandas/core/frame.py\u001b[0m in \u001b[0;36m__setitem__\u001b[0;34m(self, key, value)\u001b[0m\n\u001b[1;32m   3610\u001b[0m         \u001b[0;32melse\u001b[0m\u001b[0;34m:\u001b[0m\u001b[0;34m\u001b[0m\u001b[0;34m\u001b[0m\u001b[0m\n\u001b[1;32m   3611\u001b[0m             \u001b[0;31m# set column\u001b[0m\u001b[0;34m\u001b[0m\u001b[0;34m\u001b[0m\u001b[0;34m\u001b[0m\u001b[0m\n\u001b[0;32m-> 3612\u001b[0;31m             \u001b[0mself\u001b[0m\u001b[0;34m.\u001b[0m\u001b[0m_set_item\u001b[0m\u001b[0;34m(\u001b[0m\u001b[0mkey\u001b[0m\u001b[0;34m,\u001b[0m \u001b[0mvalue\u001b[0m\u001b[0;34m)\u001b[0m\u001b[0;34m\u001b[0m\u001b[0;34m\u001b[0m\u001b[0m\n\u001b[0m\u001b[1;32m   3613\u001b[0m \u001b[0;34m\u001b[0m\u001b[0m\n\u001b[1;32m   3614\u001b[0m     \u001b[0;32mdef\u001b[0m \u001b[0m_setitem_slice\u001b[0m\u001b[0;34m(\u001b[0m\u001b[0mself\u001b[0m\u001b[0;34m,\u001b[0m \u001b[0mkey\u001b[0m\u001b[0;34m:\u001b[0m \u001b[0mslice\u001b[0m\u001b[0;34m,\u001b[0m \u001b[0mvalue\u001b[0m\u001b[0;34m)\u001b[0m\u001b[0;34m:\u001b[0m\u001b[0;34m\u001b[0m\u001b[0;34m\u001b[0m\u001b[0m\n",
            "\u001b[0;32m/usr/local/lib/python3.8/dist-packages/pandas/core/frame.py\u001b[0m in \u001b[0;36m_set_item\u001b[0;34m(self, key, value)\u001b[0m\n\u001b[1;32m   3782\u001b[0m         \u001b[0mensure\u001b[0m \u001b[0mhomogeneity\u001b[0m\u001b[0;34m.\u001b[0m\u001b[0;34m\u001b[0m\u001b[0;34m\u001b[0m\u001b[0m\n\u001b[1;32m   3783\u001b[0m         \"\"\"\n\u001b[0;32m-> 3784\u001b[0;31m         \u001b[0mvalue\u001b[0m \u001b[0;34m=\u001b[0m \u001b[0mself\u001b[0m\u001b[0;34m.\u001b[0m\u001b[0m_sanitize_column\u001b[0m\u001b[0;34m(\u001b[0m\u001b[0mvalue\u001b[0m\u001b[0;34m)\u001b[0m\u001b[0;34m\u001b[0m\u001b[0;34m\u001b[0m\u001b[0m\n\u001b[0m\u001b[1;32m   3785\u001b[0m \u001b[0;34m\u001b[0m\u001b[0m\n\u001b[1;32m   3786\u001b[0m         if (\n",
            "\u001b[0;32m/usr/local/lib/python3.8/dist-packages/pandas/core/frame.py\u001b[0m in \u001b[0;36m_sanitize_column\u001b[0;34m(self, value)\u001b[0m\n\u001b[1;32m   4507\u001b[0m \u001b[0;34m\u001b[0m\u001b[0m\n\u001b[1;32m   4508\u001b[0m         \u001b[0;32mif\u001b[0m \u001b[0mis_list_like\u001b[0m\u001b[0;34m(\u001b[0m\u001b[0mvalue\u001b[0m\u001b[0;34m)\u001b[0m\u001b[0;34m:\u001b[0m\u001b[0;34m\u001b[0m\u001b[0;34m\u001b[0m\u001b[0m\n\u001b[0;32m-> 4509\u001b[0;31m             \u001b[0mcom\u001b[0m\u001b[0;34m.\u001b[0m\u001b[0mrequire_length_match\u001b[0m\u001b[0;34m(\u001b[0m\u001b[0mvalue\u001b[0m\u001b[0;34m,\u001b[0m \u001b[0mself\u001b[0m\u001b[0;34m.\u001b[0m\u001b[0mindex\u001b[0m\u001b[0;34m)\u001b[0m\u001b[0;34m\u001b[0m\u001b[0;34m\u001b[0m\u001b[0m\n\u001b[0m\u001b[1;32m   4510\u001b[0m         \u001b[0;32mreturn\u001b[0m \u001b[0msanitize_array\u001b[0m\u001b[0;34m(\u001b[0m\u001b[0mvalue\u001b[0m\u001b[0;34m,\u001b[0m \u001b[0mself\u001b[0m\u001b[0;34m.\u001b[0m\u001b[0mindex\u001b[0m\u001b[0;34m,\u001b[0m \u001b[0mcopy\u001b[0m\u001b[0;34m=\u001b[0m\u001b[0;32mTrue\u001b[0m\u001b[0;34m,\u001b[0m \u001b[0mallow_2d\u001b[0m\u001b[0;34m=\u001b[0m\u001b[0;32mTrue\u001b[0m\u001b[0;34m)\u001b[0m\u001b[0;34m\u001b[0m\u001b[0;34m\u001b[0m\u001b[0m\n\u001b[1;32m   4511\u001b[0m \u001b[0;34m\u001b[0m\u001b[0m\n",
            "\u001b[0;32m/usr/local/lib/python3.8/dist-packages/pandas/core/common.py\u001b[0m in \u001b[0;36mrequire_length_match\u001b[0;34m(data, index)\u001b[0m\n\u001b[1;32m    529\u001b[0m     \"\"\"\n\u001b[1;32m    530\u001b[0m     \u001b[0;32mif\u001b[0m \u001b[0mlen\u001b[0m\u001b[0;34m(\u001b[0m\u001b[0mdata\u001b[0m\u001b[0;34m)\u001b[0m \u001b[0;34m!=\u001b[0m \u001b[0mlen\u001b[0m\u001b[0;34m(\u001b[0m\u001b[0mindex\u001b[0m\u001b[0;34m)\u001b[0m\u001b[0;34m:\u001b[0m\u001b[0;34m\u001b[0m\u001b[0;34m\u001b[0m\u001b[0m\n\u001b[0;32m--> 531\u001b[0;31m         raise ValueError(\n\u001b[0m\u001b[1;32m    532\u001b[0m             \u001b[0;34m\"Length of values \"\u001b[0m\u001b[0;34m\u001b[0m\u001b[0;34m\u001b[0m\u001b[0m\n\u001b[1;32m    533\u001b[0m             \u001b[0;34mf\"({len(data)}) \"\u001b[0m\u001b[0;34m\u001b[0m\u001b[0;34m\u001b[0m\u001b[0m\n",
            "\u001b[0;31mValueError\u001b[0m: Length of values (0) does not match length of index (3766)"
          ]
        }
      ]
    },
    {
      "cell_type": "code",
      "source": [
        "dados1['DifMinutos'][0] = np.nan     # tira a primeira informação de tempo (pois a diferença de minutos é feita entre duas datas e a primeira diferença foi feita com um dado nulo)"
      ],
      "metadata": {
        "id": "Nsa96udqThyf"
      },
      "execution_count": null,
      "outputs": []
    },
    {
      "cell_type": "code",
      "source": [
        "dados1[['created_at','DifMinutos']].describe()"
      ],
      "metadata": {
        "id": "nA-EfHtzgEIE"
      },
      "execution_count": null,
      "outputs": []
    },
    {
      "cell_type": "code",
      "source": [],
      "metadata": {
        "id": "XyBgIAO8rhny"
      },
      "execution_count": null,
      "outputs": []
    },
    {
      "cell_type": "code",
      "source": [
        "#dadosj1 = pd.DataFrame(data = delta).rename({0 : 'Minutos'}, axis=1)\n",
        "dados1media = str(dados1['DifMinutos'] .mean())\n",
        "dados1media"
      ],
      "metadata": {
        "id": "1UwCj8iPPjDT"
      },
      "execution_count": null,
      "outputs": []
    },
    {
      "cell_type": "markdown",
      "source": [
        "###### Tempo sem Internet"
      ],
      "metadata": {
        "id": "T0-G3hxhYTsA"
      }
    },
    {
      "cell_type": "code",
      "source": [
        "# analísa o tempo (acima da media) que o sensor nao enviou dados . Tempos sem envio de dados abaixo da média não são enxergados aqui"
      ],
      "metadata": {
        "id": "cpyrZT6GwqHi"
      },
      "execution_count": null,
      "outputs": []
    },
    {
      "cell_type": "code",
      "source": [
        "sem_internet1 = dados1.query(f'DifMinutos > {dados1media}')"
      ],
      "metadata": {
        "id": "E5ceyyK2QwpE"
      },
      "execution_count": null,
      "outputs": []
    },
    {
      "cell_type": "code",
      "source": [
        "sem_internet1[['created_at','DifMinutos']]"
      ],
      "metadata": {
        "id": "mNB5EGTtVSiv"
      },
      "execution_count": null,
      "outputs": []
    },
    {
      "cell_type": "code",
      "source": [
        "sem_internet1['DifMinutos'].mean()\n"
      ],
      "metadata": {
        "id": "NELetk7BfupX"
      },
      "execution_count": null,
      "outputs": []
    },
    {
      "cell_type": "code",
      "source": [],
      "metadata": {
        "id": "HBulYld4fsa_"
      },
      "execution_count": null,
      "outputs": []
    },
    {
      "cell_type": "code",
      "source": [
        "figj1 = go.Figure()"
      ],
      "metadata": {
        "id": "CNkSrsQKUu6H"
      },
      "execution_count": null,
      "outputs": []
    },
    {
      "cell_type": "code",
      "source": [
        "figj1.add_trace(go.Scatter(x=sem_internet1['created_at'], y = sem_internet1['DifMinutos'], mode= 'markers'))\n",
        "                           "
      ],
      "metadata": {
        "id": "zfvG2mDbU16Y"
      },
      "execution_count": null,
      "outputs": []
    },
    {
      "cell_type": "code",
      "source": [],
      "metadata": {
        "id": "VUJpw1DtZPac"
      },
      "execution_count": null,
      "outputs": []
    },
    {
      "cell_type": "markdown",
      "source": [
        "##### J2"
      ],
      "metadata": {
        "id": "Na3jhbb7ZPoV"
      }
    },
    {
      "cell_type": "code",
      "source": [
        "#dados2"
      ],
      "metadata": {
        "id": "oCIIVuW7ZPoV"
      },
      "execution_count": null,
      "outputs": []
    },
    {
      "cell_type": "code",
      "source": [
        "dias = [0]\n",
        "horas = [0]\n",
        "minutos = [0]\n",
        "segundos = [0]\n",
        "\n",
        "for i in pd.to_datetime(dados2['created_at']):  #pega as informações de tempo do dado original e salva em objetos de data\n",
        "  dias.append(i.day)\n",
        "  horas.append(i.hour)\n",
        "  minutos.append(i.minute)\n",
        "  segundos.append(i.second)"
      ],
      "metadata": {
        "id": "VnrlKB-GZPoV"
      },
      "execution_count": null,
      "outputs": []
    },
    {
      "cell_type": "code",
      "source": [
        "dif =[]\n",
        "delta=[]\n",
        "\n",
        "for i,j in enumerate(pd.to_datetime(dados2['created_at'])):\n",
        "\n",
        "  dif = j - timedelta(days = dias[i], hours = horas[i], minutes = minutos[i],seconds = segundos[i])\n",
        "  tempo = (dif.hour)*60 + dif.minute + (dif.second)/60        # faz a conversão de hora e segundo para minuto\n",
        "  delta.append(tempo)    # salva as informações de tempo (em minutos)\n",
        "\n",
        "\n",
        "#delta.remove(delta[0])"
      ],
      "metadata": {
        "id": "2Lk3eTxSZPoV"
      },
      "execution_count": null,
      "outputs": []
    },
    {
      "cell_type": "code",
      "source": [],
      "metadata": {
        "id": "gb9xIGwZZPoV"
      },
      "execution_count": null,
      "outputs": []
    },
    {
      "cell_type": "code",
      "source": [
        "dados2['DifMinutos'] = delta[0:]      # coloca as informações de tempo no DataFrame"
      ],
      "metadata": {
        "id": "gIXlZTlOZPoV"
      },
      "execution_count": null,
      "outputs": []
    },
    {
      "cell_type": "code",
      "source": [
        "dados2['DifMinutos'][0] = np.nan     # tira a primeira informação de tempo (pois a diferença de minutos é feita entre duas datas e a primeira diferença foi feita com um dado nulo)"
      ],
      "metadata": {
        "id": "TY0G3rHTgN5_"
      },
      "execution_count": null,
      "outputs": []
    },
    {
      "cell_type": "code",
      "source": [
        "dados2[['created_at','DifMinutos']]"
      ],
      "metadata": {
        "id": "av8e0vmSZPoV"
      },
      "execution_count": null,
      "outputs": []
    },
    {
      "cell_type": "code",
      "source": [
        "dados2[['created_at','DifMinutos']].describe()"
      ],
      "metadata": {
        "id": "yYErjt1y44hJ"
      },
      "execution_count": null,
      "outputs": []
    },
    {
      "cell_type": "code",
      "source": [
        "#dadosj2 = pd.DataFrame(data = delta).rename({0 : 'Minutos'}, axis=1)\n",
        "dados2media = str(dados2['DifMinutos'] .mean())\n",
        "dados2media"
      ],
      "metadata": {
        "id": "Ldg2FA1yZPoV"
      },
      "execution_count": null,
      "outputs": []
    },
    {
      "cell_type": "code",
      "source": [],
      "metadata": {
        "id": "FrtGuV5eZilw"
      },
      "execution_count": null,
      "outputs": []
    },
    {
      "cell_type": "markdown",
      "source": [
        "###### Tempo sem Internet"
      ],
      "metadata": {
        "id": "fEQbyeQnZPoW"
      }
    },
    {
      "cell_type": "code",
      "source": [
        "# analísa o tempo (acima da media) que o sensor nao enviou dados . Tempos sem envio de dados abaixo da média não são enxergados aqui"
      ],
      "metadata": {
        "id": "E4aGING8w8Lw"
      },
      "execution_count": null,
      "outputs": []
    },
    {
      "cell_type": "code",
      "source": [
        "sem_internet2 = dados2.query(f'DifMinutos > {dados2media}')"
      ],
      "metadata": {
        "id": "uloqxlgoZPoW"
      },
      "execution_count": null,
      "outputs": []
    },
    {
      "cell_type": "code",
      "source": [
        "sem_internet2[['created_at','DifMinutos']]"
      ],
      "metadata": {
        "id": "BQaIYgWpZPoW"
      },
      "execution_count": null,
      "outputs": []
    },
    {
      "cell_type": "code",
      "source": [
        "sem_internet2['DifMinutos'].mean()"
      ],
      "metadata": {
        "id": "fERXZl32fUiu"
      },
      "execution_count": null,
      "outputs": []
    },
    {
      "cell_type": "code",
      "source": [
        "figj2 = go.Figure()"
      ],
      "metadata": {
        "id": "p9yyFHkaZPoW"
      },
      "execution_count": null,
      "outputs": []
    },
    {
      "cell_type": "code",
      "source": [
        "figj2.add_trace(go.Scatter(x=sem_internet2['created_at'], y = sem_internet2['DifMinutos'], mode= 'markers'))\n",
        "                           "
      ],
      "metadata": {
        "id": "bohc30GbZPoW"
      },
      "execution_count": null,
      "outputs": []
    },
    {
      "cell_type": "code",
      "source": [],
      "metadata": {
        "id": "-WRtLwvFZ7ih"
      },
      "execution_count": null,
      "outputs": []
    },
    {
      "cell_type": "markdown",
      "source": [
        "##### J3"
      ],
      "metadata": {
        "id": "-dwpe_xXZ7pd"
      }
    },
    {
      "cell_type": "code",
      "source": [
        "#dados3"
      ],
      "metadata": {
        "id": "d9z66-c5Z7pd"
      },
      "execution_count": null,
      "outputs": []
    },
    {
      "cell_type": "code",
      "source": [
        "dias = [0]\n",
        "horas = [0]\n",
        "minutos = [0]\n",
        "segundos = [0]\n",
        "\n",
        "for i in pd.to_datetime(dados3['created_at']):  #pega as informações de tempo do dado original e salva em objetos de data\n",
        "  dias.append(i.day)\n",
        "  horas.append(i.hour)\n",
        "  minutos.append(i.minute)\n",
        "  segundos.append(i.second)"
      ],
      "metadata": {
        "id": "NPV295dwZ7pe"
      },
      "execution_count": null,
      "outputs": []
    },
    {
      "cell_type": "code",
      "source": [
        "dif =[]\n",
        "delta=[]\n",
        "\n",
        "for i,j in enumerate(pd.to_datetime(dados3['created_at'])):\n",
        "\n",
        "  dif = j - timedelta(days = dias[i], hours = horas[i], minutes = minutos[i], seconds = segundos[i])\n",
        "  tempo = (dif.hour)*60 + dif.minute + (dif.second)/60        # faz a conversão de hora e segundo para minuto\n",
        "  delta.append(tempo)    # salva as informações de tempo (em minutos)\n",
        "\n",
        "#delta.remove(delta[0])"
      ],
      "metadata": {
        "id": "5b82l1TQZ7pe"
      },
      "execution_count": null,
      "outputs": []
    },
    {
      "cell_type": "code",
      "source": [],
      "metadata": {
        "id": "SNwcgRFsZ7pe"
      },
      "execution_count": null,
      "outputs": []
    },
    {
      "cell_type": "code",
      "source": [
        "dados3['DifMinutos'] = delta[0:]      # coloca as informações de tempo no DataFrame"
      ],
      "metadata": {
        "id": "-gRaO93gZ7pe"
      },
      "execution_count": null,
      "outputs": []
    },
    {
      "cell_type": "code",
      "source": [
        "dados3['DifMinutos'][0] = np.nan     # tira a primeira informação de tempo (pois a diferença de minutos é feita entre duas datas e a primeira diferença foi feita com um dado nulo)"
      ],
      "metadata": {
        "id": "nxYDTONYgTMU"
      },
      "execution_count": null,
      "outputs": []
    },
    {
      "cell_type": "code",
      "source": [
        "dados3[['created_at','DifMinutos']]"
      ],
      "metadata": {
        "id": "zgxLJWfTZ7pe"
      },
      "execution_count": null,
      "outputs": []
    },
    {
      "cell_type": "code",
      "source": [
        "dados3[['created_at','DifMinutos']].describe()"
      ],
      "metadata": {
        "id": "NHqEor9Q49Iv"
      },
      "execution_count": null,
      "outputs": []
    },
    {
      "cell_type": "code",
      "source": [
        "#dadosj3 = pd.DataFrame(data = delta).rename({0 : 'Minutos'}, axis=1)\n",
        "dados3media = str(dados3['DifMinutos'] .mean())\n",
        "dados3media"
      ],
      "metadata": {
        "id": "OiaozXImZ7pe"
      },
      "execution_count": null,
      "outputs": []
    },
    {
      "cell_type": "code",
      "source": [],
      "metadata": {
        "id": "0HWVjwnGZ7pe"
      },
      "execution_count": null,
      "outputs": []
    },
    {
      "cell_type": "markdown",
      "source": [
        "###### Tempo sem Internet"
      ],
      "metadata": {
        "id": "UA3yB7yhZ7pe"
      }
    },
    {
      "cell_type": "code",
      "source": [
        "# analísa o tempo (acima da media) que o sensor nao enviou dados . Tempos sem envio de dados abaixo da média não são enxergados aqui"
      ],
      "metadata": {
        "id": "1XuSWPy-w-dQ"
      },
      "execution_count": null,
      "outputs": []
    },
    {
      "cell_type": "code",
      "source": [
        "sem_internet3 = dados3.query(f'DifMinutos > {dados3media}')"
      ],
      "metadata": {
        "id": "Fl7KC6PGZ7pe"
      },
      "execution_count": null,
      "outputs": []
    },
    {
      "cell_type": "code",
      "source": [
        "sem_internet3[['created_at','DifMinutos']]"
      ],
      "metadata": {
        "id": "9ENraDOQZ7pe"
      },
      "execution_count": null,
      "outputs": []
    },
    {
      "cell_type": "code",
      "source": [
        "sem_internet3['DifMinutos'].mean()"
      ],
      "metadata": {
        "id": "1_ZBK7kbfFN8"
      },
      "execution_count": null,
      "outputs": []
    },
    {
      "cell_type": "code",
      "source": [
        "figj3 = go.Figure()"
      ],
      "metadata": {
        "id": "c2iamlL1Z7pe"
      },
      "execution_count": null,
      "outputs": []
    },
    {
      "cell_type": "code",
      "source": [
        "figj3.add_trace(go.Scatter(x=sem_internet3['created_at'], y = sem_internet3['DifMinutos'], mode= 'markers'))\n",
        "                           "
      ],
      "metadata": {
        "id": "qlGlBUcyZ7pf"
      },
      "execution_count": null,
      "outputs": []
    },
    {
      "cell_type": "markdown",
      "source": [
        "##### Todos os canais"
      ],
      "metadata": {
        "id": "xuept_ELack5"
      }
    },
    {
      "cell_type": "code",
      "source": [
        "dados1.describe()\n",
        "#dados1[['created_at','DifMinutos']].describe()"
      ],
      "metadata": {
        "id": "1ZFfIoY03QBx"
      },
      "execution_count": null,
      "outputs": []
    },
    {
      "cell_type": "code",
      "source": [
        "dados2.describe()\n",
        "#dados2[['created_at','DifMinutos']].describe()"
      ],
      "metadata": {
        "id": "iu9Lis_p5Clw"
      },
      "execution_count": null,
      "outputs": []
    },
    {
      "cell_type": "code",
      "source": [
        "dados3.describe()\n",
        "#dados3[['created_at','DifMinutos']].describe()"
      ],
      "metadata": {
        "id": "4Dph9PNU5DvO"
      },
      "execution_count": null,
      "outputs": []
    },
    {
      "cell_type": "code",
      "source": [
        "# Quantidades de vezes que o tempo de envio de dados foi acima da média . Tempos sem envio de dados abaixo da média não são enxergados aqui\n",
        "\n",
        "print(len(sem_internet1),len(sem_internet2),len(sem_internet3))"
      ],
      "metadata": {
        "id": "Ie7Mjv0Samhu"
      },
      "execution_count": null,
      "outputs": []
    },
    {
      "cell_type": "code",
      "source": [
        "figfinal = go.Figure()"
      ],
      "metadata": {
        "id": "x9E5OgBGcbRK"
      },
      "execution_count": null,
      "outputs": []
    },
    {
      "cell_type": "code",
      "source": [
        "# Gráfico da quantidade de vezes que o tempo de envio de dados foi acima da média \n",
        "figfinal.add_trace(go.Scatter(x=sem_internet1['created_at'], y = sem_internet1['DifMinutos'], mode= 'markers', name = 'J1'))\n",
        "figfinal.add_trace(go.Scatter(x=sem_internet2['created_at'], y = sem_internet2['DifMinutos'], mode= 'markers', name = 'J2'))\n",
        "figfinal.add_trace(go.Scatter(x=sem_internet3['created_at'], y = sem_internet3['DifMinutos'], mode= 'markers', name = 'J3'))\n"
      ],
      "metadata": {
        "id": "JGo15XXvcirn"
      },
      "execution_count": null,
      "outputs": []
    },
    {
      "cell_type": "code",
      "source": [],
      "metadata": {
        "id": "Y-KKbwTdd6Ni"
      },
      "execution_count": null,
      "outputs": []
    },
    {
      "cell_type": "code",
      "source": [],
      "metadata": {
        "id": "Fy8jDvzqd6Su"
      },
      "execution_count": null,
      "outputs": []
    },
    {
      "cell_type": "markdown",
      "source": [
        "#### Linha de Tendência"
      ],
      "metadata": {
        "id": "UIU9fplvENDy"
      }
    },
    {
      "cell_type": "code",
      "source": [
        "from datetime import datetime\n",
        "from datetime import timedelta\n",
        "import numpy as np"
      ],
      "metadata": {
        "id": "NoTkTfEhdelb"
      },
      "execution_count": 10,
      "outputs": []
    },
    {
      "cell_type": "code",
      "source": [],
      "metadata": {
        "id": "rQ5cIfD4-2jt"
      },
      "execution_count": null,
      "outputs": []
    },
    {
      "cell_type": "markdown",
      "source": [
        "##### J1"
      ],
      "metadata": {
        "id": "nn26WgpjghiL"
      }
    },
    {
      "cell_type": "code",
      "source": [
        "dados1lt = dados1[['created_at','U1','U2','U3']]\n",
        "dados1lt\n"
      ],
      "metadata": {
        "colab": {
          "base_uri": "https://localhost:8080/",
          "height": 0
        },
        "id": "O9ykLXOTEgFi",
        "outputId": "56deaa3a-ed5f-4ddf-fe7a-711c066bf8d5"
      },
      "execution_count": 11,
      "outputs": [
        {
          "output_type": "execute_result",
          "data": {
            "text/plain": [
              "                     created_at   U1   U2   U3\n",
              "0     2022-11-30T10:51:50-03:00  514  434  826\n",
              "1     2022-11-30T10:52:53-03:00  613  498  827\n",
              "2     2022-11-30T10:53:55-03:00    0  104  828\n",
              "3     2022-11-30T10:54:58-03:00    0  102  828\n",
              "4     2022-11-30T10:56:00-03:00    0  103  828\n",
              "...                         ...  ...  ...  ...\n",
              "3761  2022-12-14T07:46:32-03:00    0    0    0\n",
              "3762  2022-12-14T07:58:25-03:00    0    0    0\n",
              "3763  2022-12-14T08:02:18-03:00    0    0    0\n",
              "3764  2022-12-14T08:06:14-03:00    0    0    0\n",
              "3765  2022-12-14T10:02:45-03:00    0    0    0\n",
              "\n",
              "[3766 rows x 4 columns]"
            ],
            "text/html": [
              "\n",
              "  <div id=\"df-6f7f336a-1b55-4b8c-a882-9541cc8b6cb2\">\n",
              "    <div class=\"colab-df-container\">\n",
              "      <div>\n",
              "<style scoped>\n",
              "    .dataframe tbody tr th:only-of-type {\n",
              "        vertical-align: middle;\n",
              "    }\n",
              "\n",
              "    .dataframe tbody tr th {\n",
              "        vertical-align: top;\n",
              "    }\n",
              "\n",
              "    .dataframe thead th {\n",
              "        text-align: right;\n",
              "    }\n",
              "</style>\n",
              "<table border=\"1\" class=\"dataframe\">\n",
              "  <thead>\n",
              "    <tr style=\"text-align: right;\">\n",
              "      <th></th>\n",
              "      <th>created_at</th>\n",
              "      <th>U1</th>\n",
              "      <th>U2</th>\n",
              "      <th>U3</th>\n",
              "    </tr>\n",
              "  </thead>\n",
              "  <tbody>\n",
              "    <tr>\n",
              "      <th>0</th>\n",
              "      <td>2022-11-30T10:51:50-03:00</td>\n",
              "      <td>514</td>\n",
              "      <td>434</td>\n",
              "      <td>826</td>\n",
              "    </tr>\n",
              "    <tr>\n",
              "      <th>1</th>\n",
              "      <td>2022-11-30T10:52:53-03:00</td>\n",
              "      <td>613</td>\n",
              "      <td>498</td>\n",
              "      <td>827</td>\n",
              "    </tr>\n",
              "    <tr>\n",
              "      <th>2</th>\n",
              "      <td>2022-11-30T10:53:55-03:00</td>\n",
              "      <td>0</td>\n",
              "      <td>104</td>\n",
              "      <td>828</td>\n",
              "    </tr>\n",
              "    <tr>\n",
              "      <th>3</th>\n",
              "      <td>2022-11-30T10:54:58-03:00</td>\n",
              "      <td>0</td>\n",
              "      <td>102</td>\n",
              "      <td>828</td>\n",
              "    </tr>\n",
              "    <tr>\n",
              "      <th>4</th>\n",
              "      <td>2022-11-30T10:56:00-03:00</td>\n",
              "      <td>0</td>\n",
              "      <td>103</td>\n",
              "      <td>828</td>\n",
              "    </tr>\n",
              "    <tr>\n",
              "      <th>...</th>\n",
              "      <td>...</td>\n",
              "      <td>...</td>\n",
              "      <td>...</td>\n",
              "      <td>...</td>\n",
              "    </tr>\n",
              "    <tr>\n",
              "      <th>3761</th>\n",
              "      <td>2022-12-14T07:46:32-03:00</td>\n",
              "      <td>0</td>\n",
              "      <td>0</td>\n",
              "      <td>0</td>\n",
              "    </tr>\n",
              "    <tr>\n",
              "      <th>3762</th>\n",
              "      <td>2022-12-14T07:58:25-03:00</td>\n",
              "      <td>0</td>\n",
              "      <td>0</td>\n",
              "      <td>0</td>\n",
              "    </tr>\n",
              "    <tr>\n",
              "      <th>3763</th>\n",
              "      <td>2022-12-14T08:02:18-03:00</td>\n",
              "      <td>0</td>\n",
              "      <td>0</td>\n",
              "      <td>0</td>\n",
              "    </tr>\n",
              "    <tr>\n",
              "      <th>3764</th>\n",
              "      <td>2022-12-14T08:06:14-03:00</td>\n",
              "      <td>0</td>\n",
              "      <td>0</td>\n",
              "      <td>0</td>\n",
              "    </tr>\n",
              "    <tr>\n",
              "      <th>3765</th>\n",
              "      <td>2022-12-14T10:02:45-03:00</td>\n",
              "      <td>0</td>\n",
              "      <td>0</td>\n",
              "      <td>0</td>\n",
              "    </tr>\n",
              "  </tbody>\n",
              "</table>\n",
              "<p>3766 rows × 4 columns</p>\n",
              "</div>\n",
              "      <button class=\"colab-df-convert\" onclick=\"convertToInteractive('df-6f7f336a-1b55-4b8c-a882-9541cc8b6cb2')\"\n",
              "              title=\"Convert this dataframe to an interactive table.\"\n",
              "              style=\"display:none;\">\n",
              "        \n",
              "  <svg xmlns=\"http://www.w3.org/2000/svg\" height=\"24px\"viewBox=\"0 0 24 24\"\n",
              "       width=\"24px\">\n",
              "    <path d=\"M0 0h24v24H0V0z\" fill=\"none\"/>\n",
              "    <path d=\"M18.56 5.44l.94 2.06.94-2.06 2.06-.94-2.06-.94-.94-2.06-.94 2.06-2.06.94zm-11 1L8.5 8.5l.94-2.06 2.06-.94-2.06-.94L8.5 2.5l-.94 2.06-2.06.94zm10 10l.94 2.06.94-2.06 2.06-.94-2.06-.94-.94-2.06-.94 2.06-2.06.94z\"/><path d=\"M17.41 7.96l-1.37-1.37c-.4-.4-.92-.59-1.43-.59-.52 0-1.04.2-1.43.59L10.3 9.45l-7.72 7.72c-.78.78-.78 2.05 0 2.83L4 21.41c.39.39.9.59 1.41.59.51 0 1.02-.2 1.41-.59l7.78-7.78 2.81-2.81c.8-.78.8-2.07 0-2.86zM5.41 20L4 18.59l7.72-7.72 1.47 1.35L5.41 20z\"/>\n",
              "  </svg>\n",
              "      </button>\n",
              "      \n",
              "  <style>\n",
              "    .colab-df-container {\n",
              "      display:flex;\n",
              "      flex-wrap:wrap;\n",
              "      gap: 12px;\n",
              "    }\n",
              "\n",
              "    .colab-df-convert {\n",
              "      background-color: #E8F0FE;\n",
              "      border: none;\n",
              "      border-radius: 50%;\n",
              "      cursor: pointer;\n",
              "      display: none;\n",
              "      fill: #1967D2;\n",
              "      height: 32px;\n",
              "      padding: 0 0 0 0;\n",
              "      width: 32px;\n",
              "    }\n",
              "\n",
              "    .colab-df-convert:hover {\n",
              "      background-color: #E2EBFA;\n",
              "      box-shadow: 0px 1px 2px rgba(60, 64, 67, 0.3), 0px 1px 3px 1px rgba(60, 64, 67, 0.15);\n",
              "      fill: #174EA6;\n",
              "    }\n",
              "\n",
              "    [theme=dark] .colab-df-convert {\n",
              "      background-color: #3B4455;\n",
              "      fill: #D2E3FC;\n",
              "    }\n",
              "\n",
              "    [theme=dark] .colab-df-convert:hover {\n",
              "      background-color: #434B5C;\n",
              "      box-shadow: 0px 1px 3px 1px rgba(0, 0, 0, 0.15);\n",
              "      filter: drop-shadow(0px 1px 2px rgba(0, 0, 0, 0.3));\n",
              "      fill: #FFFFFF;\n",
              "    }\n",
              "  </style>\n",
              "\n",
              "      <script>\n",
              "        const buttonEl =\n",
              "          document.querySelector('#df-6f7f336a-1b55-4b8c-a882-9541cc8b6cb2 button.colab-df-convert');\n",
              "        buttonEl.style.display =\n",
              "          google.colab.kernel.accessAllowed ? 'block' : 'none';\n",
              "\n",
              "        async function convertToInteractive(key) {\n",
              "          const element = document.querySelector('#df-6f7f336a-1b55-4b8c-a882-9541cc8b6cb2');\n",
              "          const dataTable =\n",
              "            await google.colab.kernel.invokeFunction('convertToInteractive',\n",
              "                                                     [key], {});\n",
              "          if (!dataTable) return;\n",
              "\n",
              "          const docLinkHtml = 'Like what you see? Visit the ' +\n",
              "            '<a target=\"_blank\" href=https://colab.research.google.com/notebooks/data_table.ipynb>data table notebook</a>'\n",
              "            + ' to learn more about interactive tables.';\n",
              "          element.innerHTML = '';\n",
              "          dataTable['output_type'] = 'display_data';\n",
              "          await google.colab.output.renderOutput(dataTable, element);\n",
              "          const docLink = document.createElement('div');\n",
              "          docLink.innerHTML = docLinkHtml;\n",
              "          element.appendChild(docLink);\n",
              "        }\n",
              "      </script>\n",
              "    </div>\n",
              "  </div>\n",
              "  "
            ]
          },
          "metadata": {},
          "execution_count": 11
        }
      ]
    },
    {
      "cell_type": "code",
      "source": [],
      "metadata": {
        "id": "A8PAWElvge7S"
      },
      "execution_count": 11,
      "outputs": []
    },
    {
      "cell_type": "markdown",
      "source": [
        "##### J2"
      ],
      "metadata": {
        "id": "qcD6rTxgglux"
      }
    },
    {
      "cell_type": "code",
      "source": [
        "dados2lt =  dados2[['created_at','U1','U2','U3']]\n",
        "dados2lt"
      ],
      "metadata": {
        "colab": {
          "base_uri": "https://localhost:8080/",
          "height": 0
        },
        "id": "W7Pw6-gqd3rO",
        "outputId": "2a1ab223-523d-49da-9c6b-f05f8c8248fc"
      },
      "execution_count": 12,
      "outputs": [
        {
          "output_type": "execute_result",
          "data": {
            "text/plain": [
              "                     created_at  U1  U2  U3\n",
              "0     2022-11-30T13:52:07-03:00   0   0   0\n",
              "1     2022-11-30T13:56:00-03:00   0   0   0\n",
              "2     2022-11-30T13:59:48-03:00   0   0   0\n",
              "3     2022-11-30T14:03:30-03:00   0   0   0\n",
              "4     2022-11-30T14:08:43-03:00   0   0   0\n",
              "...                         ...  ..  ..  ..\n",
              "3608  2022-12-14T07:29:28-03:00   0   0   0\n",
              "3609  2022-12-14T07:37:19-03:00   0   0   0\n",
              "3610  2022-12-14T07:53:02-03:00   0   0   0\n",
              "3611  2022-12-14T07:57:03-03:00   0   0   0\n",
              "3612  2022-12-14T08:08:55-03:00   0   0   0\n",
              "\n",
              "[3613 rows x 4 columns]"
            ],
            "text/html": [
              "\n",
              "  <div id=\"df-8bf78065-0f71-420d-adf9-607ae18522d1\">\n",
              "    <div class=\"colab-df-container\">\n",
              "      <div>\n",
              "<style scoped>\n",
              "    .dataframe tbody tr th:only-of-type {\n",
              "        vertical-align: middle;\n",
              "    }\n",
              "\n",
              "    .dataframe tbody tr th {\n",
              "        vertical-align: top;\n",
              "    }\n",
              "\n",
              "    .dataframe thead th {\n",
              "        text-align: right;\n",
              "    }\n",
              "</style>\n",
              "<table border=\"1\" class=\"dataframe\">\n",
              "  <thead>\n",
              "    <tr style=\"text-align: right;\">\n",
              "      <th></th>\n",
              "      <th>created_at</th>\n",
              "      <th>U1</th>\n",
              "      <th>U2</th>\n",
              "      <th>U3</th>\n",
              "    </tr>\n",
              "  </thead>\n",
              "  <tbody>\n",
              "    <tr>\n",
              "      <th>0</th>\n",
              "      <td>2022-11-30T13:52:07-03:00</td>\n",
              "      <td>0</td>\n",
              "      <td>0</td>\n",
              "      <td>0</td>\n",
              "    </tr>\n",
              "    <tr>\n",
              "      <th>1</th>\n",
              "      <td>2022-11-30T13:56:00-03:00</td>\n",
              "      <td>0</td>\n",
              "      <td>0</td>\n",
              "      <td>0</td>\n",
              "    </tr>\n",
              "    <tr>\n",
              "      <th>2</th>\n",
              "      <td>2022-11-30T13:59:48-03:00</td>\n",
              "      <td>0</td>\n",
              "      <td>0</td>\n",
              "      <td>0</td>\n",
              "    </tr>\n",
              "    <tr>\n",
              "      <th>3</th>\n",
              "      <td>2022-11-30T14:03:30-03:00</td>\n",
              "      <td>0</td>\n",
              "      <td>0</td>\n",
              "      <td>0</td>\n",
              "    </tr>\n",
              "    <tr>\n",
              "      <th>4</th>\n",
              "      <td>2022-11-30T14:08:43-03:00</td>\n",
              "      <td>0</td>\n",
              "      <td>0</td>\n",
              "      <td>0</td>\n",
              "    </tr>\n",
              "    <tr>\n",
              "      <th>...</th>\n",
              "      <td>...</td>\n",
              "      <td>...</td>\n",
              "      <td>...</td>\n",
              "      <td>...</td>\n",
              "    </tr>\n",
              "    <tr>\n",
              "      <th>3608</th>\n",
              "      <td>2022-12-14T07:29:28-03:00</td>\n",
              "      <td>0</td>\n",
              "      <td>0</td>\n",
              "      <td>0</td>\n",
              "    </tr>\n",
              "    <tr>\n",
              "      <th>3609</th>\n",
              "      <td>2022-12-14T07:37:19-03:00</td>\n",
              "      <td>0</td>\n",
              "      <td>0</td>\n",
              "      <td>0</td>\n",
              "    </tr>\n",
              "    <tr>\n",
              "      <th>3610</th>\n",
              "      <td>2022-12-14T07:53:02-03:00</td>\n",
              "      <td>0</td>\n",
              "      <td>0</td>\n",
              "      <td>0</td>\n",
              "    </tr>\n",
              "    <tr>\n",
              "      <th>3611</th>\n",
              "      <td>2022-12-14T07:57:03-03:00</td>\n",
              "      <td>0</td>\n",
              "      <td>0</td>\n",
              "      <td>0</td>\n",
              "    </tr>\n",
              "    <tr>\n",
              "      <th>3612</th>\n",
              "      <td>2022-12-14T08:08:55-03:00</td>\n",
              "      <td>0</td>\n",
              "      <td>0</td>\n",
              "      <td>0</td>\n",
              "    </tr>\n",
              "  </tbody>\n",
              "</table>\n",
              "<p>3613 rows × 4 columns</p>\n",
              "</div>\n",
              "      <button class=\"colab-df-convert\" onclick=\"convertToInteractive('df-8bf78065-0f71-420d-adf9-607ae18522d1')\"\n",
              "              title=\"Convert this dataframe to an interactive table.\"\n",
              "              style=\"display:none;\">\n",
              "        \n",
              "  <svg xmlns=\"http://www.w3.org/2000/svg\" height=\"24px\"viewBox=\"0 0 24 24\"\n",
              "       width=\"24px\">\n",
              "    <path d=\"M0 0h24v24H0V0z\" fill=\"none\"/>\n",
              "    <path d=\"M18.56 5.44l.94 2.06.94-2.06 2.06-.94-2.06-.94-.94-2.06-.94 2.06-2.06.94zm-11 1L8.5 8.5l.94-2.06 2.06-.94-2.06-.94L8.5 2.5l-.94 2.06-2.06.94zm10 10l.94 2.06.94-2.06 2.06-.94-2.06-.94-.94-2.06-.94 2.06-2.06.94z\"/><path d=\"M17.41 7.96l-1.37-1.37c-.4-.4-.92-.59-1.43-.59-.52 0-1.04.2-1.43.59L10.3 9.45l-7.72 7.72c-.78.78-.78 2.05 0 2.83L4 21.41c.39.39.9.59 1.41.59.51 0 1.02-.2 1.41-.59l7.78-7.78 2.81-2.81c.8-.78.8-2.07 0-2.86zM5.41 20L4 18.59l7.72-7.72 1.47 1.35L5.41 20z\"/>\n",
              "  </svg>\n",
              "      </button>\n",
              "      \n",
              "  <style>\n",
              "    .colab-df-container {\n",
              "      display:flex;\n",
              "      flex-wrap:wrap;\n",
              "      gap: 12px;\n",
              "    }\n",
              "\n",
              "    .colab-df-convert {\n",
              "      background-color: #E8F0FE;\n",
              "      border: none;\n",
              "      border-radius: 50%;\n",
              "      cursor: pointer;\n",
              "      display: none;\n",
              "      fill: #1967D2;\n",
              "      height: 32px;\n",
              "      padding: 0 0 0 0;\n",
              "      width: 32px;\n",
              "    }\n",
              "\n",
              "    .colab-df-convert:hover {\n",
              "      background-color: #E2EBFA;\n",
              "      box-shadow: 0px 1px 2px rgba(60, 64, 67, 0.3), 0px 1px 3px 1px rgba(60, 64, 67, 0.15);\n",
              "      fill: #174EA6;\n",
              "    }\n",
              "\n",
              "    [theme=dark] .colab-df-convert {\n",
              "      background-color: #3B4455;\n",
              "      fill: #D2E3FC;\n",
              "    }\n",
              "\n",
              "    [theme=dark] .colab-df-convert:hover {\n",
              "      background-color: #434B5C;\n",
              "      box-shadow: 0px 1px 3px 1px rgba(0, 0, 0, 0.15);\n",
              "      filter: drop-shadow(0px 1px 2px rgba(0, 0, 0, 0.3));\n",
              "      fill: #FFFFFF;\n",
              "    }\n",
              "  </style>\n",
              "\n",
              "      <script>\n",
              "        const buttonEl =\n",
              "          document.querySelector('#df-8bf78065-0f71-420d-adf9-607ae18522d1 button.colab-df-convert');\n",
              "        buttonEl.style.display =\n",
              "          google.colab.kernel.accessAllowed ? 'block' : 'none';\n",
              "\n",
              "        async function convertToInteractive(key) {\n",
              "          const element = document.querySelector('#df-8bf78065-0f71-420d-adf9-607ae18522d1');\n",
              "          const dataTable =\n",
              "            await google.colab.kernel.invokeFunction('convertToInteractive',\n",
              "                                                     [key], {});\n",
              "          if (!dataTable) return;\n",
              "\n",
              "          const docLinkHtml = 'Like what you see? Visit the ' +\n",
              "            '<a target=\"_blank\" href=https://colab.research.google.com/notebooks/data_table.ipynb>data table notebook</a>'\n",
              "            + ' to learn more about interactive tables.';\n",
              "          element.innerHTML = '';\n",
              "          dataTable['output_type'] = 'display_data';\n",
              "          await google.colab.output.renderOutput(dataTable, element);\n",
              "          const docLink = document.createElement('div');\n",
              "          docLink.innerHTML = docLinkHtml;\n",
              "          element.appendChild(docLink);\n",
              "        }\n",
              "      </script>\n",
              "    </div>\n",
              "  </div>\n",
              "  "
            ]
          },
          "metadata": {},
          "execution_count": 12
        }
      ]
    },
    {
      "cell_type": "code",
      "source": [],
      "metadata": {
        "id": "KxFES-7fim66"
      },
      "execution_count": 12,
      "outputs": []
    },
    {
      "cell_type": "markdown",
      "source": [
        "##### J3"
      ],
      "metadata": {
        "id": "6AJMO4vGgoHs"
      }
    },
    {
      "cell_type": "code",
      "source": [
        "dados3lt =  dados3[['created_at','U1','U2','U3']]\n",
        "dados3lt"
      ],
      "metadata": {
        "colab": {
          "base_uri": "https://localhost:8080/",
          "height": 0
        },
        "id": "L4A9NanjesUc",
        "outputId": "59768625-172a-4cc6-9843-2a31385c2e83"
      },
      "execution_count": 13,
      "outputs": [
        {
          "output_type": "execute_result",
          "data": {
            "text/plain": [
              "                     created_at   U1  U2   U3\n",
              "0     2022-11-30T13:40:48-03:00    0   0    0\n",
              "1     2022-11-30T13:44:31-03:00    0   0    0\n",
              "2     2022-11-30T13:50:53-03:00    0   0    0\n",
              "3     2022-11-30T13:54:35-03:00  277   0  105\n",
              "4     2022-11-30T13:58:27-03:00  267   0  102\n",
              "...                         ...  ...  ..  ...\n",
              "3584  2022-12-14T07:47:53-03:00    0   0    0\n",
              "3585  2022-12-14T07:55:47-03:00    0   0    0\n",
              "3586  2022-12-14T07:59:39-03:00    0   0    0\n",
              "3587  2022-12-14T08:03:39-03:00    0   0    0\n",
              "3588  2022-12-14T08:07:53-03:00    0   0    0\n",
              "\n",
              "[3589 rows x 4 columns]"
            ],
            "text/html": [
              "\n",
              "  <div id=\"df-5afb1b93-8b57-4247-a891-d2b289b5dfb8\">\n",
              "    <div class=\"colab-df-container\">\n",
              "      <div>\n",
              "<style scoped>\n",
              "    .dataframe tbody tr th:only-of-type {\n",
              "        vertical-align: middle;\n",
              "    }\n",
              "\n",
              "    .dataframe tbody tr th {\n",
              "        vertical-align: top;\n",
              "    }\n",
              "\n",
              "    .dataframe thead th {\n",
              "        text-align: right;\n",
              "    }\n",
              "</style>\n",
              "<table border=\"1\" class=\"dataframe\">\n",
              "  <thead>\n",
              "    <tr style=\"text-align: right;\">\n",
              "      <th></th>\n",
              "      <th>created_at</th>\n",
              "      <th>U1</th>\n",
              "      <th>U2</th>\n",
              "      <th>U3</th>\n",
              "    </tr>\n",
              "  </thead>\n",
              "  <tbody>\n",
              "    <tr>\n",
              "      <th>0</th>\n",
              "      <td>2022-11-30T13:40:48-03:00</td>\n",
              "      <td>0</td>\n",
              "      <td>0</td>\n",
              "      <td>0</td>\n",
              "    </tr>\n",
              "    <tr>\n",
              "      <th>1</th>\n",
              "      <td>2022-11-30T13:44:31-03:00</td>\n",
              "      <td>0</td>\n",
              "      <td>0</td>\n",
              "      <td>0</td>\n",
              "    </tr>\n",
              "    <tr>\n",
              "      <th>2</th>\n",
              "      <td>2022-11-30T13:50:53-03:00</td>\n",
              "      <td>0</td>\n",
              "      <td>0</td>\n",
              "      <td>0</td>\n",
              "    </tr>\n",
              "    <tr>\n",
              "      <th>3</th>\n",
              "      <td>2022-11-30T13:54:35-03:00</td>\n",
              "      <td>277</td>\n",
              "      <td>0</td>\n",
              "      <td>105</td>\n",
              "    </tr>\n",
              "    <tr>\n",
              "      <th>4</th>\n",
              "      <td>2022-11-30T13:58:27-03:00</td>\n",
              "      <td>267</td>\n",
              "      <td>0</td>\n",
              "      <td>102</td>\n",
              "    </tr>\n",
              "    <tr>\n",
              "      <th>...</th>\n",
              "      <td>...</td>\n",
              "      <td>...</td>\n",
              "      <td>...</td>\n",
              "      <td>...</td>\n",
              "    </tr>\n",
              "    <tr>\n",
              "      <th>3584</th>\n",
              "      <td>2022-12-14T07:47:53-03:00</td>\n",
              "      <td>0</td>\n",
              "      <td>0</td>\n",
              "      <td>0</td>\n",
              "    </tr>\n",
              "    <tr>\n",
              "      <th>3585</th>\n",
              "      <td>2022-12-14T07:55:47-03:00</td>\n",
              "      <td>0</td>\n",
              "      <td>0</td>\n",
              "      <td>0</td>\n",
              "    </tr>\n",
              "    <tr>\n",
              "      <th>3586</th>\n",
              "      <td>2022-12-14T07:59:39-03:00</td>\n",
              "      <td>0</td>\n",
              "      <td>0</td>\n",
              "      <td>0</td>\n",
              "    </tr>\n",
              "    <tr>\n",
              "      <th>3587</th>\n",
              "      <td>2022-12-14T08:03:39-03:00</td>\n",
              "      <td>0</td>\n",
              "      <td>0</td>\n",
              "      <td>0</td>\n",
              "    </tr>\n",
              "    <tr>\n",
              "      <th>3588</th>\n",
              "      <td>2022-12-14T08:07:53-03:00</td>\n",
              "      <td>0</td>\n",
              "      <td>0</td>\n",
              "      <td>0</td>\n",
              "    </tr>\n",
              "  </tbody>\n",
              "</table>\n",
              "<p>3589 rows × 4 columns</p>\n",
              "</div>\n",
              "      <button class=\"colab-df-convert\" onclick=\"convertToInteractive('df-5afb1b93-8b57-4247-a891-d2b289b5dfb8')\"\n",
              "              title=\"Convert this dataframe to an interactive table.\"\n",
              "              style=\"display:none;\">\n",
              "        \n",
              "  <svg xmlns=\"http://www.w3.org/2000/svg\" height=\"24px\"viewBox=\"0 0 24 24\"\n",
              "       width=\"24px\">\n",
              "    <path d=\"M0 0h24v24H0V0z\" fill=\"none\"/>\n",
              "    <path d=\"M18.56 5.44l.94 2.06.94-2.06 2.06-.94-2.06-.94-.94-2.06-.94 2.06-2.06.94zm-11 1L8.5 8.5l.94-2.06 2.06-.94-2.06-.94L8.5 2.5l-.94 2.06-2.06.94zm10 10l.94 2.06.94-2.06 2.06-.94-2.06-.94-.94-2.06-.94 2.06-2.06.94z\"/><path d=\"M17.41 7.96l-1.37-1.37c-.4-.4-.92-.59-1.43-.59-.52 0-1.04.2-1.43.59L10.3 9.45l-7.72 7.72c-.78.78-.78 2.05 0 2.83L4 21.41c.39.39.9.59 1.41.59.51 0 1.02-.2 1.41-.59l7.78-7.78 2.81-2.81c.8-.78.8-2.07 0-2.86zM5.41 20L4 18.59l7.72-7.72 1.47 1.35L5.41 20z\"/>\n",
              "  </svg>\n",
              "      </button>\n",
              "      \n",
              "  <style>\n",
              "    .colab-df-container {\n",
              "      display:flex;\n",
              "      flex-wrap:wrap;\n",
              "      gap: 12px;\n",
              "    }\n",
              "\n",
              "    .colab-df-convert {\n",
              "      background-color: #E8F0FE;\n",
              "      border: none;\n",
              "      border-radius: 50%;\n",
              "      cursor: pointer;\n",
              "      display: none;\n",
              "      fill: #1967D2;\n",
              "      height: 32px;\n",
              "      padding: 0 0 0 0;\n",
              "      width: 32px;\n",
              "    }\n",
              "\n",
              "    .colab-df-convert:hover {\n",
              "      background-color: #E2EBFA;\n",
              "      box-shadow: 0px 1px 2px rgba(60, 64, 67, 0.3), 0px 1px 3px 1px rgba(60, 64, 67, 0.15);\n",
              "      fill: #174EA6;\n",
              "    }\n",
              "\n",
              "    [theme=dark] .colab-df-convert {\n",
              "      background-color: #3B4455;\n",
              "      fill: #D2E3FC;\n",
              "    }\n",
              "\n",
              "    [theme=dark] .colab-df-convert:hover {\n",
              "      background-color: #434B5C;\n",
              "      box-shadow: 0px 1px 3px 1px rgba(0, 0, 0, 0.15);\n",
              "      filter: drop-shadow(0px 1px 2px rgba(0, 0, 0, 0.3));\n",
              "      fill: #FFFFFF;\n",
              "    }\n",
              "  </style>\n",
              "\n",
              "      <script>\n",
              "        const buttonEl =\n",
              "          document.querySelector('#df-5afb1b93-8b57-4247-a891-d2b289b5dfb8 button.colab-df-convert');\n",
              "        buttonEl.style.display =\n",
              "          google.colab.kernel.accessAllowed ? 'block' : 'none';\n",
              "\n",
              "        async function convertToInteractive(key) {\n",
              "          const element = document.querySelector('#df-5afb1b93-8b57-4247-a891-d2b289b5dfb8');\n",
              "          const dataTable =\n",
              "            await google.colab.kernel.invokeFunction('convertToInteractive',\n",
              "                                                     [key], {});\n",
              "          if (!dataTable) return;\n",
              "\n",
              "          const docLinkHtml = 'Like what you see? Visit the ' +\n",
              "            '<a target=\"_blank\" href=https://colab.research.google.com/notebooks/data_table.ipynb>data table notebook</a>'\n",
              "            + ' to learn more about interactive tables.';\n",
              "          element.innerHTML = '';\n",
              "          dataTable['output_type'] = 'display_data';\n",
              "          await google.colab.output.renderOutput(dataTable, element);\n",
              "          const docLink = document.createElement('div');\n",
              "          docLink.innerHTML = docLinkHtml;\n",
              "          element.appendChild(docLink);\n",
              "        }\n",
              "      </script>\n",
              "    </div>\n",
              "  </div>\n",
              "  "
            ]
          },
          "metadata": {},
          "execution_count": 13
        }
      ]
    },
    {
      "cell_type": "code",
      "source": [
        "# data = pd.concat([dados1['created_at'],dados2['created_at'],dados3['created_at']], axis = 1)\n",
        "# datam = pd.to_datetime(data)\n",
        "# mediaU1 = pd.concat([dados1[['created_at','U1']],dados2[['created_at','U1']],dados3[['created_at','U1']]], axis = 1)\n",
        "# display(mediaU1)\n"
      ],
      "metadata": {
        "id": "SLMxolwoEkOC"
      },
      "execution_count": 14,
      "outputs": []
    },
    {
      "cell_type": "markdown",
      "source": [
        "##### Tempo"
      ],
      "metadata": {
        "id": "hFrtsJvbjHyg"
      }
    },
    {
      "cell_type": "code",
      "source": [
        "# como os dados são enviados em tempos diferentes, aqui encontra-se um tempo médio para cada envio de dados dos 3 canais\n",
        "# https://www.digitalocean.com/community/tutorials/python-string-to-datetime-strptime\n",
        "# https://www.geeksforgeeks.org/python-datetime-strptime-function/"
      ],
      "metadata": {
        "id": "F5w6dIbWjeRn"
      },
      "execution_count": 16,
      "outputs": []
    },
    {
      "cell_type": "code",
      "source": [
        "# transforma a colua created_at em objetos datetime\n",
        "dados1lt['created_at'] = pd.to_datetime(dados1lt['created_at'])\n",
        "dados2lt['created_at'] = pd.to_datetime(dados2lt['created_at'])\n",
        "dados3lt['created_at'] = pd.to_datetime(dados2lt['created_at'])"
      ],
      "metadata": {
        "id": "zQUtnykOu-aV"
      },
      "execution_count": null,
      "outputs": []
    },
    {
      "cell_type": "code",
      "source": [
        "dadostempo1,dadostempo2, dadostempo3 = pd.DataFrame(data = [dados1lt['created_at']]).transpose(), pd.DataFrame(data = [dados2lt['created_at']]).transpose(), pd.DataFrame(data = [dados3lt['created_at']]).transpose() \n"
      ],
      "metadata": {
        "id": "GwkSUKqSRIRy"
      },
      "execution_count": 114,
      "outputs": []
    },
    {
      "cell_type": "code",
      "source": [
        "dadostempo2"
      ],
      "metadata": {
        "id": "zPkGb9FFwzRL"
      },
      "execution_count": null,
      "outputs": []
    },
    {
      "cell_type": "markdown",
      "source": [
        "###### Completando tamanho das linhas"
      ],
      "metadata": {
        "id": "W0k6ulCHQ6Qc"
      }
    },
    {
      "cell_type": "code",
      "source": [
        "len(dadostempo1.index),len(dadostempo2.index),len(dadostempo3.index)"
      ],
      "metadata": {
        "id": "t2nCLGefMpZK",
        "colab": {
          "base_uri": "https://localhost:8080/"
        },
        "outputId": "806cb8f8-b55f-4820-f0f6-556c9333c61f"
      },
      "execution_count": 116,
      "outputs": [
        {
          "output_type": "execute_result",
          "data": {
            "text/plain": [
              "(3766, 3613, 3589)"
            ]
          },
          "metadata": {},
          "execution_count": 116
        }
      ]
    },
    {
      "cell_type": "code",
      "source": [
        "# j2\n",
        "for i in dadostempo1.index:\n",
        "#  if dadostempo2['created_at'][i].day == dadostempo1['created_at'][i].day:  # verifica se a data (dia) do sensor j2 é diferente do sensor j1 \n",
        "  if dadostempo2['created_at'][i].day == dadostempo1['created_at'][i].day:  # verifica se a data (dia) do sensor j2 é diferente do sensor j1 \n",
        "    Ellipsis  \n",
        "    ...\n",
        "\n",
        "  else:\n",
        "    if dadostempo2['created_at'][i] > dadostempo1['created_at'][i]: # verifica se a data (dia) do sensor j2 é maior que a do sensor j1\n",
        "      corte = dadostempo2.iloc[i:]   # salva os dados seguintes do sensor j2 em um objeto\n",
        "      dadostempo2 = dadostempo2.drop(index = dadostempo2.index[i+1:])  # dropa as linhas seguintes à i+1 e salva as linhas anteriores à i (para depois juntar com corte)  # https://towardsdatascience.com/delete-rows-and-columns-from-a-dataframe-using-pandas-drop-d2533cf7b4bd#:~:text=Delete%20rows%20and%20columns%20from%20a%20DataFrame%20using%20Pandas%20drop(),-9%20tricks%20to&text=Delete%20one%20or%20many%20rows,is%20the%20drop()%20method.\n",
        "\n",
        "      dadostempo2['created_at'][i] = dadostempo1['created_at'][i]\n",
        "      \n",
        "      dt2 = pd.concat([dadostempo2,corte], axis = 0, ignore_index = True)\n",
        "\n",
        "      dadostempo2 = dt2\n",
        "\n",
        "    elif dadostempo2['created_at'][i] < dadostempo1['created_at'][i]: # verifica se a data (dia) do sensor j2 é maior que a do sensor j1\n",
        "      corte = dadostempo1.iloc[i:]   # salva os dados seguintes do sensor j2 em um objeto\n",
        "      dadostempo1 = dadostempo1.drop(index = dadostempo1.index[i+1:])  # dropa as linhas seguintes à i+1 e salva as linhas anteriores à i (para depois juntar com corte)  # https://towardsdatascience.com/delete-rows-and-columns-from-a-dataframe-using-pandas-drop-d2533cf7b4bd#:~:text=Delete%20rows%20and%20columns%20from%20a%20DataFrame%20using%20Pandas%20drop(),-9%20tricks%20to&text=Delete%20one%20or%20many%20rows,is%20the%20drop()%20method.\n",
        "\n",
        "      dadostempo1['created_at'][i] = dadostempo2['created_at'][i]\n",
        "    \n",
        "  #      dadostempo2.iloc[i-1]['created_at'] = dadostempo1.iloc[i]['created_at']  # copia o dado de tempo do sensor j1 e coloca nessa linha i\n",
        "\n",
        "      #dadostempo2.iloc[i]['created_at'] = dadostempo1.iloc[i]['created_at']  # copia o dado de tempo do sensor j1 e coloca nessa linha i\n",
        "      #linha_extra =  dadostempo1['created_at'][i]\n",
        "      # dadostempo2.iloc[i]['U1'], dadostempo2.iloc[i]['U2'], dadostempo2.iloc[i]['U3'] = np.nan , np.nan, np.nan  # preenche a linha i com valores nan\n",
        "      \n",
        "      dt1 = pd.concat([dadostempo1,corte], axis = 0, ignore_index = True)\n",
        "\n",
        "      dadostempo1 = dt1\n",
        " #   corte = []\n",
        "    \n",
        "\n",
        "    "
      ],
      "metadata": {
        "id": "Rp8iuLoPRN7h"
      },
      "execution_count": 111,
      "outputs": []
    },
    {
      "cell_type": "code",
      "source": [],
      "metadata": {
        "id": "kACLrROT84LZ"
      },
      "execution_count": null,
      "outputs": []
    },
    {
      "cell_type": "code",
      "source": [
        "# j3\n",
        "for i in dadostempo1.index:\n",
        "\n",
        "  if dadostempo3['created_at'][i].day == dadostempo1['created_at'][i].day:  # verifica se a data (dia) do sensor j3 é diferente do sensor j1 \n",
        "    Ellipsis  \n",
        "    ...\n",
        "    \n",
        "  else:\n",
        "    if dadostempo3['created_at'][i] > dadostempo1['created_at'][i]: # verifica se a data (dia) do sensor j2 é maior que a do sensor j1\n",
        "      corte = dadostempo3.iloc[i:]   # salva os dados seguintes do sensor j2 em um objeto\n",
        "      dadostempo3 = dadostempo3.drop(index = dadostempo3.index[i+1:])  # dropa as linhas seguintes à i+1 e salva as linhas anteriores à i (para depois juntar com corte)  # https://towardsdatascience.com/delete-rows-and-columns-from-a-dataframe-using-pandas-drop-d2533cf7b4bd#:~:text=Delete%20rows%20and%20columns%20from%20a%20DataFrame%20using%20Pandas%20drop(),-9%20tricks%20to&text=Delete%20one%20or%20many%20rows,is%20the%20drop()%20method.\n",
        "\n",
        "      dadostempo3['created_at'][i] = dadostempo1['created_at'][i]\n",
        "  \n",
        "      dt3 = pd.concat([dadostempo3,corte], axis = 0, ignore_index = True)\n",
        "\n",
        "      dadostempo3 = dt3\n",
        "\n",
        "    elif dadostempo3['created_at'][i] < dadostempo1['created_at'][i]: # verifica se a data (dia) do sensor j2 é maior que a do sensor j1\n",
        "      corte = dadostempo1.iloc[i:]   # salva os dados seguintes do sensor j2 em um objeto\n",
        "      dadostempo1 = dadostempo1.drop(index = dadostempo1.index[i+1:])  # dropa as linhas seguintes à i+1 e salva as linhas anteriores à i (para depois juntar com corte)  # https://towardsdatascience.com/delete-rows-and-columns-from-a-dataframe-using-pandas-drop-d2533cf7b4bd#:~:text=Delete%20rows%20and%20columns%20from%20a%20DataFrame%20using%20Pandas%20drop(),-9%20tricks%20to&text=Delete%20one%20or%20many%20rows,is%20the%20drop()%20method.\n",
        "\n",
        "      dadostempo1['created_at'][i] = dadostempo3['created_at'][i]\n",
        "    \n",
        "\n",
        "      # dadostempo2.iloc[i]['U1'], dadostempo2.iloc[i]['U2'], dadostempo2.iloc[i]['U3'] = np.nan , np.nan, np.nan  # preenche a linha i com valores nan\n",
        "      \n",
        "      dt1 = pd.concat([dadostempo1,corte], axis = 0, ignore_index = True)\n",
        "\n",
        "      dadostempo1 = dt1\n",
        "\n",
        "    \n",
        "\n",
        "    "
      ],
      "metadata": {
        "colab": {
          "base_uri": "https://localhost:8080/",
          "height": 432
        },
        "id": "YF5aE_m384ee",
        "outputId": "cac80fb6-c014-4f44-ff10-1b5f494b782c"
      },
      "execution_count": 113,
      "outputs": [
        {
          "output_type": "error",
          "ename": "KeyError",
          "evalue": "ignored",
          "traceback": [
            "\u001b[0;31m---------------------------------------------------------------------------\u001b[0m",
            "\u001b[0;31mValueError\u001b[0m                                Traceback (most recent call last)",
            "\u001b[0;32m/usr/local/lib/python3.8/dist-packages/pandas/core/indexes/range.py\u001b[0m in \u001b[0;36mget_loc\u001b[0;34m(self, key, method, tolerance)\u001b[0m\n\u001b[1;32m    384\u001b[0m                 \u001b[0;32mtry\u001b[0m\u001b[0;34m:\u001b[0m\u001b[0;34m\u001b[0m\u001b[0;34m\u001b[0m\u001b[0m\n\u001b[0;32m--> 385\u001b[0;31m                     \u001b[0;32mreturn\u001b[0m \u001b[0mself\u001b[0m\u001b[0;34m.\u001b[0m\u001b[0m_range\u001b[0m\u001b[0;34m.\u001b[0m\u001b[0mindex\u001b[0m\u001b[0;34m(\u001b[0m\u001b[0mnew_key\u001b[0m\u001b[0;34m)\u001b[0m\u001b[0;34m\u001b[0m\u001b[0;34m\u001b[0m\u001b[0m\n\u001b[0m\u001b[1;32m    386\u001b[0m                 \u001b[0;32mexcept\u001b[0m \u001b[0mValueError\u001b[0m \u001b[0;32mas\u001b[0m \u001b[0merr\u001b[0m\u001b[0;34m:\u001b[0m\u001b[0;34m\u001b[0m\u001b[0;34m\u001b[0m\u001b[0m\n",
            "\u001b[0;31mValueError\u001b[0m: 3782 is not in range",
            "\nThe above exception was the direct cause of the following exception:\n",
            "\u001b[0;31mKeyError\u001b[0m                                  Traceback (most recent call last)",
            "\u001b[0;32m<ipython-input-113-e7ecd5dc9076>\u001b[0m in \u001b[0;36m<module>\u001b[0;34m\u001b[0m\n\u001b[1;32m      2\u001b[0m \u001b[0;32mfor\u001b[0m \u001b[0mi\u001b[0m \u001b[0;32min\u001b[0m \u001b[0mdadostempo1\u001b[0m\u001b[0;34m.\u001b[0m\u001b[0mindex\u001b[0m\u001b[0;34m:\u001b[0m\u001b[0;34m\u001b[0m\u001b[0;34m\u001b[0m\u001b[0m\n\u001b[1;32m      3\u001b[0m \u001b[0;34m\u001b[0m\u001b[0m\n\u001b[0;32m----> 4\u001b[0;31m   \u001b[0;32mif\u001b[0m \u001b[0mdadostempo3\u001b[0m\u001b[0;34m[\u001b[0m\u001b[0;34m'created_at'\u001b[0m\u001b[0;34m]\u001b[0m\u001b[0;34m[\u001b[0m\u001b[0mi\u001b[0m\u001b[0;34m]\u001b[0m\u001b[0;34m.\u001b[0m\u001b[0mday\u001b[0m \u001b[0;34m==\u001b[0m \u001b[0mdadostempo1\u001b[0m\u001b[0;34m[\u001b[0m\u001b[0;34m'created_at'\u001b[0m\u001b[0;34m]\u001b[0m\u001b[0;34m[\u001b[0m\u001b[0mi\u001b[0m\u001b[0;34m]\u001b[0m\u001b[0;34m.\u001b[0m\u001b[0mday\u001b[0m\u001b[0;34m:\u001b[0m  \u001b[0;31m# verifica se a data (dia) do sensor j3 é diferente do sensor j1\u001b[0m\u001b[0;34m\u001b[0m\u001b[0;34m\u001b[0m\u001b[0m\n\u001b[0m\u001b[1;32m      5\u001b[0m     \u001b[0mEllipsis\u001b[0m\u001b[0;34m\u001b[0m\u001b[0;34m\u001b[0m\u001b[0m\n\u001b[1;32m      6\u001b[0m     \u001b[0;34m...\u001b[0m\u001b[0;34m\u001b[0m\u001b[0;34m\u001b[0m\u001b[0m\n",
            "\u001b[0;32m/usr/local/lib/python3.8/dist-packages/pandas/core/series.py\u001b[0m in \u001b[0;36m__getitem__\u001b[0;34m(self, key)\u001b[0m\n\u001b[1;32m    940\u001b[0m \u001b[0;34m\u001b[0m\u001b[0m\n\u001b[1;32m    941\u001b[0m         \u001b[0;32melif\u001b[0m \u001b[0mkey_is_scalar\u001b[0m\u001b[0;34m:\u001b[0m\u001b[0;34m\u001b[0m\u001b[0;34m\u001b[0m\u001b[0m\n\u001b[0;32m--> 942\u001b[0;31m             \u001b[0;32mreturn\u001b[0m \u001b[0mself\u001b[0m\u001b[0;34m.\u001b[0m\u001b[0m_get_value\u001b[0m\u001b[0;34m(\u001b[0m\u001b[0mkey\u001b[0m\u001b[0;34m)\u001b[0m\u001b[0;34m\u001b[0m\u001b[0;34m\u001b[0m\u001b[0m\n\u001b[0m\u001b[1;32m    943\u001b[0m \u001b[0;34m\u001b[0m\u001b[0m\n\u001b[1;32m    944\u001b[0m         \u001b[0;32mif\u001b[0m \u001b[0mis_hashable\u001b[0m\u001b[0;34m(\u001b[0m\u001b[0mkey\u001b[0m\u001b[0;34m)\u001b[0m\u001b[0;34m:\u001b[0m\u001b[0;34m\u001b[0m\u001b[0;34m\u001b[0m\u001b[0m\n",
            "\u001b[0;32m/usr/local/lib/python3.8/dist-packages/pandas/core/series.py\u001b[0m in \u001b[0;36m_get_value\u001b[0;34m(self, label, takeable)\u001b[0m\n\u001b[1;32m   1049\u001b[0m \u001b[0;34m\u001b[0m\u001b[0m\n\u001b[1;32m   1050\u001b[0m         \u001b[0;31m# Similar to Index.get_value, but we do not fall back to positional\u001b[0m\u001b[0;34m\u001b[0m\u001b[0;34m\u001b[0m\u001b[0;34m\u001b[0m\u001b[0m\n\u001b[0;32m-> 1051\u001b[0;31m         \u001b[0mloc\u001b[0m \u001b[0;34m=\u001b[0m \u001b[0mself\u001b[0m\u001b[0;34m.\u001b[0m\u001b[0mindex\u001b[0m\u001b[0;34m.\u001b[0m\u001b[0mget_loc\u001b[0m\u001b[0;34m(\u001b[0m\u001b[0mlabel\u001b[0m\u001b[0;34m)\u001b[0m\u001b[0;34m\u001b[0m\u001b[0;34m\u001b[0m\u001b[0m\n\u001b[0m\u001b[1;32m   1052\u001b[0m         \u001b[0;32mreturn\u001b[0m \u001b[0mself\u001b[0m\u001b[0;34m.\u001b[0m\u001b[0mindex\u001b[0m\u001b[0;34m.\u001b[0m\u001b[0m_get_values_for_loc\u001b[0m\u001b[0;34m(\u001b[0m\u001b[0mself\u001b[0m\u001b[0;34m,\u001b[0m \u001b[0mloc\u001b[0m\u001b[0;34m,\u001b[0m \u001b[0mlabel\u001b[0m\u001b[0;34m)\u001b[0m\u001b[0;34m\u001b[0m\u001b[0;34m\u001b[0m\u001b[0m\n\u001b[1;32m   1053\u001b[0m \u001b[0;34m\u001b[0m\u001b[0m\n",
            "\u001b[0;32m/usr/local/lib/python3.8/dist-packages/pandas/core/indexes/range.py\u001b[0m in \u001b[0;36mget_loc\u001b[0;34m(self, key, method, tolerance)\u001b[0m\n\u001b[1;32m    385\u001b[0m                     \u001b[0;32mreturn\u001b[0m \u001b[0mself\u001b[0m\u001b[0;34m.\u001b[0m\u001b[0m_range\u001b[0m\u001b[0;34m.\u001b[0m\u001b[0mindex\u001b[0m\u001b[0;34m(\u001b[0m\u001b[0mnew_key\u001b[0m\u001b[0;34m)\u001b[0m\u001b[0;34m\u001b[0m\u001b[0;34m\u001b[0m\u001b[0m\n\u001b[1;32m    386\u001b[0m                 \u001b[0;32mexcept\u001b[0m \u001b[0mValueError\u001b[0m \u001b[0;32mas\u001b[0m \u001b[0merr\u001b[0m\u001b[0;34m:\u001b[0m\u001b[0;34m\u001b[0m\u001b[0;34m\u001b[0m\u001b[0m\n\u001b[0;32m--> 387\u001b[0;31m                     \u001b[0;32mraise\u001b[0m \u001b[0mKeyError\u001b[0m\u001b[0;34m(\u001b[0m\u001b[0mkey\u001b[0m\u001b[0;34m)\u001b[0m \u001b[0;32mfrom\u001b[0m \u001b[0merr\u001b[0m\u001b[0;34m\u001b[0m\u001b[0;34m\u001b[0m\u001b[0m\n\u001b[0m\u001b[1;32m    388\u001b[0m             \u001b[0;32mraise\u001b[0m \u001b[0mKeyError\u001b[0m\u001b[0;34m(\u001b[0m\u001b[0mkey\u001b[0m\u001b[0;34m)\u001b[0m\u001b[0;34m\u001b[0m\u001b[0;34m\u001b[0m\u001b[0m\n\u001b[1;32m    389\u001b[0m         \u001b[0;32mreturn\u001b[0m \u001b[0msuper\u001b[0m\u001b[0;34m(\u001b[0m\u001b[0;34m)\u001b[0m\u001b[0;34m.\u001b[0m\u001b[0mget_loc\u001b[0m\u001b[0;34m(\u001b[0m\u001b[0mkey\u001b[0m\u001b[0;34m,\u001b[0m \u001b[0mmethod\u001b[0m\u001b[0;34m=\u001b[0m\u001b[0mmethod\u001b[0m\u001b[0;34m,\u001b[0m \u001b[0mtolerance\u001b[0m\u001b[0;34m=\u001b[0m\u001b[0mtolerance\u001b[0m\u001b[0;34m)\u001b[0m\u001b[0;34m\u001b[0m\u001b[0;34m\u001b[0m\u001b[0m\n",
            "\u001b[0;31mKeyError\u001b[0m: 3782"
          ]
        }
      ]
    },
    {
      "cell_type": "code",
      "source": [
        "dadostempo2['created_at'][30] , dadostempo1['created_at'][31]"
      ],
      "metadata": {
        "colab": {
          "base_uri": "https://localhost:8080/"
        },
        "id": "IWR7L7fEsZMZ",
        "outputId": "17ca4d95-c9f9-49b4-b6b4-1cee4a2d2b1f"
      },
      "execution_count": 95,
      "outputs": [
        {
          "output_type": "execute_result",
          "data": {
            "text/plain": [
              "(Timestamp('2022-11-30 11:46:13-0300', tz='pytz.FixedOffset(-180)'),\n",
              " Timestamp('2022-11-30 11:47:28-0300', tz='pytz.FixedOffset(-180)'))"
            ]
          },
          "metadata": {},
          "execution_count": 95
        }
      ]
    },
    {
      "cell_type": "code",
      "source": [
        "for i in range(3762):\n",
        "  if dadostempo2['created_at'][i].day == dadostempo1['created_at'][i].day:\n",
        "    #print('ok')\n",
        "    Ellipsis\n",
        "    ...\n",
        "  else:\n",
        "    print('nao',i)"
      ],
      "metadata": {
        "id": "GJU7KjjzrGaL"
      },
      "execution_count": 98,
      "outputs": []
    },
    {
      "cell_type": "code",
      "source": [
        "dadostempo2"
      ],
      "metadata": {
        "colab": {
          "base_uri": "https://localhost:8080/",
          "height": 423
        },
        "id": "d4HM5l41rcTs",
        "outputId": "cb8482ca-a1ec-4e91-b362-b6004435ce6a"
      },
      "execution_count": 99,
      "outputs": [
        {
          "output_type": "execute_result",
          "data": {
            "text/plain": [
              "                    created_at\n",
              "0    2022-11-30 13:52:07-03:00\n",
              "1    2022-11-30 13:56:00-03:00\n",
              "2    2022-11-30 13:59:48-03:00\n",
              "3    2022-11-30 14:03:30-03:00\n",
              "4    2022-11-30 14:08:43-03:00\n",
              "...                        ...\n",
              "3801 2022-12-14 07:29:28-03:00\n",
              "3802 2022-12-14 07:37:19-03:00\n",
              "3803 2022-12-14 07:53:02-03:00\n",
              "3804 2022-12-14 07:57:03-03:00\n",
              "3805 2022-12-14 08:08:55-03:00\n",
              "\n",
              "[3806 rows x 1 columns]"
            ],
            "text/html": [
              "\n",
              "  <div id=\"df-56c82267-f6a9-4ea3-8072-8b25f2b3f1b4\">\n",
              "    <div class=\"colab-df-container\">\n",
              "      <div>\n",
              "<style scoped>\n",
              "    .dataframe tbody tr th:only-of-type {\n",
              "        vertical-align: middle;\n",
              "    }\n",
              "\n",
              "    .dataframe tbody tr th {\n",
              "        vertical-align: top;\n",
              "    }\n",
              "\n",
              "    .dataframe thead th {\n",
              "        text-align: right;\n",
              "    }\n",
              "</style>\n",
              "<table border=\"1\" class=\"dataframe\">\n",
              "  <thead>\n",
              "    <tr style=\"text-align: right;\">\n",
              "      <th></th>\n",
              "      <th>created_at</th>\n",
              "    </tr>\n",
              "  </thead>\n",
              "  <tbody>\n",
              "    <tr>\n",
              "      <th>0</th>\n",
              "      <td>2022-11-30 13:52:07-03:00</td>\n",
              "    </tr>\n",
              "    <tr>\n",
              "      <th>1</th>\n",
              "      <td>2022-11-30 13:56:00-03:00</td>\n",
              "    </tr>\n",
              "    <tr>\n",
              "      <th>2</th>\n",
              "      <td>2022-11-30 13:59:48-03:00</td>\n",
              "    </tr>\n",
              "    <tr>\n",
              "      <th>3</th>\n",
              "      <td>2022-11-30 14:03:30-03:00</td>\n",
              "    </tr>\n",
              "    <tr>\n",
              "      <th>4</th>\n",
              "      <td>2022-11-30 14:08:43-03:00</td>\n",
              "    </tr>\n",
              "    <tr>\n",
              "      <th>...</th>\n",
              "      <td>...</td>\n",
              "    </tr>\n",
              "    <tr>\n",
              "      <th>3801</th>\n",
              "      <td>2022-12-14 07:29:28-03:00</td>\n",
              "    </tr>\n",
              "    <tr>\n",
              "      <th>3802</th>\n",
              "      <td>2022-12-14 07:37:19-03:00</td>\n",
              "    </tr>\n",
              "    <tr>\n",
              "      <th>3803</th>\n",
              "      <td>2022-12-14 07:53:02-03:00</td>\n",
              "    </tr>\n",
              "    <tr>\n",
              "      <th>3804</th>\n",
              "      <td>2022-12-14 07:57:03-03:00</td>\n",
              "    </tr>\n",
              "    <tr>\n",
              "      <th>3805</th>\n",
              "      <td>2022-12-14 08:08:55-03:00</td>\n",
              "    </tr>\n",
              "  </tbody>\n",
              "</table>\n",
              "<p>3806 rows × 1 columns</p>\n",
              "</div>\n",
              "      <button class=\"colab-df-convert\" onclick=\"convertToInteractive('df-56c82267-f6a9-4ea3-8072-8b25f2b3f1b4')\"\n",
              "              title=\"Convert this dataframe to an interactive table.\"\n",
              "              style=\"display:none;\">\n",
              "        \n",
              "  <svg xmlns=\"http://www.w3.org/2000/svg\" height=\"24px\"viewBox=\"0 0 24 24\"\n",
              "       width=\"24px\">\n",
              "    <path d=\"M0 0h24v24H0V0z\" fill=\"none\"/>\n",
              "    <path d=\"M18.56 5.44l.94 2.06.94-2.06 2.06-.94-2.06-.94-.94-2.06-.94 2.06-2.06.94zm-11 1L8.5 8.5l.94-2.06 2.06-.94-2.06-.94L8.5 2.5l-.94 2.06-2.06.94zm10 10l.94 2.06.94-2.06 2.06-.94-2.06-.94-.94-2.06-.94 2.06-2.06.94z\"/><path d=\"M17.41 7.96l-1.37-1.37c-.4-.4-.92-.59-1.43-.59-.52 0-1.04.2-1.43.59L10.3 9.45l-7.72 7.72c-.78.78-.78 2.05 0 2.83L4 21.41c.39.39.9.59 1.41.59.51 0 1.02-.2 1.41-.59l7.78-7.78 2.81-2.81c.8-.78.8-2.07 0-2.86zM5.41 20L4 18.59l7.72-7.72 1.47 1.35L5.41 20z\"/>\n",
              "  </svg>\n",
              "      </button>\n",
              "      \n",
              "  <style>\n",
              "    .colab-df-container {\n",
              "      display:flex;\n",
              "      flex-wrap:wrap;\n",
              "      gap: 12px;\n",
              "    }\n",
              "\n",
              "    .colab-df-convert {\n",
              "      background-color: #E8F0FE;\n",
              "      border: none;\n",
              "      border-radius: 50%;\n",
              "      cursor: pointer;\n",
              "      display: none;\n",
              "      fill: #1967D2;\n",
              "      height: 32px;\n",
              "      padding: 0 0 0 0;\n",
              "      width: 32px;\n",
              "    }\n",
              "\n",
              "    .colab-df-convert:hover {\n",
              "      background-color: #E2EBFA;\n",
              "      box-shadow: 0px 1px 2px rgba(60, 64, 67, 0.3), 0px 1px 3px 1px rgba(60, 64, 67, 0.15);\n",
              "      fill: #174EA6;\n",
              "    }\n",
              "\n",
              "    [theme=dark] .colab-df-convert {\n",
              "      background-color: #3B4455;\n",
              "      fill: #D2E3FC;\n",
              "    }\n",
              "\n",
              "    [theme=dark] .colab-df-convert:hover {\n",
              "      background-color: #434B5C;\n",
              "      box-shadow: 0px 1px 3px 1px rgba(0, 0, 0, 0.15);\n",
              "      filter: drop-shadow(0px 1px 2px rgba(0, 0, 0, 0.3));\n",
              "      fill: #FFFFFF;\n",
              "    }\n",
              "  </style>\n",
              "\n",
              "      <script>\n",
              "        const buttonEl =\n",
              "          document.querySelector('#df-56c82267-f6a9-4ea3-8072-8b25f2b3f1b4 button.colab-df-convert');\n",
              "        buttonEl.style.display =\n",
              "          google.colab.kernel.accessAllowed ? 'block' : 'none';\n",
              "\n",
              "        async function convertToInteractive(key) {\n",
              "          const element = document.querySelector('#df-56c82267-f6a9-4ea3-8072-8b25f2b3f1b4');\n",
              "          const dataTable =\n",
              "            await google.colab.kernel.invokeFunction('convertToInteractive',\n",
              "                                                     [key], {});\n",
              "          if (!dataTable) return;\n",
              "\n",
              "          const docLinkHtml = 'Like what you see? Visit the ' +\n",
              "            '<a target=\"_blank\" href=https://colab.research.google.com/notebooks/data_table.ipynb>data table notebook</a>'\n",
              "            + ' to learn more about interactive tables.';\n",
              "          element.innerHTML = '';\n",
              "          dataTable['output_type'] = 'display_data';\n",
              "          await google.colab.output.renderOutput(dataTable, element);\n",
              "          const docLink = document.createElement('div');\n",
              "          docLink.innerHTML = docLinkHtml;\n",
              "          element.appendChild(docLink);\n",
              "        }\n",
              "      </script>\n",
              "    </div>\n",
              "  </div>\n",
              "  "
            ]
          },
          "metadata": {},
          "execution_count": 99
        }
      ]
    },
    {
      "cell_type": "code",
      "source": [
        "lista = pd.DataFrame(data = [0,1,2,3,4,5,6,7,8,9,10,11,12])\n",
        "lista = lista.drop(index = lista.index[10:])\n",
        "lista"
      ],
      "metadata": {
        "colab": {
          "base_uri": "https://localhost:8080/",
          "height": 363
        },
        "id": "bY87HST5froI",
        "outputId": "414bc20a-93f6-492e-8ff4-331e41f4415a"
      },
      "execution_count": 93,
      "outputs": [
        {
          "output_type": "execute_result",
          "data": {
            "text/plain": [
              "   0\n",
              "0  0\n",
              "1  1\n",
              "2  2\n",
              "3  3\n",
              "4  4\n",
              "5  5\n",
              "6  6\n",
              "7  7\n",
              "8  8\n",
              "9  9"
            ],
            "text/html": [
              "\n",
              "  <div id=\"df-4e32fb4b-81de-4ed8-89ec-815687123884\">\n",
              "    <div class=\"colab-df-container\">\n",
              "      <div>\n",
              "<style scoped>\n",
              "    .dataframe tbody tr th:only-of-type {\n",
              "        vertical-align: middle;\n",
              "    }\n",
              "\n",
              "    .dataframe tbody tr th {\n",
              "        vertical-align: top;\n",
              "    }\n",
              "\n",
              "    .dataframe thead th {\n",
              "        text-align: right;\n",
              "    }\n",
              "</style>\n",
              "<table border=\"1\" class=\"dataframe\">\n",
              "  <thead>\n",
              "    <tr style=\"text-align: right;\">\n",
              "      <th></th>\n",
              "      <th>0</th>\n",
              "    </tr>\n",
              "  </thead>\n",
              "  <tbody>\n",
              "    <tr>\n",
              "      <th>0</th>\n",
              "      <td>0</td>\n",
              "    </tr>\n",
              "    <tr>\n",
              "      <th>1</th>\n",
              "      <td>1</td>\n",
              "    </tr>\n",
              "    <tr>\n",
              "      <th>2</th>\n",
              "      <td>2</td>\n",
              "    </tr>\n",
              "    <tr>\n",
              "      <th>3</th>\n",
              "      <td>3</td>\n",
              "    </tr>\n",
              "    <tr>\n",
              "      <th>4</th>\n",
              "      <td>4</td>\n",
              "    </tr>\n",
              "    <tr>\n",
              "      <th>5</th>\n",
              "      <td>5</td>\n",
              "    </tr>\n",
              "    <tr>\n",
              "      <th>6</th>\n",
              "      <td>6</td>\n",
              "    </tr>\n",
              "    <tr>\n",
              "      <th>7</th>\n",
              "      <td>7</td>\n",
              "    </tr>\n",
              "    <tr>\n",
              "      <th>8</th>\n",
              "      <td>8</td>\n",
              "    </tr>\n",
              "    <tr>\n",
              "      <th>9</th>\n",
              "      <td>9</td>\n",
              "    </tr>\n",
              "  </tbody>\n",
              "</table>\n",
              "</div>\n",
              "      <button class=\"colab-df-convert\" onclick=\"convertToInteractive('df-4e32fb4b-81de-4ed8-89ec-815687123884')\"\n",
              "              title=\"Convert this dataframe to an interactive table.\"\n",
              "              style=\"display:none;\">\n",
              "        \n",
              "  <svg xmlns=\"http://www.w3.org/2000/svg\" height=\"24px\"viewBox=\"0 0 24 24\"\n",
              "       width=\"24px\">\n",
              "    <path d=\"M0 0h24v24H0V0z\" fill=\"none\"/>\n",
              "    <path d=\"M18.56 5.44l.94 2.06.94-2.06 2.06-.94-2.06-.94-.94-2.06-.94 2.06-2.06.94zm-11 1L8.5 8.5l.94-2.06 2.06-.94-2.06-.94L8.5 2.5l-.94 2.06-2.06.94zm10 10l.94 2.06.94-2.06 2.06-.94-2.06-.94-.94-2.06-.94 2.06-2.06.94z\"/><path d=\"M17.41 7.96l-1.37-1.37c-.4-.4-.92-.59-1.43-.59-.52 0-1.04.2-1.43.59L10.3 9.45l-7.72 7.72c-.78.78-.78 2.05 0 2.83L4 21.41c.39.39.9.59 1.41.59.51 0 1.02-.2 1.41-.59l7.78-7.78 2.81-2.81c.8-.78.8-2.07 0-2.86zM5.41 20L4 18.59l7.72-7.72 1.47 1.35L5.41 20z\"/>\n",
              "  </svg>\n",
              "      </button>\n",
              "      \n",
              "  <style>\n",
              "    .colab-df-container {\n",
              "      display:flex;\n",
              "      flex-wrap:wrap;\n",
              "      gap: 12px;\n",
              "    }\n",
              "\n",
              "    .colab-df-convert {\n",
              "      background-color: #E8F0FE;\n",
              "      border: none;\n",
              "      border-radius: 50%;\n",
              "      cursor: pointer;\n",
              "      display: none;\n",
              "      fill: #1967D2;\n",
              "      height: 32px;\n",
              "      padding: 0 0 0 0;\n",
              "      width: 32px;\n",
              "    }\n",
              "\n",
              "    .colab-df-convert:hover {\n",
              "      background-color: #E2EBFA;\n",
              "      box-shadow: 0px 1px 2px rgba(60, 64, 67, 0.3), 0px 1px 3px 1px rgba(60, 64, 67, 0.15);\n",
              "      fill: #174EA6;\n",
              "    }\n",
              "\n",
              "    [theme=dark] .colab-df-convert {\n",
              "      background-color: #3B4455;\n",
              "      fill: #D2E3FC;\n",
              "    }\n",
              "\n",
              "    [theme=dark] .colab-df-convert:hover {\n",
              "      background-color: #434B5C;\n",
              "      box-shadow: 0px 1px 3px 1px rgba(0, 0, 0, 0.15);\n",
              "      filter: drop-shadow(0px 1px 2px rgba(0, 0, 0, 0.3));\n",
              "      fill: #FFFFFF;\n",
              "    }\n",
              "  </style>\n",
              "\n",
              "      <script>\n",
              "        const buttonEl =\n",
              "          document.querySelector('#df-4e32fb4b-81de-4ed8-89ec-815687123884 button.colab-df-convert');\n",
              "        buttonEl.style.display =\n",
              "          google.colab.kernel.accessAllowed ? 'block' : 'none';\n",
              "\n",
              "        async function convertToInteractive(key) {\n",
              "          const element = document.querySelector('#df-4e32fb4b-81de-4ed8-89ec-815687123884');\n",
              "          const dataTable =\n",
              "            await google.colab.kernel.invokeFunction('convertToInteractive',\n",
              "                                                     [key], {});\n",
              "          if (!dataTable) return;\n",
              "\n",
              "          const docLinkHtml = 'Like what you see? Visit the ' +\n",
              "            '<a target=\"_blank\" href=https://colab.research.google.com/notebooks/data_table.ipynb>data table notebook</a>'\n",
              "            + ' to learn more about interactive tables.';\n",
              "          element.innerHTML = '';\n",
              "          dataTable['output_type'] = 'display_data';\n",
              "          await google.colab.output.renderOutput(dataTable, element);\n",
              "          const docLink = document.createElement('div');\n",
              "          docLink.innerHTML = docLinkHtml;\n",
              "          element.appendChild(docLink);\n",
              "        }\n",
              "      </script>\n",
              "    </div>\n",
              "  </div>\n",
              "  "
            ]
          },
          "metadata": {},
          "execution_count": 93
        }
      ]
    },
    {
      "cell_type": "code",
      "source": [
        "lista[0][7] = 8"
      ],
      "metadata": {
        "id": "HTq3vYzR4P4a"
      },
      "execution_count": 70,
      "outputs": []
    },
    {
      "cell_type": "code",
      "source": [
        "lista"
      ],
      "metadata": {
        "colab": {
          "base_uri": "https://localhost:8080/",
          "height": 269
        },
        "id": "QjNvDXHipm_I",
        "outputId": "e49a25f4-814a-4c18-8b99-9b7db6468139"
      },
      "execution_count": 71,
      "outputs": [
        {
          "output_type": "execute_result",
          "data": {
            "text/plain": [
              "   0\n",
              "0  0\n",
              "1  1\n",
              "2  2\n",
              "3  3\n",
              "4  4\n",
              "5  5\n",
              "6  6"
            ],
            "text/html": [
              "\n",
              "  <div id=\"df-9ff93ab4-7b69-48bb-b2dc-3916d9f33942\">\n",
              "    <div class=\"colab-df-container\">\n",
              "      <div>\n",
              "<style scoped>\n",
              "    .dataframe tbody tr th:only-of-type {\n",
              "        vertical-align: middle;\n",
              "    }\n",
              "\n",
              "    .dataframe tbody tr th {\n",
              "        vertical-align: top;\n",
              "    }\n",
              "\n",
              "    .dataframe thead th {\n",
              "        text-align: right;\n",
              "    }\n",
              "</style>\n",
              "<table border=\"1\" class=\"dataframe\">\n",
              "  <thead>\n",
              "    <tr style=\"text-align: right;\">\n",
              "      <th></th>\n",
              "      <th>0</th>\n",
              "    </tr>\n",
              "  </thead>\n",
              "  <tbody>\n",
              "    <tr>\n",
              "      <th>0</th>\n",
              "      <td>0</td>\n",
              "    </tr>\n",
              "    <tr>\n",
              "      <th>1</th>\n",
              "      <td>1</td>\n",
              "    </tr>\n",
              "    <tr>\n",
              "      <th>2</th>\n",
              "      <td>2</td>\n",
              "    </tr>\n",
              "    <tr>\n",
              "      <th>3</th>\n",
              "      <td>3</td>\n",
              "    </tr>\n",
              "    <tr>\n",
              "      <th>4</th>\n",
              "      <td>4</td>\n",
              "    </tr>\n",
              "    <tr>\n",
              "      <th>5</th>\n",
              "      <td>5</td>\n",
              "    </tr>\n",
              "    <tr>\n",
              "      <th>6</th>\n",
              "      <td>6</td>\n",
              "    </tr>\n",
              "  </tbody>\n",
              "</table>\n",
              "</div>\n",
              "      <button class=\"colab-df-convert\" onclick=\"convertToInteractive('df-9ff93ab4-7b69-48bb-b2dc-3916d9f33942')\"\n",
              "              title=\"Convert this dataframe to an interactive table.\"\n",
              "              style=\"display:none;\">\n",
              "        \n",
              "  <svg xmlns=\"http://www.w3.org/2000/svg\" height=\"24px\"viewBox=\"0 0 24 24\"\n",
              "       width=\"24px\">\n",
              "    <path d=\"M0 0h24v24H0V0z\" fill=\"none\"/>\n",
              "    <path d=\"M18.56 5.44l.94 2.06.94-2.06 2.06-.94-2.06-.94-.94-2.06-.94 2.06-2.06.94zm-11 1L8.5 8.5l.94-2.06 2.06-.94-2.06-.94L8.5 2.5l-.94 2.06-2.06.94zm10 10l.94 2.06.94-2.06 2.06-.94-2.06-.94-.94-2.06-.94 2.06-2.06.94z\"/><path d=\"M17.41 7.96l-1.37-1.37c-.4-.4-.92-.59-1.43-.59-.52 0-1.04.2-1.43.59L10.3 9.45l-7.72 7.72c-.78.78-.78 2.05 0 2.83L4 21.41c.39.39.9.59 1.41.59.51 0 1.02-.2 1.41-.59l7.78-7.78 2.81-2.81c.8-.78.8-2.07 0-2.86zM5.41 20L4 18.59l7.72-7.72 1.47 1.35L5.41 20z\"/>\n",
              "  </svg>\n",
              "      </button>\n",
              "      \n",
              "  <style>\n",
              "    .colab-df-container {\n",
              "      display:flex;\n",
              "      flex-wrap:wrap;\n",
              "      gap: 12px;\n",
              "    }\n",
              "\n",
              "    .colab-df-convert {\n",
              "      background-color: #E8F0FE;\n",
              "      border: none;\n",
              "      border-radius: 50%;\n",
              "      cursor: pointer;\n",
              "      display: none;\n",
              "      fill: #1967D2;\n",
              "      height: 32px;\n",
              "      padding: 0 0 0 0;\n",
              "      width: 32px;\n",
              "    }\n",
              "\n",
              "    .colab-df-convert:hover {\n",
              "      background-color: #E2EBFA;\n",
              "      box-shadow: 0px 1px 2px rgba(60, 64, 67, 0.3), 0px 1px 3px 1px rgba(60, 64, 67, 0.15);\n",
              "      fill: #174EA6;\n",
              "    }\n",
              "\n",
              "    [theme=dark] .colab-df-convert {\n",
              "      background-color: #3B4455;\n",
              "      fill: #D2E3FC;\n",
              "    }\n",
              "\n",
              "    [theme=dark] .colab-df-convert:hover {\n",
              "      background-color: #434B5C;\n",
              "      box-shadow: 0px 1px 3px 1px rgba(0, 0, 0, 0.15);\n",
              "      filter: drop-shadow(0px 1px 2px rgba(0, 0, 0, 0.3));\n",
              "      fill: #FFFFFF;\n",
              "    }\n",
              "  </style>\n",
              "\n",
              "      <script>\n",
              "        const buttonEl =\n",
              "          document.querySelector('#df-9ff93ab4-7b69-48bb-b2dc-3916d9f33942 button.colab-df-convert');\n",
              "        buttonEl.style.display =\n",
              "          google.colab.kernel.accessAllowed ? 'block' : 'none';\n",
              "\n",
              "        async function convertToInteractive(key) {\n",
              "          const element = document.querySelector('#df-9ff93ab4-7b69-48bb-b2dc-3916d9f33942');\n",
              "          const dataTable =\n",
              "            await google.colab.kernel.invokeFunction('convertToInteractive',\n",
              "                                                     [key], {});\n",
              "          if (!dataTable) return;\n",
              "\n",
              "          const docLinkHtml = 'Like what you see? Visit the ' +\n",
              "            '<a target=\"_blank\" href=https://colab.research.google.com/notebooks/data_table.ipynb>data table notebook</a>'\n",
              "            + ' to learn more about interactive tables.';\n",
              "          element.innerHTML = '';\n",
              "          dataTable['output_type'] = 'display_data';\n",
              "          await google.colab.output.renderOutput(dataTable, element);\n",
              "          const docLink = document.createElement('div');\n",
              "          docLink.innerHTML = docLinkHtml;\n",
              "          element.appendChild(docLink);\n",
              "        }\n",
              "      </script>\n",
              "    </div>\n",
              "  </div>\n",
              "  "
            ]
          },
          "metadata": {},
          "execution_count": 71
        }
      ]
    },
    {
      "cell_type": "code",
      "source": [
        "lista"
      ],
      "metadata": {
        "colab": {
          "base_uri": "https://localhost:8080/",
          "height": 206
        },
        "id": "1IXm2aURjMNL",
        "outputId": "0a62c8ef-53cf-43aa-cd7b-e87699b94006"
      },
      "execution_count": 48,
      "outputs": [
        {
          "output_type": "execute_result",
          "data": {
            "text/plain": [
              "   0\n",
              "3  3\n",
              "4  4\n",
              "5  5\n",
              "6  6\n",
              "7  7"
            ],
            "text/html": [
              "\n",
              "  <div id=\"df-65005174-c0c1-405d-9210-4e89bf20dc4f\">\n",
              "    <div class=\"colab-df-container\">\n",
              "      <div>\n",
              "<style scoped>\n",
              "    .dataframe tbody tr th:only-of-type {\n",
              "        vertical-align: middle;\n",
              "    }\n",
              "\n",
              "    .dataframe tbody tr th {\n",
              "        vertical-align: top;\n",
              "    }\n",
              "\n",
              "    .dataframe thead th {\n",
              "        text-align: right;\n",
              "    }\n",
              "</style>\n",
              "<table border=\"1\" class=\"dataframe\">\n",
              "  <thead>\n",
              "    <tr style=\"text-align: right;\">\n",
              "      <th></th>\n",
              "      <th>0</th>\n",
              "    </tr>\n",
              "  </thead>\n",
              "  <tbody>\n",
              "    <tr>\n",
              "      <th>3</th>\n",
              "      <td>3</td>\n",
              "    </tr>\n",
              "    <tr>\n",
              "      <th>4</th>\n",
              "      <td>4</td>\n",
              "    </tr>\n",
              "    <tr>\n",
              "      <th>5</th>\n",
              "      <td>5</td>\n",
              "    </tr>\n",
              "    <tr>\n",
              "      <th>6</th>\n",
              "      <td>6</td>\n",
              "    </tr>\n",
              "    <tr>\n",
              "      <th>7</th>\n",
              "      <td>7</td>\n",
              "    </tr>\n",
              "  </tbody>\n",
              "</table>\n",
              "</div>\n",
              "      <button class=\"colab-df-convert\" onclick=\"convertToInteractive('df-65005174-c0c1-405d-9210-4e89bf20dc4f')\"\n",
              "              title=\"Convert this dataframe to an interactive table.\"\n",
              "              style=\"display:none;\">\n",
              "        \n",
              "  <svg xmlns=\"http://www.w3.org/2000/svg\" height=\"24px\"viewBox=\"0 0 24 24\"\n",
              "       width=\"24px\">\n",
              "    <path d=\"M0 0h24v24H0V0z\" fill=\"none\"/>\n",
              "    <path d=\"M18.56 5.44l.94 2.06.94-2.06 2.06-.94-2.06-.94-.94-2.06-.94 2.06-2.06.94zm-11 1L8.5 8.5l.94-2.06 2.06-.94-2.06-.94L8.5 2.5l-.94 2.06-2.06.94zm10 10l.94 2.06.94-2.06 2.06-.94-2.06-.94-.94-2.06-.94 2.06-2.06.94z\"/><path d=\"M17.41 7.96l-1.37-1.37c-.4-.4-.92-.59-1.43-.59-.52 0-1.04.2-1.43.59L10.3 9.45l-7.72 7.72c-.78.78-.78 2.05 0 2.83L4 21.41c.39.39.9.59 1.41.59.51 0 1.02-.2 1.41-.59l7.78-7.78 2.81-2.81c.8-.78.8-2.07 0-2.86zM5.41 20L4 18.59l7.72-7.72 1.47 1.35L5.41 20z\"/>\n",
              "  </svg>\n",
              "      </button>\n",
              "      \n",
              "  <style>\n",
              "    .colab-df-container {\n",
              "      display:flex;\n",
              "      flex-wrap:wrap;\n",
              "      gap: 12px;\n",
              "    }\n",
              "\n",
              "    .colab-df-convert {\n",
              "      background-color: #E8F0FE;\n",
              "      border: none;\n",
              "      border-radius: 50%;\n",
              "      cursor: pointer;\n",
              "      display: none;\n",
              "      fill: #1967D2;\n",
              "      height: 32px;\n",
              "      padding: 0 0 0 0;\n",
              "      width: 32px;\n",
              "    }\n",
              "\n",
              "    .colab-df-convert:hover {\n",
              "      background-color: #E2EBFA;\n",
              "      box-shadow: 0px 1px 2px rgba(60, 64, 67, 0.3), 0px 1px 3px 1px rgba(60, 64, 67, 0.15);\n",
              "      fill: #174EA6;\n",
              "    }\n",
              "\n",
              "    [theme=dark] .colab-df-convert {\n",
              "      background-color: #3B4455;\n",
              "      fill: #D2E3FC;\n",
              "    }\n",
              "\n",
              "    [theme=dark] .colab-df-convert:hover {\n",
              "      background-color: #434B5C;\n",
              "      box-shadow: 0px 1px 3px 1px rgba(0, 0, 0, 0.15);\n",
              "      filter: drop-shadow(0px 1px 2px rgba(0, 0, 0, 0.3));\n",
              "      fill: #FFFFFF;\n",
              "    }\n",
              "  </style>\n",
              "\n",
              "      <script>\n",
              "        const buttonEl =\n",
              "          document.querySelector('#df-65005174-c0c1-405d-9210-4e89bf20dc4f button.colab-df-convert');\n",
              "        buttonEl.style.display =\n",
              "          google.colab.kernel.accessAllowed ? 'block' : 'none';\n",
              "\n",
              "        async function convertToInteractive(key) {\n",
              "          const element = document.querySelector('#df-65005174-c0c1-405d-9210-4e89bf20dc4f');\n",
              "          const dataTable =\n",
              "            await google.colab.kernel.invokeFunction('convertToInteractive',\n",
              "                                                     [key], {});\n",
              "          if (!dataTable) return;\n",
              "\n",
              "          const docLinkHtml = 'Like what you see? Visit the ' +\n",
              "            '<a target=\"_blank\" href=https://colab.research.google.com/notebooks/data_table.ipynb>data table notebook</a>'\n",
              "            + ' to learn more about interactive tables.';\n",
              "          element.innerHTML = '';\n",
              "          dataTable['output_type'] = 'display_data';\n",
              "          await google.colab.output.renderOutput(dataTable, element);\n",
              "          const docLink = document.createElement('div');\n",
              "          docLink.innerHTML = docLinkHtml;\n",
              "          element.appendChild(docLink);\n",
              "        }\n",
              "      </script>\n",
              "    </div>\n",
              "  </div>\n",
              "  "
            ]
          },
          "metadata": {},
          "execution_count": 48
        }
      ]
    },
    {
      "cell_type": "code",
      "source": [
        "dados2lt.merge(dados1lt, left_on='created_at', right_on='created_at', how='outer')"
      ],
      "metadata": {
        "id": "JUK0ViwX9u69"
      },
      "execution_count": null,
      "outputs": []
    },
    {
      "cell_type": "code",
      "source": [
        "dados2lt"
      ],
      "metadata": {
        "id": "rdPu9tDdRF8U"
      },
      "execution_count": null,
      "outputs": []
    },
    {
      "cell_type": "code",
      "source": [
        "ano1 = [0]\n",
        "mes1 = [0]\n",
        "dias1 = [0]\n",
        "horas1 = [0]\n",
        "minutos1 = [0]\n",
        "segundos1 = [0]\n",
        "\n",
        "for i in pd.to_datetime(dados1lt['created_at']):  #pega as informações de tempo do dado original e salva em objetos de data\n",
        "  ano1.append(i.year)\n",
        "  mes1.append(i.month)\n",
        "  dias1.append(i.day)\n",
        "  horas1.append(i.hour)\n",
        "  minutos1.append(i.minute)\n",
        "  segundos1.append(i.second)\n",
        "\n",
        "ano2 = [0]\n",
        "mes2 = [0]\n",
        "dias2 = [0]\n",
        "horas2 = [0]\n",
        "minutos2 = [0]\n",
        "segundos2 = [0]\n",
        "\n",
        "for i in pd.to_datetime(dados2lt['created_at']):  #pega as informações de tempo do dado original e salva em objetos de data\n",
        "  ano2.append(i.year)\n",
        "  mes2.append(i.month) \n",
        "  dias2.append(i.day)\n",
        "  horas2.append(i.hour)\n",
        "  minutos2.append(i.minute)\n",
        "  segundos2.append(i.second)\n",
        "\n",
        "ano3 = [0]\n",
        "mes3 = [0]\n",
        "dias3 = [0]\n",
        "horas3 = [0]\n",
        "minutos3 = [0]\n",
        "segundos3 = [0]\n",
        "\n",
        "for i in pd.to_datetime(dados1lt['created_at']):  #pega as informações de tempo do dado original e salva em objetos de data\n",
        "  ano3.append(i.year)  \n",
        "  mes3.append(i.month)\n",
        "  dias3.append(i.day)\n",
        "  horas3.append(i.hour)\n",
        "  minutos3.append(i.minute)\n",
        "  segundos3.append(i.second)\n"
      ],
      "metadata": {
        "id": "KvJwxjMRismn"
      },
      "execution_count": null,
      "outputs": []
    },
    {
      "cell_type": "code",
      "source": [
        "anos_medio = pd.DataFrame(data = [ano1,ano2,ano3]).mean()\n",
        "#ano_medio"
      ],
      "metadata": {
        "id": "jRfpAZpiXbkt"
      },
      "execution_count": null,
      "outputs": []
    },
    {
      "cell_type": "code",
      "source": [
        "mes_medio = pd.DataFrame(data = [mes1,mes2,mes3]).mean()\n",
        "#mes_medio"
      ],
      "metadata": {
        "id": "epoIMjphj0fK"
      },
      "execution_count": null,
      "outputs": []
    },
    {
      "cell_type": "code",
      "source": [
        "dias_medio = pd.DataFrame(data = [dias1,dias2,dias3]).mean()\n",
        "#dias_medio"
      ],
      "metadata": {
        "id": "jmdkd86Rk99k"
      },
      "execution_count": null,
      "outputs": []
    },
    {
      "cell_type": "code",
      "source": [
        "dias_medio[59]"
      ],
      "metadata": {
        "id": "x9Z_FoXKpmui"
      },
      "execution_count": null,
      "outputs": []
    },
    {
      "cell_type": "code",
      "source": [
        "horas_medio = pd.DataFrame(data = [horas1,horas2,horas3]).mean()\n",
        "#horas_medio"
      ],
      "metadata": {
        "id": "lM8eTzt-lIKh"
      },
      "execution_count": null,
      "outputs": []
    },
    {
      "cell_type": "code",
      "source": [
        "minutos_medio = pd.DataFrame(data = [minutos1,minutos2,minutos3]).mean()\n",
        "#minutos_medio"
      ],
      "metadata": {
        "id": "YLA14dfXlUzh"
      },
      "execution_count": null,
      "outputs": []
    },
    {
      "cell_type": "code",
      "source": [
        "segundos_medio = pd.DataFrame(data = [segundos1,segundos2,segundos3]).mean()\n",
        "#segundos_medio"
      ],
      "metadata": {
        "id": "WcsL68HMlhOi"
      },
      "execution_count": null,
      "outputs": []
    },
    {
      "cell_type": "code",
      "source": [
        "tempo = pd.DataFrame(data = [anos_medio,dias_medio,mes_medio,horas_medio,minutos_medio,segundos_medio]).transpose().rename({0:'Ano', 1:'Dia',2:'Mes',3:'Hora',4:'Minuto',5:'Segundo'}, axis = 1).drop(0,axis=0)\n",
        "tempo"
      ],
      "metadata": {
        "id": "bTxV4LFKlv6_"
      },
      "execution_count": null,
      "outputs": []
    },
    {
      "cell_type": "code",
      "source": [
        "format = '%Y %m %d %H %M %S'"
      ],
      "metadata": {
        "id": "ZOYgrdvd5D6o"
      },
      "execution_count": null,
      "outputs": []
    },
    {
      "cell_type": "code",
      "source": [
        "Tempo = [] \n",
        "for i in tempo.index:\n",
        "  Tempo.append(str(int(tempo['Ano'][i])) + ' ' + str(int(tempo['Mes'][i])) + ' ' + str(int(tempo['Dia'][i])) + ' ' + str(int(tempo['Hora'][i])) + ' ' + str(int(tempo['Minuto'][i])) + ' ' + str(int(tempo['Segundo'][i])))\n",
        "  #Tempo.append(str(tempo['Ano'][i]) + ' ' + str(tempo['Mes'][i]) + ' ' + str(tempo['Dia'][i]) + ' ' + str(tempo['Hora'][i]) + ' ' + str(tempo['Minuto'][i]) + ' ' + str(int(tempo['Segundo'][i])))\n"
      ],
      "metadata": {
        "id": "eGbYV2nC1TjM"
      },
      "execution_count": null,
      "outputs": []
    },
    {
      "cell_type": "code",
      "source": [
        "horario = []\n",
        "for i in Tempo:\n",
        "  horario.append(datetime.strptime(i,format))"
      ],
      "metadata": {
        "id": "IrgLL1clTWmq"
      },
      "execution_count": null,
      "outputs": []
    },
    {
      "cell_type": "code",
      "source": [],
      "metadata": {
        "id": "duEewdBApct9"
      },
      "execution_count": null,
      "outputs": []
    },
    {
      "cell_type": "code",
      "source": [
        "t = pd.DataFrame(data = horario).rename({0:'Horário'},axis = 1)\n",
        "t"
      ],
      "metadata": {
        "id": "L2RWD0_wW5Qe"
      },
      "execution_count": null,
      "outputs": []
    },
    {
      "cell_type": "markdown",
      "source": [
        "##### Linha de tendencia (finalmente rs)"
      ],
      "metadata": {
        "id": "9HHyEiaMZxpN"
      }
    },
    {
      "cell_type": "code",
      "source": [
        "# https://numpy.org/doc/stable/reference/generated/numpy.polyfit.html"
      ],
      "metadata": {
        "id": "8782iKfiZ2eA"
      },
      "execution_count": null,
      "outputs": []
    },
    {
      "cell_type": "code",
      "source": [
        "j1u1 = dados1lt['U1']#.to_numpy()\n",
        "j1u2 = dados1lt['U2']#.to_numpy()\n",
        "j1u3 = dados1lt['U3']#.to_numpy() \n",
        "\n",
        "j2u1 = dados2lt['U1']#.to_numpy() \n",
        "j2u2 = dados2lt['U2']#.to_numpy() \n",
        "j2u3 = dados2lt['U3']#.to_numpy() \n",
        "\n",
        "j3u1 = dados3lt['U1']#.to_numpy() \n",
        "j3u2 = dados3lt['U2']#.to_numpy() \n",
        "j3u3 = dados3lt['U3']#.to_numpy() "
      ],
      "metadata": {
        "id": "DH_pR4EugVj6"
      },
      "execution_count": null,
      "outputs": []
    },
    {
      "cell_type": "code",
      "source": [
        "mediaU1 = pd.DataFrame(data = (j1u1,j2u1,j3u1)).mean()\n",
        "mediaU1"
      ],
      "metadata": {
        "id": "VukoVUVui9gY"
      },
      "execution_count": null,
      "outputs": []
    },
    {
      "cell_type": "code",
      "source": [
        "mediaU2 = pd.DataFrame(data = (j1u2,j2u2,j3u2)).mean()\n",
        "mediaU2"
      ],
      "metadata": {
        "id": "vL7EgqsXjdEU"
      },
      "execution_count": null,
      "outputs": []
    },
    {
      "cell_type": "code",
      "source": [
        "mediaU3 = pd.DataFrame(data = (j1u3,j2u3,j3u3)).mean()\n",
        "mediaU3"
      ],
      "metadata": {
        "id": "BnRxvw9gjggB"
      },
      "execution_count": null,
      "outputs": []
    },
    {
      "cell_type": "code",
      "source": [],
      "metadata": {
        "id": "KjpHuIRbmwMK"
      },
      "execution_count": null,
      "outputs": []
    },
    {
      "cell_type": "code",
      "source": [
        "dados = pd.DataFrame()\n",
        "dados['Horário'] = t['Horário']\n",
        "dados['U1'] = mediaU1\n",
        "dados['U2'] = mediaU2\n",
        "dados['U3'] = mediaU3\n",
        "dados"
      ],
      "metadata": {
        "id": "3N-mg9QTmwqY"
      },
      "execution_count": null,
      "outputs": []
    },
    {
      "cell_type": "code",
      "source": [
        "dados.query('U2 > 410.6667')"
      ],
      "metadata": {
        "id": "y7lcUyGHofFZ"
      },
      "execution_count": null,
      "outputs": []
    },
    {
      "cell_type": "code",
      "source": [
        "figlt = go.Figure()"
      ],
      "metadata": {
        "id": "-fDDlQKPjm3l"
      },
      "execution_count": null,
      "outputs": []
    },
    {
      "cell_type": "code",
      "source": [
        "figlt.add_trace(go.Scatter(x= dados['Horário'], y = dados['U1'], mode= 'markers', name = 'U1'))\n",
        "figlt.add_trace(go.Scatter(x= dados['Horário'], y = dados['U2'], mode= 'markers', name = 'U2'))\n",
        "figlt.add_trace(go.Scatter(x= dados['Horário'], y = dados['U3'], mode= 'markers', name = 'U3'))"
      ],
      "metadata": {
        "id": "4UOJ_wKskfsC"
      },
      "execution_count": null,
      "outputs": []
    },
    {
      "cell_type": "code",
      "source": [
        "#ltU1 = np.polyfit(x = , y = (j1u1 , j2u1, j3u1), deg = 1)"
      ],
      "metadata": {
        "id": "N0VjuXmDZ2ln"
      },
      "execution_count": null,
      "outputs": []
    },
    {
      "cell_type": "code",
      "source": [
        "dados1lt[50:60]"
      ],
      "metadata": {
        "id": "vwhi8sOoZ2tr"
      },
      "execution_count": null,
      "outputs": []
    },
    {
      "cell_type": "code",
      "source": [
        "dados2lt[50:60]"
      ],
      "metadata": {
        "id": "lObB8SY9t_mZ"
      },
      "execution_count": null,
      "outputs": []
    },
    {
      "cell_type": "markdown",
      "source": [
        "#   "
      ],
      "metadata": {
        "id": "4Gw8Oph_0ne9"
      }
    },
    {
      "cell_type": "markdown",
      "metadata": {
        "id": "7xWp-eV-0Q-I"
      },
      "source": [
        "# Calculo dos angulos e das medias móveis"
      ]
    },
    {
      "cell_type": "code",
      "execution_count": null,
      "metadata": {
        "id": "1MFsu0BDkMw-"
      },
      "outputs": [],
      "source": [
        "#Calcula os ángulos nos eixos Y, X e Z  ,ainda que de forma lenta\n",
        "dados[\"anX\"]=np.degrees(np.arctan2(dados['acelY'],dados[\"acelZ\"]))\n",
        "dados[\"anY\"]=np.degrees(np.arctan2(dados['acelX'],dados[\"acelZ\"]))\n",
        "dados[\"anZ\"]=np.degrees(np.arctan2(dados['acelX'],dados[\"acelY\"]))\n",
        "\n",
        "#Ajusta os angulos para que todos sejam positivos...isso evita confusões visuais onde 180º  fica longe de -180º \n",
        "dados.loc[dados['anX'] < 0,'anX'] = (dados.loc[dados['anX'] < 0,'anX']) + 360\n",
        "dados.loc[dados['anY'] < 0,'anY'] = (dados.loc[dados['anY'] < 0,'anY']) + 360\n",
        "dados.loc[dados['anZ'] < 0,'anZ'] = (dados.loc[dados['anZ'] < 0,'anZ']) + 360\n",
        "#for i in dados.index:         #varredura do atributo index (linhas) do dataframe\n",
        "#    if dados.loc[i,'anX'] < 0:\n",
        "#        dados.loc[i,'anX'] += 360 # equivalente a dados.loc[i,'anX'] = dados.loc[i,'anX'] + 360\n",
        "#        \n",
        "#    if dados.loc[i,'anY'] < 0:\n",
        "#        dados.loc[i,'anY'] += 360\n",
        "#        \n",
        "#    if dados.loc[i,'anZ'] < 0:\n",
        "#        dados.loc[i,'anZ']+= 360\n",
        "\n",
        "#Limpeza de dados\n",
        "\n",
        "dados['MedianX'] = dados['anX'].rolling(window=1000).mean()\n",
        "dados['MedianY'] = dados['anY'].rolling(window=1000).mean()\n",
        "dados['MedianZ'] = dados['anZ'].rolling(window=1000).mean()\n",
        "dados['MDx'] = dados['MedianX'].diff()\n",
        "dados['MDy'] = dados['MedianY'].diff()\n",
        "dados['MDz'] = dados['MedianZ'].diff()\n",
        "\n",
        "dados['axD'] = dados['anX'].diff()\n",
        "dados['ayD'] = dados['anY'].diff()\n",
        "dados['azD'] = dados['anZ'].diff()\n",
        "\n",
        "\n",
        "C1= np.abs(dados['axD'])>50 \n",
        "C2= np.abs(dados['MDx'])<5\n",
        "dados = dados.drop(dados[ C1 & C2 ].index)\n",
        "\n",
        "C1= np.abs(dados['ayD'])>50 \n",
        "C2= np.abs(dados['MDy'])<5\n",
        "dados = dados.drop(dados[ C1 & C2 ].index)\n",
        "\n",
        "C1= np.abs(dados['azD'])>50 \n",
        "C2= np.abs(dados['MDz'])<5\n",
        "dados = dados.drop(dados[ C1 & C2 ].index)\n"
      ]
    },
    {
      "cell_type": "code",
      "source": [
        "dados['MedianX']=dados['anX'].rolling(window=1000).mean()\n",
        "dados['MedianY']=dados['anY'].rolling(window=1000).mean()\n",
        "dados['MedianZ']=dados['anZ'].rolling(window=1000).mean()\n",
        "display(dados)\n",
        "print(dados.describe())"
      ],
      "metadata": {
        "colab": {
          "base_uri": "https://localhost:8080/",
          "height": 1000
        },
        "id": "aEqHflglibwp",
        "outputId": "dbaccafd-a5d0-4e90-85c2-a7cffe0e6014"
      },
      "execution_count": null,
      "outputs": [
        {
          "output_type": "display_data",
          "data": {
            "text/plain": [
              "                       created_at  entry_id  acelX  acelY  acelZ  temperatura  \\\n",
              "0       2021-08-19T17:10:36-03:00         1  -1100   -604 -16388        29.94   \n",
              "1       2021-08-19T17:11:36-03:00         2  -1128   -596 -16580        30.13   \n",
              "2       2021-08-19T17:12:36-03:00         3  -1048   -564 -16460        30.04   \n",
              "3       2021-08-19T17:13:37-03:00         4   -820   -328 -16468        30.13   \n",
              "4       2021-08-19T17:14:37-03:00         5   -876   -248 -16368        30.27   \n",
              "...                           ...       ...    ...    ...    ...          ...   \n",
              "571076  2022-10-26T19:34:45-03:00    571077    880   -932 -16256        28.39   \n",
              "571077  2022-10-26T19:35:46-03:00    571078   1124   -920 -16180        28.44   \n",
              "571078  2022-10-26T19:36:46-03:00    571079   1008   -912 -16112        28.53   \n",
              "571079  2022-10-26T19:37:46-03:00    571080    936   -904 -16244        28.53   \n",
              "571080  2022-10-26T19:38:47-03:00    571081    988   -928 -16144        28.53   \n",
              "\n",
              "        U1  U2  U3                     tempo  ...         anZ     MedianX  \\\n",
              "0        1   1   0 2021-08-19 17:10:36-03:00  ...  241.229212         NaN   \n",
              "1        1   1   0 2021-08-19 17:11:36-03:00  ...  242.149425         NaN   \n",
              "2        1   1   0 2021-08-19 17:12:36-03:00  ...  241.712287         NaN   \n",
              "3        1   1   0 2021-08-19 17:13:37-03:00  ...  248.198591         NaN   \n",
              "4        1   1   0 2021-08-19 17:14:37-03:00  ...  254.192916         NaN   \n",
              "...     ..  ..  ..                       ...  ...         ...         ...   \n",
              "571076   1  -1   0 2022-10-26 19:34:45-03:00  ...  136.643799  183.059356   \n",
              "571077   1  -1   0 2022-10-26 19:35:46-03:00  ...  129.300509  183.059675   \n",
              "571078   1  -1   0 2022-10-26 19:36:46-03:00  ...  132.137595  183.060003   \n",
              "571079   1  -1   0 2022-10-26 19:37:46-03:00  ...  134.003652  183.059992   \n",
              "571080   1  -1   0 2022-10-26 19:38:47-03:00  ...  133.206355  183.060174   \n",
              "\n",
              "           MedianY     MedianZ       MDx       MDy       MDz       axD  \\\n",
              "0              NaN         NaN       NaN       NaN       NaN       NaN   \n",
              "1              NaN         NaN       NaN       NaN       NaN -0.052031   \n",
              "2              NaN         NaN       NaN       NaN       NaN -0.096255   \n",
              "3              NaN         NaN       NaN       NaN       NaN -0.821432   \n",
              "4              NaN         NaN       NaN       NaN       NaN -0.272982   \n",
              "...            ...         ...       ...       ...       ...       ...   \n",
              "571076  177.012993  135.733404  0.000119 -0.000401 -0.002903  0.050204   \n",
              "571077  177.012096  135.729055  0.000319 -0.000897 -0.004348 -0.026976   \n",
              "571078  177.011385  135.725773  0.000328 -0.000710 -0.003283 -0.014652   \n",
              "571079  177.010846  135.720565 -0.000011 -0.000539 -0.005208 -0.054400   \n",
              "571080  177.010112  135.715454  0.000182 -0.000734 -0.005111  0.104593   \n",
              "\n",
              "             ayD       azD  \n",
              "0            NaN       NaN  \n",
              "1       0.051987  0.920213  \n",
              "2      -0.248974 -0.437138  \n",
              "3      -0.792471  6.486304  \n",
              "4       0.212888  5.994325  \n",
              "...          ...       ...  \n",
              "571076  0.331322  3.357264  \n",
              "571077 -0.875249 -7.343290  \n",
              "571078  0.393990  2.837086  \n",
              "571079  0.282067  1.866057  \n",
              "571080 -0.204279 -0.797297  \n",
              "\n",
              "[571017 rows x 26 columns]"
            ],
            "text/html": [
              "\n",
              "  <div id=\"df-8b1583b4-3d1f-411b-a80a-1a2a28ee5a9a\">\n",
              "    <div class=\"colab-df-container\">\n",
              "      <div>\n",
              "<style scoped>\n",
              "    .dataframe tbody tr th:only-of-type {\n",
              "        vertical-align: middle;\n",
              "    }\n",
              "\n",
              "    .dataframe tbody tr th {\n",
              "        vertical-align: top;\n",
              "    }\n",
              "\n",
              "    .dataframe thead th {\n",
              "        text-align: right;\n",
              "    }\n",
              "</style>\n",
              "<table border=\"1\" class=\"dataframe\">\n",
              "  <thead>\n",
              "    <tr style=\"text-align: right;\">\n",
              "      <th></th>\n",
              "      <th>created_at</th>\n",
              "      <th>entry_id</th>\n",
              "      <th>acelX</th>\n",
              "      <th>acelY</th>\n",
              "      <th>acelZ</th>\n",
              "      <th>temperatura</th>\n",
              "      <th>U1</th>\n",
              "      <th>U2</th>\n",
              "      <th>U3</th>\n",
              "      <th>tempo</th>\n",
              "      <th>...</th>\n",
              "      <th>anZ</th>\n",
              "      <th>MedianX</th>\n",
              "      <th>MedianY</th>\n",
              "      <th>MedianZ</th>\n",
              "      <th>MDx</th>\n",
              "      <th>MDy</th>\n",
              "      <th>MDz</th>\n",
              "      <th>axD</th>\n",
              "      <th>ayD</th>\n",
              "      <th>azD</th>\n",
              "    </tr>\n",
              "  </thead>\n",
              "  <tbody>\n",
              "    <tr>\n",
              "      <th>0</th>\n",
              "      <td>2021-08-19T17:10:36-03:00</td>\n",
              "      <td>1</td>\n",
              "      <td>-1100</td>\n",
              "      <td>-604</td>\n",
              "      <td>-16388</td>\n",
              "      <td>29.94</td>\n",
              "      <td>1</td>\n",
              "      <td>1</td>\n",
              "      <td>0</td>\n",
              "      <td>2021-08-19 17:10:36-03:00</td>\n",
              "      <td>...</td>\n",
              "      <td>241.229212</td>\n",
              "      <td>NaN</td>\n",
              "      <td>NaN</td>\n",
              "      <td>NaN</td>\n",
              "      <td>NaN</td>\n",
              "      <td>NaN</td>\n",
              "      <td>NaN</td>\n",
              "      <td>NaN</td>\n",
              "      <td>NaN</td>\n",
              "      <td>NaN</td>\n",
              "    </tr>\n",
              "    <tr>\n",
              "      <th>1</th>\n",
              "      <td>2021-08-19T17:11:36-03:00</td>\n",
              "      <td>2</td>\n",
              "      <td>-1128</td>\n",
              "      <td>-596</td>\n",
              "      <td>-16580</td>\n",
              "      <td>30.13</td>\n",
              "      <td>1</td>\n",
              "      <td>1</td>\n",
              "      <td>0</td>\n",
              "      <td>2021-08-19 17:11:36-03:00</td>\n",
              "      <td>...</td>\n",
              "      <td>242.149425</td>\n",
              "      <td>NaN</td>\n",
              "      <td>NaN</td>\n",
              "      <td>NaN</td>\n",
              "      <td>NaN</td>\n",
              "      <td>NaN</td>\n",
              "      <td>NaN</td>\n",
              "      <td>-0.052031</td>\n",
              "      <td>0.051987</td>\n",
              "      <td>0.920213</td>\n",
              "    </tr>\n",
              "    <tr>\n",
              "      <th>2</th>\n",
              "      <td>2021-08-19T17:12:36-03:00</td>\n",
              "      <td>3</td>\n",
              "      <td>-1048</td>\n",
              "      <td>-564</td>\n",
              "      <td>-16460</td>\n",
              "      <td>30.04</td>\n",
              "      <td>1</td>\n",
              "      <td>1</td>\n",
              "      <td>0</td>\n",
              "      <td>2021-08-19 17:12:36-03:00</td>\n",
              "      <td>...</td>\n",
              "      <td>241.712287</td>\n",
              "      <td>NaN</td>\n",
              "      <td>NaN</td>\n",
              "      <td>NaN</td>\n",
              "      <td>NaN</td>\n",
              "      <td>NaN</td>\n",
              "      <td>NaN</td>\n",
              "      <td>-0.096255</td>\n",
              "      <td>-0.248974</td>\n",
              "      <td>-0.437138</td>\n",
              "    </tr>\n",
              "    <tr>\n",
              "      <th>3</th>\n",
              "      <td>2021-08-19T17:13:37-03:00</td>\n",
              "      <td>4</td>\n",
              "      <td>-820</td>\n",
              "      <td>-328</td>\n",
              "      <td>-16468</td>\n",
              "      <td>30.13</td>\n",
              "      <td>1</td>\n",
              "      <td>1</td>\n",
              "      <td>0</td>\n",
              "      <td>2021-08-19 17:13:37-03:00</td>\n",
              "      <td>...</td>\n",
              "      <td>248.198591</td>\n",
              "      <td>NaN</td>\n",
              "      <td>NaN</td>\n",
              "      <td>NaN</td>\n",
              "      <td>NaN</td>\n",
              "      <td>NaN</td>\n",
              "      <td>NaN</td>\n",
              "      <td>-0.821432</td>\n",
              "      <td>-0.792471</td>\n",
              "      <td>6.486304</td>\n",
              "    </tr>\n",
              "    <tr>\n",
              "      <th>4</th>\n",
              "      <td>2021-08-19T17:14:37-03:00</td>\n",
              "      <td>5</td>\n",
              "      <td>-876</td>\n",
              "      <td>-248</td>\n",
              "      <td>-16368</td>\n",
              "      <td>30.27</td>\n",
              "      <td>1</td>\n",
              "      <td>1</td>\n",
              "      <td>0</td>\n",
              "      <td>2021-08-19 17:14:37-03:00</td>\n",
              "      <td>...</td>\n",
              "      <td>254.192916</td>\n",
              "      <td>NaN</td>\n",
              "      <td>NaN</td>\n",
              "      <td>NaN</td>\n",
              "      <td>NaN</td>\n",
              "      <td>NaN</td>\n",
              "      <td>NaN</td>\n",
              "      <td>-0.272982</td>\n",
              "      <td>0.212888</td>\n",
              "      <td>5.994325</td>\n",
              "    </tr>\n",
              "    <tr>\n",
              "      <th>...</th>\n",
              "      <td>...</td>\n",
              "      <td>...</td>\n",
              "      <td>...</td>\n",
              "      <td>...</td>\n",
              "      <td>...</td>\n",
              "      <td>...</td>\n",
              "      <td>...</td>\n",
              "      <td>...</td>\n",
              "      <td>...</td>\n",
              "      <td>...</td>\n",
              "      <td>...</td>\n",
              "      <td>...</td>\n",
              "      <td>...</td>\n",
              "      <td>...</td>\n",
              "      <td>...</td>\n",
              "      <td>...</td>\n",
              "      <td>...</td>\n",
              "      <td>...</td>\n",
              "      <td>...</td>\n",
              "      <td>...</td>\n",
              "      <td>...</td>\n",
              "    </tr>\n",
              "    <tr>\n",
              "      <th>571076</th>\n",
              "      <td>2022-10-26T19:34:45-03:00</td>\n",
              "      <td>571077</td>\n",
              "      <td>880</td>\n",
              "      <td>-932</td>\n",
              "      <td>-16256</td>\n",
              "      <td>28.39</td>\n",
              "      <td>1</td>\n",
              "      <td>-1</td>\n",
              "      <td>0</td>\n",
              "      <td>2022-10-26 19:34:45-03:00</td>\n",
              "      <td>...</td>\n",
              "      <td>136.643799</td>\n",
              "      <td>183.059356</td>\n",
              "      <td>177.012993</td>\n",
              "      <td>135.733404</td>\n",
              "      <td>0.000119</td>\n",
              "      <td>-0.000401</td>\n",
              "      <td>-0.002903</td>\n",
              "      <td>0.050204</td>\n",
              "      <td>0.331322</td>\n",
              "      <td>3.357264</td>\n",
              "    </tr>\n",
              "    <tr>\n",
              "      <th>571077</th>\n",
              "      <td>2022-10-26T19:35:46-03:00</td>\n",
              "      <td>571078</td>\n",
              "      <td>1124</td>\n",
              "      <td>-920</td>\n",
              "      <td>-16180</td>\n",
              "      <td>28.44</td>\n",
              "      <td>1</td>\n",
              "      <td>-1</td>\n",
              "      <td>0</td>\n",
              "      <td>2022-10-26 19:35:46-03:00</td>\n",
              "      <td>...</td>\n",
              "      <td>129.300509</td>\n",
              "      <td>183.059675</td>\n",
              "      <td>177.012096</td>\n",
              "      <td>135.729055</td>\n",
              "      <td>0.000319</td>\n",
              "      <td>-0.000897</td>\n",
              "      <td>-0.004348</td>\n",
              "      <td>-0.026976</td>\n",
              "      <td>-0.875249</td>\n",
              "      <td>-7.343290</td>\n",
              "    </tr>\n",
              "    <tr>\n",
              "      <th>571078</th>\n",
              "      <td>2022-10-26T19:36:46-03:00</td>\n",
              "      <td>571079</td>\n",
              "      <td>1008</td>\n",
              "      <td>-912</td>\n",
              "      <td>-16112</td>\n",
              "      <td>28.53</td>\n",
              "      <td>1</td>\n",
              "      <td>-1</td>\n",
              "      <td>0</td>\n",
              "      <td>2022-10-26 19:36:46-03:00</td>\n",
              "      <td>...</td>\n",
              "      <td>132.137595</td>\n",
              "      <td>183.060003</td>\n",
              "      <td>177.011385</td>\n",
              "      <td>135.725773</td>\n",
              "      <td>0.000328</td>\n",
              "      <td>-0.000710</td>\n",
              "      <td>-0.003283</td>\n",
              "      <td>-0.014652</td>\n",
              "      <td>0.393990</td>\n",
              "      <td>2.837086</td>\n",
              "    </tr>\n",
              "    <tr>\n",
              "      <th>571079</th>\n",
              "      <td>2022-10-26T19:37:46-03:00</td>\n",
              "      <td>571080</td>\n",
              "      <td>936</td>\n",
              "      <td>-904</td>\n",
              "      <td>-16244</td>\n",
              "      <td>28.53</td>\n",
              "      <td>1</td>\n",
              "      <td>-1</td>\n",
              "      <td>0</td>\n",
              "      <td>2022-10-26 19:37:46-03:00</td>\n",
              "      <td>...</td>\n",
              "      <td>134.003652</td>\n",
              "      <td>183.059992</td>\n",
              "      <td>177.010846</td>\n",
              "      <td>135.720565</td>\n",
              "      <td>-0.000011</td>\n",
              "      <td>-0.000539</td>\n",
              "      <td>-0.005208</td>\n",
              "      <td>-0.054400</td>\n",
              "      <td>0.282067</td>\n",
              "      <td>1.866057</td>\n",
              "    </tr>\n",
              "    <tr>\n",
              "      <th>571080</th>\n",
              "      <td>2022-10-26T19:38:47-03:00</td>\n",
              "      <td>571081</td>\n",
              "      <td>988</td>\n",
              "      <td>-928</td>\n",
              "      <td>-16144</td>\n",
              "      <td>28.53</td>\n",
              "      <td>1</td>\n",
              "      <td>-1</td>\n",
              "      <td>0</td>\n",
              "      <td>2022-10-26 19:38:47-03:00</td>\n",
              "      <td>...</td>\n",
              "      <td>133.206355</td>\n",
              "      <td>183.060174</td>\n",
              "      <td>177.010112</td>\n",
              "      <td>135.715454</td>\n",
              "      <td>0.000182</td>\n",
              "      <td>-0.000734</td>\n",
              "      <td>-0.005111</td>\n",
              "      <td>0.104593</td>\n",
              "      <td>-0.204279</td>\n",
              "      <td>-0.797297</td>\n",
              "    </tr>\n",
              "  </tbody>\n",
              "</table>\n",
              "<p>571017 rows × 26 columns</p>\n",
              "</div>\n",
              "      <button class=\"colab-df-convert\" onclick=\"convertToInteractive('df-8b1583b4-3d1f-411b-a80a-1a2a28ee5a9a')\"\n",
              "              title=\"Convert this dataframe to an interactive table.\"\n",
              "              style=\"display:none;\">\n",
              "        \n",
              "  <svg xmlns=\"http://www.w3.org/2000/svg\" height=\"24px\"viewBox=\"0 0 24 24\"\n",
              "       width=\"24px\">\n",
              "    <path d=\"M0 0h24v24H0V0z\" fill=\"none\"/>\n",
              "    <path d=\"M18.56 5.44l.94 2.06.94-2.06 2.06-.94-2.06-.94-.94-2.06-.94 2.06-2.06.94zm-11 1L8.5 8.5l.94-2.06 2.06-.94-2.06-.94L8.5 2.5l-.94 2.06-2.06.94zm10 10l.94 2.06.94-2.06 2.06-.94-2.06-.94-.94-2.06-.94 2.06-2.06.94z\"/><path d=\"M17.41 7.96l-1.37-1.37c-.4-.4-.92-.59-1.43-.59-.52 0-1.04.2-1.43.59L10.3 9.45l-7.72 7.72c-.78.78-.78 2.05 0 2.83L4 21.41c.39.39.9.59 1.41.59.51 0 1.02-.2 1.41-.59l7.78-7.78 2.81-2.81c.8-.78.8-2.07 0-2.86zM5.41 20L4 18.59l7.72-7.72 1.47 1.35L5.41 20z\"/>\n",
              "  </svg>\n",
              "      </button>\n",
              "      \n",
              "  <style>\n",
              "    .colab-df-container {\n",
              "      display:flex;\n",
              "      flex-wrap:wrap;\n",
              "      gap: 12px;\n",
              "    }\n",
              "\n",
              "    .colab-df-convert {\n",
              "      background-color: #E8F0FE;\n",
              "      border: none;\n",
              "      border-radius: 50%;\n",
              "      cursor: pointer;\n",
              "      display: none;\n",
              "      fill: #1967D2;\n",
              "      height: 32px;\n",
              "      padding: 0 0 0 0;\n",
              "      width: 32px;\n",
              "    }\n",
              "\n",
              "    .colab-df-convert:hover {\n",
              "      background-color: #E2EBFA;\n",
              "      box-shadow: 0px 1px 2px rgba(60, 64, 67, 0.3), 0px 1px 3px 1px rgba(60, 64, 67, 0.15);\n",
              "      fill: #174EA6;\n",
              "    }\n",
              "\n",
              "    [theme=dark] .colab-df-convert {\n",
              "      background-color: #3B4455;\n",
              "      fill: #D2E3FC;\n",
              "    }\n",
              "\n",
              "    [theme=dark] .colab-df-convert:hover {\n",
              "      background-color: #434B5C;\n",
              "      box-shadow: 0px 1px 3px 1px rgba(0, 0, 0, 0.15);\n",
              "      filter: drop-shadow(0px 1px 2px rgba(0, 0, 0, 0.3));\n",
              "      fill: #FFFFFF;\n",
              "    }\n",
              "  </style>\n",
              "\n",
              "      <script>\n",
              "        const buttonEl =\n",
              "          document.querySelector('#df-8b1583b4-3d1f-411b-a80a-1a2a28ee5a9a button.colab-df-convert');\n",
              "        buttonEl.style.display =\n",
              "          google.colab.kernel.accessAllowed ? 'block' : 'none';\n",
              "\n",
              "        async function convertToInteractive(key) {\n",
              "          const element = document.querySelector('#df-8b1583b4-3d1f-411b-a80a-1a2a28ee5a9a');\n",
              "          const dataTable =\n",
              "            await google.colab.kernel.invokeFunction('convertToInteractive',\n",
              "                                                     [key], {});\n",
              "          if (!dataTable) return;\n",
              "\n",
              "          const docLinkHtml = 'Like what you see? Visit the ' +\n",
              "            '<a target=\"_blank\" href=https://colab.research.google.com/notebooks/data_table.ipynb>data table notebook</a>'\n",
              "            + ' to learn more about interactive tables.';\n",
              "          element.innerHTML = '';\n",
              "          dataTable['output_type'] = 'display_data';\n",
              "          await google.colab.output.renderOutput(dataTable, element);\n",
              "          const docLink = document.createElement('div');\n",
              "          docLink.innerHTML = docLinkHtml;\n",
              "          element.appendChild(docLink);\n",
              "        }\n",
              "      </script>\n",
              "    </div>\n",
              "  </div>\n",
              "  "
            ]
          },
          "metadata": {}
        },
        {
          "output_type": "stream",
          "name": "stdout",
          "text": [
            "            entry_id          acelX          acelY          acelZ  \\\n",
            "count  571017.000000  571017.000000  571017.000000  571017.000000   \n",
            "mean   285568.225690    -955.438819    -335.012492  -16214.792330   \n",
            "std    164844.695816     316.572872     339.535644     136.734946   \n",
            "min         1.000000   -6944.000000   -5156.000000  -23620.000000   \n",
            "25%    142818.000000   -1040.000000    -452.000000  -16304.000000   \n",
            "50%    285572.000000    -896.000000    -412.000000  -16228.000000   \n",
            "75%    428326.000000    -784.000000    -364.000000  -16144.000000   \n",
            "max    571081.000000    1132.000000    5408.000000  -14756.000000   \n",
            "\n",
            "         temperatura             U1             U2             U3  \\\n",
            "count  571017.000000  571017.000000  571017.000000  571017.000000   \n",
            "mean       27.868109       0.859339       0.992834      -0.003767   \n",
            "std         2.150573       0.511407       0.119503       0.061403   \n",
            "min        22.650000      -1.000000      -1.000000      -1.000000   \n",
            "25%        26.410000       1.000000       1.000000       0.000000   \n",
            "50%        27.680000       1.000000       1.000000       0.000000   \n",
            "75%        29.190000       1.000000       1.000000       0.000000   \n",
            "max        39.780000       1.000000       1.000000       1.000000   \n",
            "\n",
            "        ntemperatura    AceleraçãoX  ...            anZ        MedianX  \\\n",
            "count  571017.000000  571017.000000  ...  571017.000000  570018.000000   \n",
            "mean        0.278681      -0.572074  ...     248.540654     181.179409   \n",
            "std         0.021506       0.189550  ...      18.140696       1.178809   \n",
            "min         0.226500      -4.157754  ...       2.030914     173.839914   \n",
            "25%         0.264100      -0.622705  ...     241.733594     181.390583   \n",
            "50%         0.276800      -0.536484  ...     246.037511     181.452060   \n",
            "75%         0.291900      -0.469424  ...     251.494053     181.531471   \n",
            "max         0.397800       0.677791  ...     359.584820     183.098526   \n",
            "\n",
            "             MedianY        MedianZ           MDx            MDy  \\\n",
            "count  570018.000000  570018.000000  5.700170e+05  570017.000000   \n",
            "mean      183.379198     248.620330  5.740486e-06      -0.000012   \n",
            "std         1.075746      17.302944  4.590595e-04       0.000471   \n",
            "min       177.010112     135.715454 -2.362598e-02      -0.012402   \n",
            "25%       182.822640     242.547287 -1.780827e-04      -0.000208   \n",
            "50%       183.151099     245.785008  6.603433e-07       0.000002   \n",
            "75%       183.525955     249.420612  1.798463e-04       0.000210   \n",
            "max       185.851266     334.617655  2.622009e-02       0.025190   \n",
            "\n",
            "                 MDz            axD            ayD            azD  \n",
            "count  570017.000000  571016.000000  571016.000000  571016.000000  \n",
            "mean       -0.000230       0.000011       0.000002      -0.000163  \n",
            "std         0.008336       0.264962       0.310916       4.404733  \n",
            "min        -0.275019      -8.571378     -12.782945     -39.249006  \n",
            "25%        -0.002904      -0.171263      -0.199614      -2.701708  \n",
            "50%        -0.000031      -0.000158       0.000277       0.003103  \n",
            "75%         0.002842       0.171046       0.199731       2.698671  \n",
            "max         0.335308       8.288211      14.534635      49.225528  \n",
            "\n",
            "[8 rows x 24 columns]\n"
          ]
        }
      ]
    },
    {
      "cell_type": "code",
      "source": [
        "start_date = pd.to_datetime('2022-06-20 15:00:00 -03')  #definir a data desejada\n",
        "\n",
        "m3 = (dados['tempo']<start_date)\n",
        "\n",
        "teste_dados = dados[m3]\n",
        "\n",
        "fig2=px.line(teste_dados,x='tempo',y=['MedianX','MedianY','MedianZ'],title=\"Médias Móveis\",template=\"plotly_white\",markers=True,hover_name='temperatura')\n",
        "fig2['data'][0]['line']['color']='rgb(148,0,211)'\n",
        "fig2['data'][1]['line']['color']='rgb(255,140,0)'\n",
        "fig2['data'][2]['line']['color']='rgb(3,187,133)'\n",
        "\n",
        "#Códigos para melhorar o grafico\n",
        "fig2.update_traces(line=dict(width=4)) #Define aqui a largura das linhas do grafico neste caso com largura \n",
        "fig2.update_layout(font_family=\"Courier New\",font_size = 16) #Define aqui o tipo de Fonte e o tamanho\n",
        "fig2.update_traces(patch={\"line\": { \"dash\": 'dot'}}, selector={\"legendgroup\": \"limite\"})  #Define aqui o tipo de linha para a linha do limite\n",
        "fig2.update_layout(legend_title=dict(text = '')) #Coloca um texto explicando as legendas.. neste caso deixei sem\n",
        "fig2.update_layout(xaxis_title='Tempo',  yaxis_title='Leitura Sensor (Graus)') #titulos dos eixos X e Y\n",
        "\n",
        "#Configuração para deixar a opção de baixar a imagem com maior resolução.\n",
        "config = {\n",
        "  'toImageButtonOptions': {\n",
        "    'format': 'jpeg', # one of png, svg, jpeg, webp\n",
        "    'filename': 'custom_image',\n",
        "\n",
        "    'scale':3 # Multiply title/legend/axis/canvas sizes by this factor\n",
        "  }\n",
        "}\n",
        "\n",
        "fig2.show(config=config)"
      ],
      "metadata": {
        "id": "0SyMXI9ujO-6"
      },
      "execution_count": null,
      "outputs": []
    },
    {
      "cell_type": "markdown",
      "source": [
        "### **TEMPERATURA COM DADOS COMPLETOS**"
      ],
      "metadata": {
        "id": "czXCRjYIf5pH"
      }
    },
    {
      "cell_type": "code",
      "source": [
        "start_date = pd.to_datetime('2022-06-20 15:00:00 -03')  #definir a data desejada\n",
        "\n",
        "m3 = (dados['tempo']<start_date)\n",
        "\n",
        "teste_dados = dados[m3]\n",
        "\n",
        "fig2=px.line(teste_dados,x='tempo',y=['ntemperatura'],title=\"Temperatura\",template=\"plotly_white\",markers=True,hover_name='temperatura')\n",
        "fig2['data'][0]['line']['color']='rgb(255,0,0)'\n",
        "\n",
        "#Códigos para melhorar o grafico\n",
        "fig2.update_traces(line=dict(width=4)) #Define aqui a largura das linhas do grafico neste caso com largura \n",
        "fig2.update_layout(font_family=\"Courier New\",font_size = 16) #Define aqui o tipo de Fonte e o tamanho\n",
        "fig2.update_traces(patch={\"line\": { \"dash\": 'dot'}}, selector={\"legendgroup\": \"limite\"})  #Define aqui o tipo de linha para a linha do limite\n",
        "fig2.update_layout(legend_title=dict(text = '')) #Coloca um texto explicando as legendas.. neste caso deixei sem\n",
        "fig2.update_layout(xaxis_title='Tempo',  yaxis_title='Leitura Sensor (ºC)') #titulos dos eixos X e Y\n",
        "\n",
        "#Configuração para deixar a opção de baixar a imagem com maior resolução.\n",
        "config = {\n",
        "  'toImageButtonOptions': {\n",
        "    'format': 'jpeg', # one of png, svg, jpeg, webp\n",
        "    'filename': 'custom_image',\n",
        "\n",
        "    'scale':3 # Multiply title/legend/axis/canvas sizes by this factor\n",
        "  }\n",
        "}\n",
        "\n",
        "fig2.show(config=config)"
      ],
      "metadata": {
        "id": "F6bqpqxogWXv"
      },
      "execution_count": null,
      "outputs": []
    },
    {
      "cell_type": "markdown",
      "source": [
        "### **GRÁFICO DE ACELERAÇÃO**"
      ],
      "metadata": {
        "id": "ef0h9pZlhX-y"
      }
    },
    {
      "cell_type": "code",
      "source": [
        "start_date = pd.to_datetime('2022-06-20 15:00:00 -03')  #definir a data desejada\n",
        "\n",
        "\n",
        "m1 = (dados['tempo']<start_date)\n",
        "\n",
        "teste_dados = dados[m1]\n",
        "#Forma de plotar em ploty\n",
        "fig2=px.line(teste_dados,x='tempo',y=['acelX','acelY','acelZ'],title=\"Acelerações (bits)\",template=\"plotly_white\",markers=True,hover_name='ntemperatura')\n",
        "fig2['data'][0]['line']['color']='rgb(148,0,211)'\n",
        "fig2['data'][1]['line']['color']='rgb(255,140,0)'\n",
        "fig2['data'][2]['line']['color']='rgb(3,187,133)'\n",
        "\n",
        "#Códigos para melhorar o grafico\n",
        "fig2.update_traces(line=dict(width=4)) #Define aqui a largura das linhas do grafico neste caso com largura \n",
        "fig2.update_layout(font_family=\"Courier New\",font_size = 16) #Define aqui o tipo de Fonte e o tamanho\n",
        "fig2.update_traces(patch={\"line\": { \"dash\": 'dot'}}, selector={\"legendgroup\": \"limite\"})  #Define aqui o tipo de linha para a linha do limite\n",
        "fig2.update_layout(legend_title=dict(text = '')) #Coloca um texto explicando as legendas.. neste caso deixei sem\n",
        "fig2.update_layout(xaxis_title='Tempo',  yaxis_title='Leitura Sensor (bits)') #titulos dos eixos X e Y\n",
        "\n",
        "#Configuração para deixar a opção de baixar a imagem com maior resolução.\n",
        "config = {\n",
        "  'toImageButtonOptions': {\n",
        "    'format': 'jpeg', # one of png, svg, jpeg, webp\n",
        "    'filename': 'custom_image',\n",
        "\n",
        "    'scale':3 # Multiply title/legend/axis/canvas sizes by this factor\n",
        "  }\n",
        "}\n",
        "\n",
        "fig2.show(config=config)"
      ],
      "metadata": {
        "id": "28IhlK2E2Ced"
      },
      "execution_count": null,
      "outputs": []
    },
    {
      "cell_type": "code",
      "source": [
        "start_date = pd.to_datetime('2022-06-20 15:00:00 -03')  #definir a data desejada\n",
        "\n",
        "\n",
        "m1 = (dados['tempo']<start_date)\n",
        "\n",
        "teste_dados = dados[m1]\n",
        "#Forma de plotar em ploty\n",
        "fig2=px.line(teste_dados,x='tempo',y=['anX','anY','anZ'],title=\"Ângulos\",template=\"plotly_white\",markers=True,hover_name='ntemperatura')\n",
        "fig2['data'][0]['line']['color']='rgb(148,0,211)'\n",
        "fig2['data'][1]['line']['color']='rgb(255,140,0)'\n",
        "fig2['data'][2]['line']['color']='rgb(3,187,133)'\n",
        "\n",
        "#Códigos para melhorar o grafico\n",
        "fig2.update_traces(line=dict(width=4)) #Define aqui a largura das linhas do grafico neste caso com largura \n",
        "fig2.update_layout(font_family=\"Courier New\",font_size = 16) #Define aqui o tipo de Fonte e o tamanho\n",
        "fig2.update_traces(patch={\"line\": { \"dash\": 'dot'}}, selector={\"legendgroup\": \"limite\"})  #Define aqui o tipo de linha para a linha do limite\n",
        "fig2.update_layout(legend_title=dict(text = '')) #Coloca um texto explicando as legendas.. neste caso deixei sem\n",
        "fig2.update_layout(xaxis_title='Tempo',  yaxis_title='Leitura Sensor (Graus)') #titulos dos eixos X e Y\n",
        "\n",
        "#Configuração para deixar a opção de baixar a imagem com maior resolução.\n",
        "config = {\n",
        "  'toImageButtonOptions': {\n",
        "    'format': 'jpeg', # one of png, svg, jpeg, webp\n",
        "    'filename': 'custom_image',\n",
        "\n",
        "    'scale':3 # Multiply title/legend/axis/canvas sizes by this factor\n",
        "  }\n",
        "}\n",
        "\n",
        "fig2.show(config=config)"
      ],
      "metadata": {
        "id": "2XYnbWGThd6A"
      },
      "execution_count": null,
      "outputs": []
    },
    {
      "cell_type": "code",
      "source": [
        "start_date = pd.to_datetime('2022-06-20 15:00:00 -03')  #definir a data desejada\n",
        "\n",
        "\n",
        "m1 = (dados['tempo']<start_date)\n",
        "\n",
        "teste_dados = dados[m1]\n",
        "#Forma de plotar em ploty\n",
        "fig2=px.line(teste_dados,x='tempo',y=['AceleraçãoX','AceleraçãoY','AceleraçãoZ'],title=\"Acelerações (m/s²)\",template=\"plotly_white\",markers=True,hover_name='ntemperatura')\n",
        "fig2['data'][0]['line']['color']='rgb(148,0,211)'\n",
        "fig2['data'][1]['line']['color']='rgb(255,140,0)'\n",
        "fig2['data'][2]['line']['color']='rgb(3,187,133)'\n",
        "\n",
        "#Códigos para melhorar o grafico\n",
        "fig2.update_traces(line=dict(width=4)) #Define aqui a largura das linhas do grafico neste caso com largura \n",
        "fig2.update_layout(font_family=\"Courier New\",font_size = 16) #Define aqui o tipo de Fonte e o tamanho\n",
        "fig2.update_traces(patch={\"line\": { \"dash\": 'dot'}}, selector={\"legendgroup\": \"limite\"})  #Define aqui o tipo de linha para a linha do limite\n",
        "fig2.update_layout(legend_title=dict(text = '')) #Coloca um texto explicando as legendas.. neste caso deixei sem\n",
        "fig2.update_layout(xaxis_title='Tempo',  yaxis_title='Leitura Sensor (m/s²)') #titulos dos eixos X e Y\n",
        "\n",
        "#Configuração para deixar a opção de baixar a imagem com maior resolução.\n",
        "config = {\n",
        "  'toImageButtonOptions': {\n",
        "    'format': 'jpeg', # one of png, svg, jpeg, webp\n",
        "    'filename': 'custom_image',\n",
        "\n",
        "    'scale':3 # Multiply title/legend/axis/canvas sizes by this factor\n",
        "  }\n",
        "}\n",
        "\n",
        "fig2.show(config=config)"
      ],
      "metadata": {
        "id": "1I1dRKhXid5I"
      },
      "execution_count": null,
      "outputs": []
    },
    {
      "cell_type": "markdown",
      "source": [
        "### **UMIDADES**"
      ],
      "metadata": {
        "id": "mgR1qYdcvWU9"
      }
    },
    {
      "cell_type": "code",
      "source": [
        "start_date = pd.to_datetime('2022-06-20 15:00:00 -03')  #definir a data desejada\n",
        "\n",
        "\n",
        "m1 = (dados['tempo']<start_date)\n",
        "\n",
        "teste_dados = dados[m1]\n",
        "#Forma de plotar em ploty\n",
        "fig2=px.line(teste_dados,x='tempo',y=['U1','U2','U3'],title=\"Umidades\",template=\"plotly_white\",markers=True,hover_name='ntemperatura')\n",
        "fig2['data'][0]['line']['color']='rgb(135,206,250)'\n",
        "fig2['data'][1]['line']['color']='rgb(0,191,255)'\n",
        "fig2['data'][2]['line']['color']='rgb(25,25,112)'\n",
        "\n",
        "#Códigos para melhorar o grafico\n",
        "fig2.update_traces(line=dict(width=4)) #Define aqui a largura das linhas do grafico neste caso com largura \n",
        "fig2.update_layout(font_family=\"Courier New\",font_size = 16) #Define aqui o tipo de Fonte e o tamanho\n",
        "fig2.update_traces(patch={\"line\": { \"dash\": 'dot'}}, selector={\"legendgroup\": \"limite\"})  #Define aqui o tipo de linha para a linha do limite\n",
        "fig2.update_layout(legend_title=dict(text = '')) #Coloca um texto explicando as legendas.. neste caso deixei sem\n",
        "fig2.update_layout(xaxis_title='Tempo',  yaxis_title='Leitura Sensor (bits)') #titulos dos eixos X e Y\n",
        "\n",
        "#Configuração para deixar a opção de baixar a imagem com maior resolução.\n",
        "config = {\n",
        "  'toImageButtonOptions': {\n",
        "    'format': 'jpeg', # one of png, svg, jpeg, webp\n",
        "    'filename': 'custom_image',\n",
        "\n",
        "    'scale':3 # Multiply title/legend/axis/canvas sizes by this factor\n",
        "  }\n",
        "}\n",
        "\n",
        "fig2.show(config=config)"
      ],
      "metadata": {
        "id": "e1_NcgFOvbZv"
      },
      "execution_count": null,
      "outputs": []
    },
    {
      "cell_type": "markdown",
      "source": [
        "### **GRÁFICOS COM TODOS OS DADOS**"
      ],
      "metadata": {
        "id": "tXBzpT1YvYBM"
      }
    },
    {
      "cell_type": "code",
      "source": [
        "start_date = pd.to_datetime('2022-06-20 15:00:00 -03')  #definir a data desejada\n",
        "\n",
        "\n",
        "m1 = (dados['tempo']<start_date)\n",
        "\n",
        "teste_dados = dados[m1]\n",
        "#Forma de plotar em ploty\n",
        "\n",
        "fig2=px.line(teste_dados,x='tempo',y=['acelX','acelY','acelZ','ntemperatura','U1','U2','U3'],title=\"Teste em Campo - Estufa UFF\",template=\"plotly_white\",markers=True,hover_name='temperatura')\n",
        "fig2['data'][0]['line']['color']='rgb(148,0,211)'\n",
        "fig2['data'][1]['line']['color']='rgb(255,140,0)'\n",
        "fig2['data'][2]['line']['color']='rgb(3,187,133)'\n",
        "fig2['data'][3]['line']['color']='rgb(255,0,0)'\n",
        "fig2['data'][4]['line']['color']='rgb(135,206,250)'\n",
        "fig2['data'][5]['line']['color']='rgb(0,191,255)'\n",
        "fig2['data'][6]['line']['color']='rgb(25,25,112)'\n",
        "\n",
        "#Códigos para melhorar o grafico\n",
        "fig2.update_traces(line=dict(width=4)) #Define aqui a largura das linhas do grafico neste caso com largura \n",
        "fig2.update_layout(font_family=\"Courier New\",font_size = 16) #Define aqui o tipo de Fonte e o tamanho\n",
        "fig2.update_traces(patch={\"line\": { \"dash\": 'dot'}}, selector={\"legendgroup\": \"limite\"})  #Define aqui o tipo de linha para a linha do limite\n",
        "fig2.update_layout(legend_title=dict(text = '')) #Coloca um texto explicando as legendas.. neste caso deixei sem\n",
        "fig2.update_layout(xaxis_title='Tempo',  yaxis_title='Leitura Sensor (bits)') #titulos dos eixos X e Y\n",
        "\n",
        "#Configuração para deixar a opção de baixar a imagem com maior resolução.\n",
        "config = {\n",
        "  'toImageButtonOptions': {\n",
        "    'format': 'jpeg', # one of png, svg, jpeg, webp\n",
        "    'filename': 'custom_image',\n",
        "\n",
        "    'scale':3 # Multiply title/legend/axis/canvas sizes by this factor\n",
        "  }\n",
        "}\n",
        "\n",
        "fig2.show(config=config)"
      ],
      "metadata": {
        "id": "LTHIilzsxHQX"
      },
      "execution_count": null,
      "outputs": []
    },
    {
      "cell_type": "markdown",
      "source": [
        "### **REDUZINDO O TAMANHO DOS DADOS**"
      ],
      "metadata": {
        "id": "eSeEyWEPmU8Z"
      }
    },
    {
      "cell_type": "code",
      "source": [
        "intervalo = 100  #De quantos em quantos dados serão utilizados do dataframe antigo\n",
        "nindex = range(0,len(dados),intervalo)\n",
        "dados_reduzido = dados.iloc[nindex,:]\n",
        "print(dados_reduzido)"
      ],
      "metadata": {
        "id": "rmn00ABDmfVa"
      },
      "execution_count": null,
      "outputs": []
    },
    {
      "cell_type": "markdown",
      "source": [
        "### **TEMPERATURA COM DADOS REDUZIDOS**"
      ],
      "metadata": {
        "id": "MlgiJnRrm5b3"
      }
    },
    {
      "cell_type": "code",
      "source": [
        "start_date = pd.to_datetime('2022-06-20 15:00:00 -03')  #definir a data desejada\n",
        "\n",
        "m3 = (dados_reduzido['tempo']<start_date)\n",
        "\n",
        "teste_dados = dados_reduzido[m3]\n",
        "\n",
        "fig2=px.line(teste_dados,x='tempo',y=['ntemperatura'],title=\"Temperatura\",template=\"plotly_white\",markers=True,hover_name='temperatura')\n",
        "fig2['data'][0]['line']['color']='rgb(255,0,0)'\n",
        "\n",
        "#Códigos para melhorar o grafico\n",
        "fig2.update_traces(line=dict(width=4)) #Define aqui a largura das linhas do grafico neste caso com largura \n",
        "fig2.update_layout(font_family=\"Courier New\",font_size = 16) #Define aqui o tipo de Fonte e o tamanho\n",
        "fig2.update_traces(patch={\"line\": { \"dash\": 'dot'}}, selector={\"legendgroup\": \"limite\"})  #Define aqui o tipo de linha para a linha do limite\n",
        "fig2.update_layout(legend_title=dict(text = '')) #Coloca um texto explicando as legendas.. neste caso deixei sem\n",
        "fig2.update_layout(xaxis_title='Tempo',  yaxis_title='Leitura Sensor (ºC)') #titulos dos eixos X e Y\n",
        "\n",
        "#Configuração para deixar a opção de baixar a imagem com maior resolução.\n",
        "config = {\n",
        "  'toImageButtonOptions': {\n",
        "    'format': 'jpeg', # one of png, svg, jpeg, webp\n",
        "    'filename': 'custom_image',\n",
        "\n",
        "    'scale':3 # Multiply title/legend/axis/canvas sizes by this factor\n",
        "  }\n",
        "}\n",
        "\n",
        "fig2.show(config=config)"
      ],
      "metadata": {
        "id": "U9NUFV4BnF1n"
      },
      "execution_count": null,
      "outputs": []
    },
    {
      "cell_type": "markdown",
      "source": [
        "### **GRÁFICOS DE ACELERAÇÃO COM DADOS REDUZIDOS**"
      ],
      "metadata": {
        "id": "tUwql5uPm9ns"
      }
    },
    {
      "cell_type": "code",
      "source": [
        "start_date = pd.to_datetime('2022-06-20 15:00:00 -03')  #definir a data desejada\n",
        "\n",
        "\n",
        "m1 = (dados_reduzido['tempo']<start_date)\n",
        "\n",
        "teste_dados = dados_reduzido[m1]\n",
        "#Forma de plotar em ploty\n",
        "fig2=px.line(teste_dados,x='tempo',y=['anX','anY','anZ'],title=\"Ângulos\",template=\"plotly_white\",markers=True,hover_name='ntemperatura')\n",
        "fig2['data'][0]['line']['color']='rgb(148,0,211)'\n",
        "fig2['data'][1]['line']['color']='rgb(255,140,0)'\n",
        "fig2['data'][2]['line']['color']='rgb(3,187,133)'\n",
        "\n",
        "#Códigos para melhorar o grafico\n",
        "fig2.update_traces(line=dict(width=4)) #Define aqui a largura das linhas do grafico neste caso com largura \n",
        "fig2.update_layout(font_family=\"Courier New\",font_size = 16) #Define aqui o tipo de Fonte e o tamanho\n",
        "fig2.update_traces(patch={\"line\": { \"dash\": 'dot'}}, selector={\"legendgroup\": \"limite\"})  #Define aqui o tipo de linha para a linha do limite\n",
        "fig2.update_layout(legend_title=dict(text = '')) #Coloca um texto explicando as legendas.. neste caso deixei sem\n",
        "fig2.update_layout(xaxis_title='Tempo',  yaxis_title='Leitura Sensor (Graus)') #titulos dos eixos X e Y\n",
        "\n",
        "#Configuração para deixar a opção de baixar a imagem com maior resolução.\n",
        "config = {\n",
        "  'toImageButtonOptions': {\n",
        "    'format': 'jpeg', # one of png, svg, jpeg, webp\n",
        "    'filename': 'custom_image',\n",
        "\n",
        "    'scale':3 # Multiply title/legend/axis/canvas sizes by this factor\n",
        "  }\n",
        "}\n",
        "\n",
        "fig2.show(config=config)"
      ],
      "metadata": {
        "id": "O2MLIOoXn2Va"
      },
      "execution_count": null,
      "outputs": []
    },
    {
      "cell_type": "code",
      "source": [
        "start_date = pd.to_datetime('2022-06-20 15:00:00 -03')  #definir a data desejada\n",
        "\n",
        "\n",
        "m1 = (dados_reduzido['tempo']<start_date)\n",
        "\n",
        "teste_dados = dados_reduzido[m1]\n",
        "#Forma de plotar em ploty\n",
        "fig2=px.line(teste_dados,x='tempo',y=['AceleraçãoX','AceleraçãoY','AceleraçãoZ'],title=\"Acelerações (m/s²)\",template=\"plotly_white\",markers=True,hover_name='ntemperatura')\n",
        "fig2['data'][0]['line']['color']='rgb(148,0,211)'\n",
        "fig2['data'][1]['line']['color']='rgb(255,140,0)'\n",
        "fig2['data'][2]['line']['color']='rgb(3,187,133)'\n",
        "\n",
        "#Códigos para melhorar o grafico\n",
        "fig2.update_traces(line=dict(width=4)) #Define aqui a largura das linhas do grafico neste caso com largura \n",
        "fig2.update_layout(font_family=\"Courier New\",font_size = 16) #Define aqui o tipo de Fonte e o tamanho\n",
        "fig2.update_traces(patch={\"line\": { \"dash\": 'dot'}}, selector={\"legendgroup\": \"limite\"})  #Define aqui o tipo de linha para a linha do limite\n",
        "fig2.update_layout(legend_title=dict(text = '')) #Coloca um texto explicando as legendas.. neste caso deixei sem\n",
        "fig2.update_layout(xaxis_title='Tempo',  yaxis_title='Leitura Sensor (m/s²)') #titulos dos eixos X e Y\n",
        "\n",
        "#Configuração para deixar a opção de baixar a imagem com maior resolução.\n",
        "config = {\n",
        "  'toImageButtonOptions': {\n",
        "    'format': 'jpeg', # one of png, svg, jpeg, webp\n",
        "    'filename': 'custom_image',\n",
        "\n",
        "    'scale':3 # Multiply title/legend/axis/canvas sizes by this factor\n",
        "  }\n",
        "}\n",
        "\n",
        "fig2.show(config=config)"
      ],
      "metadata": {
        "id": "1FXSU-DHoFsJ"
      },
      "execution_count": null,
      "outputs": []
    },
    {
      "cell_type": "markdown",
      "source": [
        "### **UMIDADE REDUZIDA**"
      ],
      "metadata": {
        "id": "Og_8YqrazkLF"
      }
    },
    {
      "cell_type": "code",
      "source": [
        "start_date = pd.to_datetime('2022-06-20 15:00:00 -03')  #definir a data desejada\n",
        "\n",
        "\n",
        "m1 = (dados_reduzido['tempo']<start_date)\n",
        "\n",
        "teste_dados = dados_reduzido[m1]\n",
        "#Forma de plotar em ploty\n",
        "fig2=px.line(teste_dados,x='tempo',y=['U1','U2','U3'],title=\"Umidades (com temperatura)\",template=\"plotly_white\",markers=True,hover_name='ntemperatura')\n",
        "fig2['data'][0]['line']['color']='rgb(135,206,250)'\n",
        "fig2['data'][1]['line']['color']='rgb(0,191,255)'\n",
        "fig2['data'][2]['line']['color']='rgb(25,25,112)'\n",
        "\n",
        "#Códigos para melhorar o grafico\n",
        "fig2.update_traces(line=dict(width=4)) #Define aqui a largura das linhas do grafico neste caso com largura \n",
        "fig2.update_layout(font_family=\"Courier New\",font_size = 16) #Define aqui o tipo de Fonte e o tamanho\n",
        "fig2.update_traces(patch={\"line\": { \"dash\": 'dot'}}, selector={\"legendgroup\": \"limite\"})  #Define aqui o tipo de linha para a linha do limite\n",
        "fig2.update_layout(legend_title=dict(text = '')) #Coloca um texto explicando as legendas.. neste caso deixei sem\n",
        "fig2.update_layout(xaxis_title='Tempo',  yaxis_title='Leitura Sensor (bits)') #titulos dos eixos X e Y\n",
        "\n",
        "#Configuração para deixar a opção de baixar a imagem com maior resolução.\n",
        "config = {\n",
        "  'toImageButtonOptions': {\n",
        "    'format': 'jpeg', # one of png, svg, jpeg, webp\n",
        "    'filename': 'custom_image',\n",
        "\n",
        "    'scale':3 # Multiply title/legend/axis/canvas sizes by this factor\n",
        "  }\n",
        "}\n",
        "\n",
        "fig2.show(config=config)"
      ],
      "metadata": {
        "id": "qyu3Iv61zntC"
      },
      "execution_count": null,
      "outputs": []
    },
    {
      "cell_type": "markdown",
      "source": [
        "### **DADOS TOTAIS REDUZIDOS**"
      ],
      "metadata": {
        "id": "Eb9Th_JfzlxL"
      }
    },
    {
      "cell_type": "code",
      "source": [
        "start_date = pd.to_datetime('2022-06-20 15:00:00 -03')  #definir a data desejada\n",
        "\n",
        "\n",
        "m1 = (dados_reduzido['tempo']<start_date)\n",
        "\n",
        "teste_dados = dados_reduzido[m1]\n",
        "#Forma de plotar em ploty\n",
        "\n",
        "fig2=px.line(teste_dados,x='tempo',y=['anX','anY','anZ','ntemperatura','U1','U2','U3'],title=\"Teste em Campo - Estufa UFF\",template=\"plotly_white\",markers=True,hover_name='temperatura')\n",
        "fig2['data'][0]['line']['color']='rgb(148,0,211)'\n",
        "fig2['data'][1]['line']['color']='rgb(255,140,0)'\n",
        "fig2['data'][2]['line']['color']='rgb(3,187,133)'\n",
        "fig2['data'][3]['line']['color']='rgb(255,0,0)'\n",
        "fig2['data'][4]['line']['color']='rgb(135,206,250)'\n",
        "fig2['data'][5]['line']['color']='rgb(0,191,255)'\n",
        "fig2['data'][6]['line']['color']='rgb(25,25,112)'\n",
        "\n",
        "#Códigos para melhorar o grafico\n",
        "fig2.update_traces(line=dict(width=4)) #Define aqui a largura das linhas do grafico neste caso com largura \n",
        "fig2.update_layout(font_family=\"Courier New\",font_size = 16) #Define aqui o tipo de Fonte e o tamanho\n",
        "fig2.update_traces(patch={\"line\": { \"dash\": 'dot'}}, selector={\"legendgroup\": \"limite\"})  #Define aqui o tipo de linha para a linha do limite\n",
        "fig2.update_layout(legend_title=dict(text = '')) #Coloca um texto explicando as legendas.. neste caso deixei sem\n",
        "fig2.update_layout(xaxis_title='Tempo',  yaxis_title='Leitura Sensor (graus; ºC; bits)') #titulos dos eixos X e Y\n",
        "\n",
        "#Configuração para deixar a opção de baixar a imagem com maior resolução.\n",
        "config = {\n",
        "  'toImageButtonOptions': {\n",
        "    'format': 'jpeg', # one of png, svg, jpeg, webp\n",
        "    'filename': 'custom_image',\n",
        "\n",
        "    'scale':3 # Multiply title/legend/axis/canvas sizes by this factor\n",
        "  }\n",
        "}\n",
        "\n",
        "fig2.show(config=config)"
      ],
      "metadata": {
        "id": "_w4EwpYazy7i"
      },
      "execution_count": null,
      "outputs": []
    },
    {
      "cell_type": "markdown",
      "source": [
        "### **ANÁLISE DOS DADOS**"
      ],
      "metadata": {
        "id": "apM9rZ3Tsyxn"
      }
    },
    {
      "cell_type": "code",
      "source": [
        "#SEM INCLINAÇÃO CONTROLADO RESIDÊNCIA\n",
        "start_date = pd.to_datetime('2021-08-22 15:00:00 -03')  #definir a data desejada\n",
        "end_date = pd.to_datetime('2021-09-18 15:00:00 -03')  #definir a data desejada\n",
        "m1 = (dados['tempo']>start_date)\n",
        "m2 = (dados['tempo']<end_date)\n",
        "teste_dados = dados[m2&m1]\n",
        "print(\"Dados antes da borracha\")\n",
        "display(teste_dados.describe())\n",
        "\n",
        "#COM INCLINAÇÃO CONTROLADO RESIDÊNCIA\n",
        "start_date = pd.to_datetime('2021-09-18 15:00:00 -03')  #definir a data desejada\n",
        "end_date = pd.to_datetime('2021-09-26 15:00:00 -03')  #definir a data desejada\n",
        "m1 = (dados['tempo']>start_date)\n",
        "m2 = (dados['tempo']<end_date)\n",
        "teste_dados = dados[m1&m2]\n",
        "print(\"Dados depois da borracha\")\n",
        "display(teste_dados.describe())\n",
        "\n",
        "#CONTROLADO UNIVERSIDADE\n",
        "start_date = pd.to_datetime('2022-07-30 15:00:00 -03')  #definir a data desejada\n",
        "end_date = pd.to_datetime('2022-10-23 23:00:00 -03')  #definir a data desejada\n",
        "m1 = (dados['tempo']>start_date)\n",
        "m2 = (dados['tempo']<end_date)\n",
        "teste_dados = dados[m2&m1]   ##Linha modificada  O filtro só tinha m2.. tinha que ser m1 E m2... adicionei no código  \n",
        "print(\"Dados teste controlado na universidade - departamento\")\n",
        "display(teste_dados.describe())\n",
        "\n",
        "#EM CAMPO ESTUFA UNIVERSIDADE\n",
        "start_date = pd.to_datetime('2022-03-22 00:00:00 -03')  #definir a data desejada\n",
        "end_date = pd.to_datetime('2022-03-25 11:00:00 -03')  #definir a data desejada\n",
        "m1 = (dados['tempo']>start_date)\n",
        "m2 = (dados['tempo']<end_date)\n",
        "teste_dados = dados[m2&m1]   ##Linha modificada  O filtro só tinha m2.. tinha que ser m1 E m2... adicionei no código  \n",
        "print(\"Dados teste em campo - Estufa\")\n",
        "display(teste_dados.describe())"
      ],
      "metadata": {
        "id": "bcCRn3UhsW7y"
      },
      "execution_count": null,
      "outputs": []
    }
  ]
}